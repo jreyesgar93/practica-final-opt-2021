{
 "cells": [
  {
   "cell_type": "markdown",
   "metadata": {
    "id": "SR2WvM-urxuS"
   },
   "source": [
    "### Base de Datos : Citi Bike\n",
    "\n",
    "+ Citi Bike es un sistema de intercambio de bicicletas públicas de gestión privada que sirve en parte de la ciudad de Nueva York.\n",
    "+ Se dedidío trabajar cone sta base de datos para la optimización de ingresos dependiendo del tipo de pase que ofrece la compañía. \n",
    "\n",
    "### Diccionario de datos:\n",
    "\n",
    "+ Trip Duration (seconds)\n",
    "+ Start Time and Date\n",
    "+ Stop Time and Date\n",
    "+ Start Station Name\n",
    "+ End Station Name\n",
    "+ Station ID\n",
    "+ Station Lat/Long\n",
    "+ Bike ID\n",
    "+ User Type (Customer = 24-hour pass or 3-day pass user; Subscriber = Annual Member)\n",
    "+ Gender (Zero=unknown; 1=male; 2=female)\n",
    "+ Year of Birth\n",
    "\n",
    "Para tener la base de datos lista hicimos algunos supuestos para completarla de acuerdo a la información que necesitamos para modelarla, se crearan las siguientes variables:\n",
    "+ Un id_trip - único por viaje\n",
    "+ Una columna que desagrege *User Type* para tener los 3 tipos de pases que ofrece la compañia\n",
    "+ Una columna que se llama *trip_category* para obtener si el viaje fue : *one way o round trip*\n",
    "\n",
    "Estas columnas se crearon respetando el modelo del negocio y con la información de sus reportes mensuales, en este caso de Diciembre 2019."
   ]
  },
  {
   "cell_type": "code",
   "execution_count": 246,
   "metadata": {
    "colab": {
     "base_uri": "https://localhost:8080/"
    },
    "id": "zOspZR5iI1x3",
    "outputId": "5077ff8b-3316-4932-bb05-b672fc148a14"
   },
   "outputs": [
    {
     "name": "stdout",
     "output_type": "stream",
     "text": [
      "/content/practica-final-opt-2021/notebooks\n"
     ]
    }
   ],
   "source": [
    "cd notebooks/"
   ]
  },
  {
   "cell_type": "code",
   "execution_count": 4,
   "metadata": {
    "colab": {
     "base_uri": "https://localhost:8080/"
    },
    "id": "NVJGsoxRJLQh",
    "outputId": "55ad7270-f1e2-4720-9e8d-2576be8c20df"
   },
   "outputs": [
    {
     "name": "stdout",
     "output_type": "stream",
     "text": [
      "  % Total    % Received % Xferd  Average Speed   Time    Time     Time  Current\n",
      "                                 Dload  Upload   Total   Spent    Left  Speed\n",
      "100 39.1M  100 39.1M    0     0  21.6M      0  0:00:01  0:00:01 --:--:-- 21.6M\n",
      "Archive:  201912-citibike-tripdata.csv.zip\n",
      "  inflating: 201912-citibike-tripdata.csv  \n"
     ]
    }
   ],
   "source": [
    " #Descarga de datos\n",
    " #!curl -O https://s3.amazonaws.com/tripdata/201912-citibike-tripdata.csv.zip\n",
    " #!unzip 201912-citibike-tripdata.csv.zip"
   ]
  },
  {
   "cell_type": "code",
   "execution_count": 248,
   "metadata": {
    "colab": {
     "base_uri": "https://localhost:8080/",
     "height": 336
    },
    "id": "Y6h6jwSnJfoD",
    "outputId": "de14a643-f474-47a9-e79d-118ec6b4ac66"
   },
   "outputs": [
    {
     "data": {
      "text/html": [
       "<div>\n",
       "<style scoped>\n",
       "    .dataframe tbody tr th:only-of-type {\n",
       "        vertical-align: middle;\n",
       "    }\n",
       "\n",
       "    .dataframe tbody tr th {\n",
       "        vertical-align: top;\n",
       "    }\n",
       "\n",
       "    .dataframe thead th {\n",
       "        text-align: right;\n",
       "    }\n",
       "</style>\n",
       "<table border=\"1\" class=\"dataframe\">\n",
       "  <thead>\n",
       "    <tr style=\"text-align: right;\">\n",
       "      <th></th>\n",
       "      <th>tripduration</th>\n",
       "      <th>starttime</th>\n",
       "      <th>stoptime</th>\n",
       "      <th>start station id</th>\n",
       "      <th>start station name</th>\n",
       "      <th>start station latitude</th>\n",
       "      <th>start station longitude</th>\n",
       "      <th>end station id</th>\n",
       "      <th>end station name</th>\n",
       "      <th>end station latitude</th>\n",
       "      <th>end station longitude</th>\n",
       "      <th>bikeid</th>\n",
       "      <th>usertype</th>\n",
       "      <th>birth year</th>\n",
       "      <th>gender</th>\n",
       "    </tr>\n",
       "  </thead>\n",
       "  <tbody>\n",
       "    <tr>\n",
       "      <th>0</th>\n",
       "      <td>602</td>\n",
       "      <td>2019-12-01 00:00:05.5640</td>\n",
       "      <td>2019-12-01 00:10:07.8180</td>\n",
       "      <td>3382</td>\n",
       "      <td>Carroll St &amp; Smith St</td>\n",
       "      <td>40.680611</td>\n",
       "      <td>-73.994758</td>\n",
       "      <td>3304</td>\n",
       "      <td>6 Ave &amp; 9 St</td>\n",
       "      <td>40.668127</td>\n",
       "      <td>-73.983776</td>\n",
       "      <td>41932</td>\n",
       "      <td>Subscriber</td>\n",
       "      <td>1970</td>\n",
       "      <td>1</td>\n",
       "    </tr>\n",
       "    <tr>\n",
       "      <th>1</th>\n",
       "      <td>1206</td>\n",
       "      <td>2019-12-01 00:00:10.9630</td>\n",
       "      <td>2019-12-01 00:20:17.8820</td>\n",
       "      <td>362</td>\n",
       "      <td>Broadway &amp; W 37 St</td>\n",
       "      <td>40.751726</td>\n",
       "      <td>-73.987535</td>\n",
       "      <td>500</td>\n",
       "      <td>Broadway &amp; W 51 St</td>\n",
       "      <td>40.762288</td>\n",
       "      <td>-73.983362</td>\n",
       "      <td>18869</td>\n",
       "      <td>Customer</td>\n",
       "      <td>1999</td>\n",
       "      <td>1</td>\n",
       "    </tr>\n",
       "    <tr>\n",
       "      <th>2</th>\n",
       "      <td>723</td>\n",
       "      <td>2019-12-01 00:00:11.8180</td>\n",
       "      <td>2019-12-01 00:12:14.8310</td>\n",
       "      <td>146</td>\n",
       "      <td>Hudson St &amp; Reade St</td>\n",
       "      <td>40.716250</td>\n",
       "      <td>-74.009106</td>\n",
       "      <td>238</td>\n",
       "      <td>Bank St &amp; Washington St</td>\n",
       "      <td>40.736197</td>\n",
       "      <td>-74.008592</td>\n",
       "      <td>15334</td>\n",
       "      <td>Subscriber</td>\n",
       "      <td>1997</td>\n",
       "      <td>1</td>\n",
       "    </tr>\n",
       "    <tr>\n",
       "      <th>3</th>\n",
       "      <td>404</td>\n",
       "      <td>2019-12-01 00:00:12.2200</td>\n",
       "      <td>2019-12-01 00:06:56.8860</td>\n",
       "      <td>3834</td>\n",
       "      <td>Irving Ave &amp; Halsey St</td>\n",
       "      <td>40.694670</td>\n",
       "      <td>-73.906630</td>\n",
       "      <td>3827</td>\n",
       "      <td>Halsey St &amp; Broadway</td>\n",
       "      <td>40.685650</td>\n",
       "      <td>-73.915640</td>\n",
       "      <td>41692</td>\n",
       "      <td>Customer</td>\n",
       "      <td>1995</td>\n",
       "      <td>1</td>\n",
       "    </tr>\n",
       "    <tr>\n",
       "      <th>4</th>\n",
       "      <td>1059</td>\n",
       "      <td>2019-12-01 00:00:14.7230</td>\n",
       "      <td>2019-12-01 00:17:54.1860</td>\n",
       "      <td>500</td>\n",
       "      <td>Broadway &amp; W 51 St</td>\n",
       "      <td>40.762288</td>\n",
       "      <td>-73.983362</td>\n",
       "      <td>3323</td>\n",
       "      <td>W 106 St &amp; Central Park West</td>\n",
       "      <td>40.798186</td>\n",
       "      <td>-73.960591</td>\n",
       "      <td>40156</td>\n",
       "      <td>Subscriber</td>\n",
       "      <td>1961</td>\n",
       "      <td>1</td>\n",
       "    </tr>\n",
       "  </tbody>\n",
       "</table>\n",
       "</div>"
      ],
      "text/plain": [
       "   tripduration                 starttime  ... birth year  gender\n",
       "0           602  2019-12-01 00:00:05.5640  ...       1970       1\n",
       "1          1206  2019-12-01 00:00:10.9630  ...       1999       1\n",
       "2           723  2019-12-01 00:00:11.8180  ...       1997       1\n",
       "3           404  2019-12-01 00:00:12.2200  ...       1995       1\n",
       "4          1059  2019-12-01 00:00:14.7230  ...       1961       1\n",
       "\n",
       "[5 rows x 15 columns]"
      ]
     },
     "execution_count": 248,
     "metadata": {
      "tags": []
     },
     "output_type": "execute_result"
    }
   ],
   "source": [
    "import pandas as pd\n",
    "\n",
    "data = pd.read_csv('../data/201912-citibike-tripdata.csv.zip')\n",
    "data.head()"
   ]
  },
  {
   "cell_type": "code",
   "execution_count": 249,
   "metadata": {
    "id": "UNLFwfbwX2R2"
   },
   "outputs": [],
   "source": [
    "#Creación de la columna trip_id\n",
    "\n",
    "#generamos los ID's\n",
    "n= len(data.index)\n",
    "digits_range = range(1345,n + 1345)\n",
    "digits_list = list(digits_range)\n",
    "\n",
    "#Agreagamos la columna al df\n",
    "data['trip_id'] = digits_list"
   ]
  },
  {
   "cell_type": "code",
   "execution_count": 250,
   "metadata": {
    "id": "qaaAb_j1L902"
   },
   "outputs": [],
   "source": [
    "#Se obtienen las filas que tienen como usertype \"Customer\"\n",
    "subset_c = data.loc[data['usertype'] == 'Customer']\n",
    "\n",
    "#Se obtienen las filas que tienen como usertype \"Subscriber\"\n",
    "subset_s = data.loc[data['usertype'] == 'Subscriber']"
   ]
  },
  {
   "cell_type": "code",
   "execution_count": 251,
   "metadata": {
    "colab": {
     "base_uri": "https://localhost:8080/"
    },
    "id": "YQZn_XLPbUq4",
    "outputId": "5b0e32a0-bea6-4f21-bb0d-0e8e9440f03b"
   },
   "outputs": [
    {
     "data": {
      "text/plain": [
       "array(['Subscriber', 'Customer'], dtype=object)"
      ]
     },
     "execution_count": 251,
     "metadata": {
      "tags": []
     },
     "output_type": "execute_result"
    }
   ],
   "source": [
    "data['usertype'].unique()"
   ]
  },
  {
   "cell_type": "markdown",
   "metadata": {
    "id": "pUwCKkImaq2C"
   },
   "source": [
    "Esta parte es la que se tiene que dividir en 2 tipo de costumer:\n",
    "+ costumer a =  (24-hour pass)\n",
    "+ costumer b = 3-day pass user\n",
    "\n",
    "De acuerdo a lo obtenido en el reporte de ese mes de CitiBike : https://d21xlh2maitm24.cloudfront.net/nyc/December-2019-Citi-Bike-Monthly-Report.pdf?mtime=20200218125724\n",
    "Se tiene que en el 2019(12) en promedio tuvieron estos pases en cada una de las modalidades que manejan:\n",
    "+ 10,816 single-day passes (91.5%)\n",
    "+ 993 three-day passes (8.4%)"
   ]
  },
  {
   "cell_type": "code",
   "execution_count": 252,
   "metadata": {
    "colab": {
     "base_uri": "https://localhost:8080/"
    },
    "id": "g3jCSK-edWJ-",
    "outputId": "f71b7b91-8f4b-40d4-bb43-953c15814e51"
   },
   "outputs": [
    {
     "name": "stdout",
     "output_type": "stream",
     "text": [
      "Numero de pasese en diciembre de 1 día 71027\n",
      "Numero de pasese en diciembre de 3 días 6598\n"
     ]
    },
    {
     "data": {
      "text/plain": [
       "77625"
      ]
     },
     "execution_count": 252,
     "metadata": {
      "tags": []
     },
     "output_type": "execute_result"
    }
   ],
   "source": [
    "subset_c.shape[0]\n",
    "\n",
    "#Número de pases de 1 día\n",
    "one_day = round(subset_c.shape[0]*.915)\n",
    "\n",
    "#Número de pases de 3 días\n",
    "tree_day = subset_c.shape[0] - one_day\n",
    "\n",
    "print(\"Numero de pasese en diciembre de 1 día\",one_day )\n",
    "print(\"Numero de pasese en diciembre de 3 días\",tree_day )\n",
    "one_day + tree_day"
   ]
  },
  {
   "cell_type": "code",
   "execution_count": 253,
   "metadata": {
    "colab": {
     "base_uri": "https://localhost:8080/"
    },
    "id": "uMLP-kuHfMO_",
    "outputId": "d605323f-f508-4d7b-d28a-a258ad0aa277"
   },
   "outputs": [
    {
     "name": "stderr",
     "output_type": "stream",
     "text": [
      "/usr/local/lib/python3.7/dist-packages/ipykernel_launcher.py:4: SettingWithCopyWarning: \n",
      "A value is trying to be set on a copy of a slice from a DataFrame.\n",
      "Try using .loc[row_indexer,col_indexer] = value instead\n",
      "\n",
      "See the caveats in the documentation: https://pandas.pydata.org/pandas-docs/stable/user_guide/indexing.html#returning-a-view-versus-a-copy\n",
      "  after removing the cwd from sys.path.\n"
     ]
    }
   ],
   "source": [
    "import numpy as np\n",
    "\n",
    "#Creación de columna auxiliar para separar los pases de Costumer en 2\n",
    "subset_c['aux']=np.random.binomial(1,.915,77625)"
   ]
  },
  {
   "cell_type": "code",
   "execution_count": 254,
   "metadata": {
    "colab": {
     "base_uri": "https://localhost:8080/"
    },
    "id": "u2cum15NfMRe",
    "outputId": "d7b90fb9-39fc-4bd4-ec4a-205bed3c51d0"
   },
   "outputs": [
    {
     "name": "stderr",
     "output_type": "stream",
     "text": [
      "/usr/local/lib/python3.7/dist-packages/ipykernel_launcher.py:2: SettingWithCopyWarning: \n",
      "A value is trying to be set on a copy of a slice from a DataFrame.\n",
      "Try using .loc[row_indexer,col_indexer] = value instead\n",
      "\n",
      "See the caveats in the documentation: https://pandas.pydata.org/pandas-docs/stable/user_guide/indexing.html#returning-a-view-versus-a-copy\n",
      "  \n",
      "/usr/local/lib/python3.7/dist-packages/ipykernel_launcher.py:6: SettingWithCopyWarning: \n",
      "A value is trying to be set on a copy of a slice from a DataFrame.\n",
      "Try using .loc[row_indexer,col_indexer] = value instead\n",
      "\n",
      "See the caveats in the documentation: https://pandas.pydata.org/pandas-docs/stable/user_guide/indexing.html#returning-a-view-versus-a-copy\n",
      "  \n"
     ]
    },
    {
     "data": {
      "text/plain": [
       "(955210, 17)"
      ]
     },
     "execution_count": 254,
     "metadata": {
      "tags": []
     },
     "output_type": "execute_result"
    }
   ],
   "source": [
    "#Creación de columna con el nombre de los pases nuevos\n",
    "subset_c['type_pass'] = np.where(subset_c['aux'] == 1, \"one-day\", \"tree-days\")\n",
    "#Borramos la columa auxiliar\n",
    "del subset_c['aux']\n",
    "\n",
    "subset_s['type_pass']='annual'\n",
    "#Juntamos los dos dataframes\n",
    "data = subset_s.append(subset_c, ignore_index=True)\n",
    "data.shape"
   ]
  },
  {
   "cell_type": "code",
   "execution_count": 255,
   "metadata": {
    "colab": {
     "base_uri": "https://localhost:8080/",
     "height": 371
    },
    "id": "_1dvk0B6fMUK",
    "outputId": "fce57379-5662-4a6b-fc6e-16ed9ed3c614"
   },
   "outputs": [
    {
     "data": {
      "text/html": [
       "<div>\n",
       "<style scoped>\n",
       "    .dataframe tbody tr th:only-of-type {\n",
       "        vertical-align: middle;\n",
       "    }\n",
       "\n",
       "    .dataframe tbody tr th {\n",
       "        vertical-align: top;\n",
       "    }\n",
       "\n",
       "    .dataframe thead th {\n",
       "        text-align: right;\n",
       "    }\n",
       "</style>\n",
       "<table border=\"1\" class=\"dataframe\">\n",
       "  <thead>\n",
       "    <tr style=\"text-align: right;\">\n",
       "      <th></th>\n",
       "      <th>tripduration</th>\n",
       "      <th>starttime</th>\n",
       "      <th>stoptime</th>\n",
       "      <th>start station id</th>\n",
       "      <th>start station name</th>\n",
       "      <th>start station latitude</th>\n",
       "      <th>start station longitude</th>\n",
       "      <th>end station id</th>\n",
       "      <th>end station name</th>\n",
       "      <th>end station latitude</th>\n",
       "      <th>end station longitude</th>\n",
       "      <th>bikeid</th>\n",
       "      <th>usertype</th>\n",
       "      <th>birth year</th>\n",
       "      <th>gender</th>\n",
       "      <th>trip_id</th>\n",
       "      <th>type_pass</th>\n",
       "    </tr>\n",
       "  </thead>\n",
       "  <tbody>\n",
       "    <tr>\n",
       "      <th>0</th>\n",
       "      <td>602</td>\n",
       "      <td>2019-12-01 00:00:05.5640</td>\n",
       "      <td>2019-12-01 00:10:07.8180</td>\n",
       "      <td>3382</td>\n",
       "      <td>Carroll St &amp; Smith St</td>\n",
       "      <td>40.680611</td>\n",
       "      <td>-73.994758</td>\n",
       "      <td>3304</td>\n",
       "      <td>6 Ave &amp; 9 St</td>\n",
       "      <td>40.668127</td>\n",
       "      <td>-73.983776</td>\n",
       "      <td>41932</td>\n",
       "      <td>Subscriber</td>\n",
       "      <td>1970</td>\n",
       "      <td>1</td>\n",
       "      <td>1345</td>\n",
       "      <td>annual</td>\n",
       "    </tr>\n",
       "    <tr>\n",
       "      <th>1</th>\n",
       "      <td>723</td>\n",
       "      <td>2019-12-01 00:00:11.8180</td>\n",
       "      <td>2019-12-01 00:12:14.8310</td>\n",
       "      <td>146</td>\n",
       "      <td>Hudson St &amp; Reade St</td>\n",
       "      <td>40.716250</td>\n",
       "      <td>-74.009106</td>\n",
       "      <td>238</td>\n",
       "      <td>Bank St &amp; Washington St</td>\n",
       "      <td>40.736197</td>\n",
       "      <td>-74.008592</td>\n",
       "      <td>15334</td>\n",
       "      <td>Subscriber</td>\n",
       "      <td>1997</td>\n",
       "      <td>1</td>\n",
       "      <td>1347</td>\n",
       "      <td>annual</td>\n",
       "    </tr>\n",
       "    <tr>\n",
       "      <th>2</th>\n",
       "      <td>1059</td>\n",
       "      <td>2019-12-01 00:00:14.7230</td>\n",
       "      <td>2019-12-01 00:17:54.1860</td>\n",
       "      <td>500</td>\n",
       "      <td>Broadway &amp; W 51 St</td>\n",
       "      <td>40.762288</td>\n",
       "      <td>-73.983362</td>\n",
       "      <td>3323</td>\n",
       "      <td>W 106 St &amp; Central Park West</td>\n",
       "      <td>40.798186</td>\n",
       "      <td>-73.960591</td>\n",
       "      <td>40156</td>\n",
       "      <td>Subscriber</td>\n",
       "      <td>1961</td>\n",
       "      <td>1</td>\n",
       "      <td>1349</td>\n",
       "      <td>annual</td>\n",
       "    </tr>\n",
       "    <tr>\n",
       "      <th>3</th>\n",
       "      <td>1257</td>\n",
       "      <td>2019-12-01 00:00:20.3490</td>\n",
       "      <td>2019-12-01 00:21:18.2990</td>\n",
       "      <td>340</td>\n",
       "      <td>Madison St &amp; Clinton St</td>\n",
       "      <td>40.712690</td>\n",
       "      <td>-73.987763</td>\n",
       "      <td>340</td>\n",
       "      <td>Madison St &amp; Clinton St</td>\n",
       "      <td>40.712690</td>\n",
       "      <td>-73.987763</td>\n",
       "      <td>40829</td>\n",
       "      <td>Subscriber</td>\n",
       "      <td>1994</td>\n",
       "      <td>1</td>\n",
       "      <td>1350</td>\n",
       "      <td>annual</td>\n",
       "    </tr>\n",
       "    <tr>\n",
       "      <th>4</th>\n",
       "      <td>624</td>\n",
       "      <td>2019-12-01 00:00:22.0410</td>\n",
       "      <td>2019-12-01 00:10:46.4270</td>\n",
       "      <td>469</td>\n",
       "      <td>Broadway &amp; W 53 St</td>\n",
       "      <td>40.763441</td>\n",
       "      <td>-73.982681</td>\n",
       "      <td>526</td>\n",
       "      <td>E 33 St &amp; 5 Ave</td>\n",
       "      <td>40.747659</td>\n",
       "      <td>-73.984907</td>\n",
       "      <td>24934</td>\n",
       "      <td>Subscriber</td>\n",
       "      <td>1983</td>\n",
       "      <td>1</td>\n",
       "      <td>1351</td>\n",
       "      <td>annual</td>\n",
       "    </tr>\n",
       "  </tbody>\n",
       "</table>\n",
       "</div>"
      ],
      "text/plain": [
       "   tripduration                 starttime  ... trip_id  type_pass\n",
       "0           602  2019-12-01 00:00:05.5640  ...    1345     annual\n",
       "1           723  2019-12-01 00:00:11.8180  ...    1347     annual\n",
       "2          1059  2019-12-01 00:00:14.7230  ...    1349     annual\n",
       "3          1257  2019-12-01 00:00:20.3490  ...    1350     annual\n",
       "4           624  2019-12-01 00:00:22.0410  ...    1351     annual\n",
       "\n",
       "[5 rows x 17 columns]"
      ]
     },
     "execution_count": 255,
     "metadata": {
      "tags": []
     },
     "output_type": "execute_result"
    }
   ],
   "source": [
    "data.head()"
   ]
  },
  {
   "cell_type": "code",
   "execution_count": 256,
   "metadata": {
    "colab": {
     "base_uri": "https://localhost:8080/"
    },
    "id": "yV0VLXacm_07",
    "outputId": "a6625dc5-c8e7-4e5e-ca39-df8dc1366d3b"
   },
   "outputs": [
    {
     "data": {
      "text/plain": [
       "array(['annual', 'one-day', 'tree-days'], dtype=object)"
      ]
     },
     "execution_count": 256,
     "metadata": {
      "tags": []
     },
     "output_type": "execute_result"
    }
   ],
   "source": [
    "data['type_pass'].unique()"
   ]
  },
  {
   "cell_type": "markdown",
   "metadata": {
    "id": "h9xUO8slqMZF"
   },
   "source": [
    "De acuerdo a lo obtenido en el reporte de CitiBike : https://d21xlh2maitm24.cloudfront.net/nyc/December-2019-Citi-Bike-Monthly-Report.pdf?mtime=20200218125724\n",
    "\n",
    "Menciona que hay  43,395 single-trip pases (4.54%)\n",
    "\n"
   ]
  },
  {
   "cell_type": "code",
   "execution_count": 257,
   "metadata": {
    "colab": {
     "base_uri": "https://localhost:8080/",
     "height": 425
    },
    "id": "mck8Sdbom_3R",
    "outputId": "ad271047-f7fc-44ff-bb1b-b2ac99e59852"
   },
   "outputs": [
    {
     "data": {
      "text/html": [
       "<div>\n",
       "<style scoped>\n",
       "    .dataframe tbody tr th:only-of-type {\n",
       "        vertical-align: middle;\n",
       "    }\n",
       "\n",
       "    .dataframe tbody tr th {\n",
       "        vertical-align: top;\n",
       "    }\n",
       "\n",
       "    .dataframe thead th {\n",
       "        text-align: right;\n",
       "    }\n",
       "</style>\n",
       "<table border=\"1\" class=\"dataframe\">\n",
       "  <thead>\n",
       "    <tr style=\"text-align: right;\">\n",
       "      <th></th>\n",
       "      <th>tripduration</th>\n",
       "      <th>starttime</th>\n",
       "      <th>stoptime</th>\n",
       "      <th>start station id</th>\n",
       "      <th>start station name</th>\n",
       "      <th>start station latitude</th>\n",
       "      <th>start station longitude</th>\n",
       "      <th>end station id</th>\n",
       "      <th>end station name</th>\n",
       "      <th>end station latitude</th>\n",
       "      <th>end station longitude</th>\n",
       "      <th>bikeid</th>\n",
       "      <th>usertype</th>\n",
       "      <th>birth year</th>\n",
       "      <th>gender</th>\n",
       "      <th>trip_id</th>\n",
       "      <th>type_pass</th>\n",
       "      <th>trip_category</th>\n",
       "    </tr>\n",
       "  </thead>\n",
       "  <tbody>\n",
       "    <tr>\n",
       "      <th>0</th>\n",
       "      <td>602</td>\n",
       "      <td>2019-12-01 00:00:05.5640</td>\n",
       "      <td>2019-12-01 00:10:07.8180</td>\n",
       "      <td>3382</td>\n",
       "      <td>Carroll St &amp; Smith St</td>\n",
       "      <td>40.680611</td>\n",
       "      <td>-73.994758</td>\n",
       "      <td>3304</td>\n",
       "      <td>6 Ave &amp; 9 St</td>\n",
       "      <td>40.668127</td>\n",
       "      <td>-73.983776</td>\n",
       "      <td>41932</td>\n",
       "      <td>Subscriber</td>\n",
       "      <td>1970</td>\n",
       "      <td>1</td>\n",
       "      <td>1345</td>\n",
       "      <td>annual</td>\n",
       "      <td>round-trip</td>\n",
       "    </tr>\n",
       "    <tr>\n",
       "      <th>1</th>\n",
       "      <td>723</td>\n",
       "      <td>2019-12-01 00:00:11.8180</td>\n",
       "      <td>2019-12-01 00:12:14.8310</td>\n",
       "      <td>146</td>\n",
       "      <td>Hudson St &amp; Reade St</td>\n",
       "      <td>40.716250</td>\n",
       "      <td>-74.009106</td>\n",
       "      <td>238</td>\n",
       "      <td>Bank St &amp; Washington St</td>\n",
       "      <td>40.736197</td>\n",
       "      <td>-74.008592</td>\n",
       "      <td>15334</td>\n",
       "      <td>Subscriber</td>\n",
       "      <td>1997</td>\n",
       "      <td>1</td>\n",
       "      <td>1347</td>\n",
       "      <td>annual</td>\n",
       "      <td>round-trip</td>\n",
       "    </tr>\n",
       "    <tr>\n",
       "      <th>2</th>\n",
       "      <td>1059</td>\n",
       "      <td>2019-12-01 00:00:14.7230</td>\n",
       "      <td>2019-12-01 00:17:54.1860</td>\n",
       "      <td>500</td>\n",
       "      <td>Broadway &amp; W 51 St</td>\n",
       "      <td>40.762288</td>\n",
       "      <td>-73.983362</td>\n",
       "      <td>3323</td>\n",
       "      <td>W 106 St &amp; Central Park West</td>\n",
       "      <td>40.798186</td>\n",
       "      <td>-73.960591</td>\n",
       "      <td>40156</td>\n",
       "      <td>Subscriber</td>\n",
       "      <td>1961</td>\n",
       "      <td>1</td>\n",
       "      <td>1349</td>\n",
       "      <td>annual</td>\n",
       "      <td>round-trip</td>\n",
       "    </tr>\n",
       "    <tr>\n",
       "      <th>3</th>\n",
       "      <td>1257</td>\n",
       "      <td>2019-12-01 00:00:20.3490</td>\n",
       "      <td>2019-12-01 00:21:18.2990</td>\n",
       "      <td>340</td>\n",
       "      <td>Madison St &amp; Clinton St</td>\n",
       "      <td>40.712690</td>\n",
       "      <td>-73.987763</td>\n",
       "      <td>340</td>\n",
       "      <td>Madison St &amp; Clinton St</td>\n",
       "      <td>40.712690</td>\n",
       "      <td>-73.987763</td>\n",
       "      <td>40829</td>\n",
       "      <td>Subscriber</td>\n",
       "      <td>1994</td>\n",
       "      <td>1</td>\n",
       "      <td>1350</td>\n",
       "      <td>annual</td>\n",
       "      <td>round-trip</td>\n",
       "    </tr>\n",
       "    <tr>\n",
       "      <th>4</th>\n",
       "      <td>624</td>\n",
       "      <td>2019-12-01 00:00:22.0410</td>\n",
       "      <td>2019-12-01 00:10:46.4270</td>\n",
       "      <td>469</td>\n",
       "      <td>Broadway &amp; W 53 St</td>\n",
       "      <td>40.763441</td>\n",
       "      <td>-73.982681</td>\n",
       "      <td>526</td>\n",
       "      <td>E 33 St &amp; 5 Ave</td>\n",
       "      <td>40.747659</td>\n",
       "      <td>-73.984907</td>\n",
       "      <td>24934</td>\n",
       "      <td>Subscriber</td>\n",
       "      <td>1983</td>\n",
       "      <td>1</td>\n",
       "      <td>1351</td>\n",
       "      <td>annual</td>\n",
       "      <td>round-trip</td>\n",
       "    </tr>\n",
       "  </tbody>\n",
       "</table>\n",
       "</div>"
      ],
      "text/plain": [
       "   tripduration                 starttime  ... type_pass  trip_category\n",
       "0           602  2019-12-01 00:00:05.5640  ...    annual     round-trip\n",
       "1           723  2019-12-01 00:00:11.8180  ...    annual     round-trip\n",
       "2          1059  2019-12-01 00:00:14.7230  ...    annual     round-trip\n",
       "3          1257  2019-12-01 00:00:20.3490  ...    annual     round-trip\n",
       "4           624  2019-12-01 00:00:22.0410  ...    annual     round-trip\n",
       "\n",
       "[5 rows x 18 columns]"
      ]
     },
     "execution_count": 257,
     "metadata": {
      "tags": []
     },
     "output_type": "execute_result"
    }
   ],
   "source": [
    "#Creación de una columna nueva : trip_category\n",
    "data['aux']=np.random.binomial(1,0.0454,955210)\n",
    "\n",
    "data['trip_category'] = np.where(data['aux'] == 1, \"one-way\", \"round-trip\")\n",
    "#Borramos la columa auxiliar\n",
    "del data['aux']\n",
    "data.head()"
   ]
  },
  {
   "cell_type": "code",
   "execution_count": 258,
   "metadata": {
    "id": "3hT1vGc9es11"
   },
   "outputs": [],
   "source": [
    "#Convertimos la duración a minutos\n",
    "data['duration'] = round(data['tripduration']/60)"
   ]
  },
  {
   "cell_type": "code",
   "execution_count": 260,
   "metadata": {
    "id": "3rLfst9UxgqE"
   },
   "outputs": [],
   "source": [
    "data['starttime'] = pd.to_datetime(data['starttime']).dt.strftime('%Y-%m-%d %H:%M')\n",
    "data['stoptime'] = pd.to_datetime(data['stoptime']).dt.strftime('%Y-%m-%d %H:%M')"
   ]
  },
  {
   "cell_type": "code",
   "execution_count": 261,
   "metadata": {
    "colab": {
     "base_uri": "https://localhost:8080/",
     "height": 425
    },
    "id": "K5LfYITJxmzj",
    "outputId": "946f7e81-f1d1-4c05-f674-62838a6986b8"
   },
   "outputs": [
    {
     "data": {
      "text/html": [
       "<div>\n",
       "<style scoped>\n",
       "    .dataframe tbody tr th:only-of-type {\n",
       "        vertical-align: middle;\n",
       "    }\n",
       "\n",
       "    .dataframe tbody tr th {\n",
       "        vertical-align: top;\n",
       "    }\n",
       "\n",
       "    .dataframe thead th {\n",
       "        text-align: right;\n",
       "    }\n",
       "</style>\n",
       "<table border=\"1\" class=\"dataframe\">\n",
       "  <thead>\n",
       "    <tr style=\"text-align: right;\">\n",
       "      <th></th>\n",
       "      <th>tripduration</th>\n",
       "      <th>starttime</th>\n",
       "      <th>stoptime</th>\n",
       "      <th>start station id</th>\n",
       "      <th>start station name</th>\n",
       "      <th>start station latitude</th>\n",
       "      <th>start station longitude</th>\n",
       "      <th>end station id</th>\n",
       "      <th>end station name</th>\n",
       "      <th>end station latitude</th>\n",
       "      <th>end station longitude</th>\n",
       "      <th>bikeid</th>\n",
       "      <th>usertype</th>\n",
       "      <th>birth year</th>\n",
       "      <th>gender</th>\n",
       "      <th>trip_id</th>\n",
       "      <th>type_pass</th>\n",
       "      <th>trip_category</th>\n",
       "      <th>duration</th>\n",
       "    </tr>\n",
       "  </thead>\n",
       "  <tbody>\n",
       "    <tr>\n",
       "      <th>0</th>\n",
       "      <td>602</td>\n",
       "      <td>2019-12-01 00:00</td>\n",
       "      <td>2019-12-01 00:10</td>\n",
       "      <td>3382</td>\n",
       "      <td>Carroll St &amp; Smith St</td>\n",
       "      <td>40.680611</td>\n",
       "      <td>-73.994758</td>\n",
       "      <td>3304</td>\n",
       "      <td>6 Ave &amp; 9 St</td>\n",
       "      <td>40.668127</td>\n",
       "      <td>-73.983776</td>\n",
       "      <td>41932</td>\n",
       "      <td>Subscriber</td>\n",
       "      <td>1970</td>\n",
       "      <td>1</td>\n",
       "      <td>1345</td>\n",
       "      <td>annual</td>\n",
       "      <td>round-trip</td>\n",
       "      <td>10.0</td>\n",
       "    </tr>\n",
       "    <tr>\n",
       "      <th>1</th>\n",
       "      <td>723</td>\n",
       "      <td>2019-12-01 00:00</td>\n",
       "      <td>2019-12-01 00:12</td>\n",
       "      <td>146</td>\n",
       "      <td>Hudson St &amp; Reade St</td>\n",
       "      <td>40.716250</td>\n",
       "      <td>-74.009106</td>\n",
       "      <td>238</td>\n",
       "      <td>Bank St &amp; Washington St</td>\n",
       "      <td>40.736197</td>\n",
       "      <td>-74.008592</td>\n",
       "      <td>15334</td>\n",
       "      <td>Subscriber</td>\n",
       "      <td>1997</td>\n",
       "      <td>1</td>\n",
       "      <td>1347</td>\n",
       "      <td>annual</td>\n",
       "      <td>round-trip</td>\n",
       "      <td>12.0</td>\n",
       "    </tr>\n",
       "    <tr>\n",
       "      <th>2</th>\n",
       "      <td>1059</td>\n",
       "      <td>2019-12-01 00:00</td>\n",
       "      <td>2019-12-01 00:17</td>\n",
       "      <td>500</td>\n",
       "      <td>Broadway &amp; W 51 St</td>\n",
       "      <td>40.762288</td>\n",
       "      <td>-73.983362</td>\n",
       "      <td>3323</td>\n",
       "      <td>W 106 St &amp; Central Park West</td>\n",
       "      <td>40.798186</td>\n",
       "      <td>-73.960591</td>\n",
       "      <td>40156</td>\n",
       "      <td>Subscriber</td>\n",
       "      <td>1961</td>\n",
       "      <td>1</td>\n",
       "      <td>1349</td>\n",
       "      <td>annual</td>\n",
       "      <td>round-trip</td>\n",
       "      <td>18.0</td>\n",
       "    </tr>\n",
       "    <tr>\n",
       "      <th>3</th>\n",
       "      <td>1257</td>\n",
       "      <td>2019-12-01 00:00</td>\n",
       "      <td>2019-12-01 00:21</td>\n",
       "      <td>340</td>\n",
       "      <td>Madison St &amp; Clinton St</td>\n",
       "      <td>40.712690</td>\n",
       "      <td>-73.987763</td>\n",
       "      <td>340</td>\n",
       "      <td>Madison St &amp; Clinton St</td>\n",
       "      <td>40.712690</td>\n",
       "      <td>-73.987763</td>\n",
       "      <td>40829</td>\n",
       "      <td>Subscriber</td>\n",
       "      <td>1994</td>\n",
       "      <td>1</td>\n",
       "      <td>1350</td>\n",
       "      <td>annual</td>\n",
       "      <td>round-trip</td>\n",
       "      <td>21.0</td>\n",
       "    </tr>\n",
       "    <tr>\n",
       "      <th>4</th>\n",
       "      <td>624</td>\n",
       "      <td>2019-12-01 00:00</td>\n",
       "      <td>2019-12-01 00:10</td>\n",
       "      <td>469</td>\n",
       "      <td>Broadway &amp; W 53 St</td>\n",
       "      <td>40.763441</td>\n",
       "      <td>-73.982681</td>\n",
       "      <td>526</td>\n",
       "      <td>E 33 St &amp; 5 Ave</td>\n",
       "      <td>40.747659</td>\n",
       "      <td>-73.984907</td>\n",
       "      <td>24934</td>\n",
       "      <td>Subscriber</td>\n",
       "      <td>1983</td>\n",
       "      <td>1</td>\n",
       "      <td>1351</td>\n",
       "      <td>annual</td>\n",
       "      <td>round-trip</td>\n",
       "      <td>10.0</td>\n",
       "    </tr>\n",
       "  </tbody>\n",
       "</table>\n",
       "</div>"
      ],
      "text/plain": [
       "   tripduration         starttime  ... trip_category  duration\n",
       "0           602  2019-12-01 00:00  ...    round-trip      10.0\n",
       "1           723  2019-12-01 00:00  ...    round-trip      12.0\n",
       "2          1059  2019-12-01 00:00  ...    round-trip      18.0\n",
       "3          1257  2019-12-01 00:00  ...    round-trip      21.0\n",
       "4           624  2019-12-01 00:00  ...    round-trip      10.0\n",
       "\n",
       "[5 rows x 19 columns]"
      ]
     },
     "execution_count": 261,
     "metadata": {
      "tags": []
     },
     "output_type": "execute_result"
    }
   ],
   "source": [
    "data.head()"
   ]
  },
  {
   "cell_type": "markdown",
   "metadata": {
    "id": "OcbffL0jsdsZ"
   },
   "source": [
    "### Referencias:\n",
    "https://www.citibikenyc.com/system-data"
   ]
  }
 ],
 "metadata": {
  "colab": {
   "collapsed_sections": [],
   "name": "Citi_bikes_data.ipynb",
   "provenance": []
  },
  "kernelspec": {
   "display_name": "Python 3",
   "language": "python",
   "name": "python3"
  },
  "language_info": {
   "codemirror_mode": {
    "name": "ipython",
    "version": 3
   },
   "file_extension": ".py",
   "mimetype": "text/x-python",
   "name": "python",
   "nbconvert_exporter": "python",
   "pygments_lexer": "ipython3",
   "version": "3.8.3"
  }
 },
 "nbformat": 4,
 "nbformat_minor": 1
}
