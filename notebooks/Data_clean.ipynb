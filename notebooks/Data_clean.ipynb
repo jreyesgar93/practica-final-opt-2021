{
 "cells": [
  {
   "cell_type": "code",
   "execution_count": 27,
   "metadata": {},
   "outputs": [],
   "source": [
    "#Libraries\n",
    "import pandas as pd\n",
    "from utils.eda import *\n",
    "from utils.clean import *\n",
    "import requests\n",
    "import numpy as np\n",
    "import missingno as msno\n",
    "import math\n",
    "import matplotlib.pyplot as plt\n",
    "import json\n",
    "import pickle\n",
    "\n",
    "\n",
    "#Load Data\n",
    "data = pd.read_pickle('../data/data_prepare.pkl')"
   ]
  },
  {
   "cell_type": "code",
   "execution_count": 2,
   "metadata": {},
   "outputs": [
    {
     "data": {
      "text/html": [
       "<div>\n",
       "<style scoped>\n",
       "    .dataframe tbody tr th:only-of-type {\n",
       "        vertical-align: middle;\n",
       "    }\n",
       "\n",
       "    .dataframe tbody tr th {\n",
       "        vertical-align: top;\n",
       "    }\n",
       "\n",
       "    .dataframe thead th {\n",
       "        text-align: right;\n",
       "    }\n",
       "</style>\n",
       "<table border=\"1\" class=\"dataframe\">\n",
       "  <thead>\n",
       "    <tr style=\"text-align: right;\">\n",
       "      <th></th>\n",
       "      <th>tripduration</th>\n",
       "      <th>starttime</th>\n",
       "      <th>stoptime</th>\n",
       "      <th>start station id</th>\n",
       "      <th>start station name</th>\n",
       "      <th>start station latitude</th>\n",
       "      <th>start station longitude</th>\n",
       "      <th>end station id</th>\n",
       "      <th>end station name</th>\n",
       "      <th>end station latitude</th>\n",
       "      <th>end station longitude</th>\n",
       "      <th>bikeid</th>\n",
       "      <th>usertype</th>\n",
       "      <th>birth year</th>\n",
       "      <th>gender</th>\n",
       "      <th>trip_id</th>\n",
       "      <th>type_pass</th>\n",
       "      <th>trip_category</th>\n",
       "      <th>duration</th>\n",
       "    </tr>\n",
       "  </thead>\n",
       "  <tbody>\n",
       "    <tr>\n",
       "      <th>0</th>\n",
       "      <td>602</td>\n",
       "      <td>2019-12-01 00:00</td>\n",
       "      <td>2019-12-01 00:10</td>\n",
       "      <td>3382</td>\n",
       "      <td>Carroll St &amp; Smith St</td>\n",
       "      <td>40.680611</td>\n",
       "      <td>-73.994758</td>\n",
       "      <td>3304</td>\n",
       "      <td>6 Ave &amp; 9 St</td>\n",
       "      <td>40.668127</td>\n",
       "      <td>-73.983776</td>\n",
       "      <td>41932</td>\n",
       "      <td>Subscriber</td>\n",
       "      <td>1970</td>\n",
       "      <td>1</td>\n",
       "      <td>1345</td>\n",
       "      <td>annual</td>\n",
       "      <td>round-trip</td>\n",
       "      <td>10.0</td>\n",
       "    </tr>\n",
       "    <tr>\n",
       "      <th>1</th>\n",
       "      <td>723</td>\n",
       "      <td>2019-12-01 00:00</td>\n",
       "      <td>2019-12-01 00:12</td>\n",
       "      <td>146</td>\n",
       "      <td>Hudson St &amp; Reade St</td>\n",
       "      <td>40.716250</td>\n",
       "      <td>-74.009106</td>\n",
       "      <td>238</td>\n",
       "      <td>Bank St &amp; Washington St</td>\n",
       "      <td>40.736197</td>\n",
       "      <td>-74.008592</td>\n",
       "      <td>15334</td>\n",
       "      <td>Subscriber</td>\n",
       "      <td>1997</td>\n",
       "      <td>1</td>\n",
       "      <td>1347</td>\n",
       "      <td>annual</td>\n",
       "      <td>round-trip</td>\n",
       "      <td>12.0</td>\n",
       "    </tr>\n",
       "    <tr>\n",
       "      <th>2</th>\n",
       "      <td>1059</td>\n",
       "      <td>2019-12-01 00:00</td>\n",
       "      <td>2019-12-01 00:17</td>\n",
       "      <td>500</td>\n",
       "      <td>Broadway &amp; W 51 St</td>\n",
       "      <td>40.762288</td>\n",
       "      <td>-73.983362</td>\n",
       "      <td>3323</td>\n",
       "      <td>W 106 St &amp; Central Park West</td>\n",
       "      <td>40.798186</td>\n",
       "      <td>-73.960591</td>\n",
       "      <td>40156</td>\n",
       "      <td>Subscriber</td>\n",
       "      <td>1961</td>\n",
       "      <td>1</td>\n",
       "      <td>1349</td>\n",
       "      <td>annual</td>\n",
       "      <td>round-trip</td>\n",
       "      <td>18.0</td>\n",
       "    </tr>\n",
       "    <tr>\n",
       "      <th>3</th>\n",
       "      <td>1257</td>\n",
       "      <td>2019-12-01 00:00</td>\n",
       "      <td>2019-12-01 00:21</td>\n",
       "      <td>340</td>\n",
       "      <td>Madison St &amp; Clinton St</td>\n",
       "      <td>40.712690</td>\n",
       "      <td>-73.987763</td>\n",
       "      <td>340</td>\n",
       "      <td>Madison St &amp; Clinton St</td>\n",
       "      <td>40.712690</td>\n",
       "      <td>-73.987763</td>\n",
       "      <td>40829</td>\n",
       "      <td>Subscriber</td>\n",
       "      <td>1994</td>\n",
       "      <td>1</td>\n",
       "      <td>1350</td>\n",
       "      <td>annual</td>\n",
       "      <td>round-trip</td>\n",
       "      <td>21.0</td>\n",
       "    </tr>\n",
       "    <tr>\n",
       "      <th>4</th>\n",
       "      <td>624</td>\n",
       "      <td>2019-12-01 00:00</td>\n",
       "      <td>2019-12-01 00:10</td>\n",
       "      <td>469</td>\n",
       "      <td>Broadway &amp; W 53 St</td>\n",
       "      <td>40.763441</td>\n",
       "      <td>-73.982681</td>\n",
       "      <td>526</td>\n",
       "      <td>E 33 St &amp; 5 Ave</td>\n",
       "      <td>40.747659</td>\n",
       "      <td>-73.984907</td>\n",
       "      <td>24934</td>\n",
       "      <td>Subscriber</td>\n",
       "      <td>1983</td>\n",
       "      <td>1</td>\n",
       "      <td>1351</td>\n",
       "      <td>annual</td>\n",
       "      <td>one-way</td>\n",
       "      <td>10.0</td>\n",
       "    </tr>\n",
       "  </tbody>\n",
       "</table>\n",
       "</div>"
      ],
      "text/plain": [
       "   tripduration         starttime          stoptime  start station id  \\\n",
       "0           602  2019-12-01 00:00  2019-12-01 00:10              3382   \n",
       "1           723  2019-12-01 00:00  2019-12-01 00:12               146   \n",
       "2          1059  2019-12-01 00:00  2019-12-01 00:17               500   \n",
       "3          1257  2019-12-01 00:00  2019-12-01 00:21               340   \n",
       "4           624  2019-12-01 00:00  2019-12-01 00:10               469   \n",
       "\n",
       "        start station name  start station latitude  start station longitude  \\\n",
       "0    Carroll St & Smith St               40.680611               -73.994758   \n",
       "1     Hudson St & Reade St               40.716250               -74.009106   \n",
       "2       Broadway & W 51 St               40.762288               -73.983362   \n",
       "3  Madison St & Clinton St               40.712690               -73.987763   \n",
       "4       Broadway & W 53 St               40.763441               -73.982681   \n",
       "\n",
       "   end station id              end station name  end station latitude  \\\n",
       "0            3304                  6 Ave & 9 St             40.668127   \n",
       "1             238       Bank St & Washington St             40.736197   \n",
       "2            3323  W 106 St & Central Park West             40.798186   \n",
       "3             340       Madison St & Clinton St             40.712690   \n",
       "4             526               E 33 St & 5 Ave             40.747659   \n",
       "\n",
       "   end station longitude  bikeid    usertype  birth year  gender  trip_id  \\\n",
       "0             -73.983776   41932  Subscriber        1970       1     1345   \n",
       "1             -74.008592   15334  Subscriber        1997       1     1347   \n",
       "2             -73.960591   40156  Subscriber        1961       1     1349   \n",
       "3             -73.987763   40829  Subscriber        1994       1     1350   \n",
       "4             -73.984907   24934  Subscriber        1983       1     1351   \n",
       "\n",
       "  type_pass trip_category  duration  \n",
       "0    annual    round-trip      10.0  \n",
       "1    annual    round-trip      12.0  \n",
       "2    annual    round-trip      18.0  \n",
       "3    annual    round-trip      21.0  \n",
       "4    annual       one-way      10.0  "
      ]
     },
     "execution_count": 2,
     "metadata": {},
     "output_type": "execute_result"
    }
   ],
   "source": [
    "data.head()"
   ]
  },
  {
   "cell_type": "code",
   "execution_count": 3,
   "metadata": {},
   "outputs": [],
   "source": [
    "#Backup de original dataset\n",
    "data_ = data.copy()"
   ]
  },
  {
   "cell_type": "code",
   "execution_count": 6,
   "metadata": {},
   "outputs": [],
   "source": [
    "# remove spaces in column names\n",
    "data_.columns = data_.columns.str.replace(' ', '_')"
   ]
  },
  {
   "cell_type": "markdown",
   "metadata": {
    "tags": []
   },
   "source": [
    "#### Limpieza de datos"
   ]
  },
  {
   "cell_type": "code",
   "execution_count": 8,
   "metadata": {},
   "outputs": [],
   "source": [
    "# Change to lower categorical variables\n",
    "cambiar_minusculas_variable(data_,'start_station_name')\n",
    "cambiar_minusculas_variable(data_,'end_station_name')\n",
    "cambiar_minusculas_variable(data_,'usertype')\n",
    "cambiar_minusculas_variable(data_,'type_pass')\n",
    "cambiar_minusculas_variable(data_,'trip_category')"
   ]
  },
  {
   "cell_type": "code",
   "execution_count": 9,
   "metadata": {},
   "outputs": [
    {
     "data": {
      "text/plain": [
       "tripduration                 int64\n",
       "starttime                   object\n",
       "stoptime                    object\n",
       "start_station_id             int64\n",
       "start_station_name          object\n",
       "start_station_latitude     float64\n",
       "start_station_longitude    float64\n",
       "end_station_id               int64\n",
       "end_station_name            object\n",
       "end_station_latitude       float64\n",
       "end_station_longitude      float64\n",
       "bikeid                       int64\n",
       "usertype                    object\n",
       "birth_year                   int64\n",
       "gender                       int64\n",
       "trip_id                      int64\n",
       "type_pass                   object\n",
       "trip_category               object\n",
       "duration                   float64\n",
       "dtype: object"
      ]
     },
     "execution_count": 9,
     "metadata": {},
     "output_type": "execute_result"
    }
   ],
   "source": [
    "data_.dtypes"
   ]
  },
  {
   "cell_type": "code",
   "execution_count": 10,
   "metadata": {},
   "outputs": [],
   "source": [
    "# Converting start and end times to datetime objects.\n",
    "data_['starttime'] = pd.to_datetime(data_['starttime'])\n",
    "data_['stoptime'] = pd.to_datetime(data_['stoptime'])"
   ]
  },
  {
   "cell_type": "code",
   "execution_count": 11,
   "metadata": {},
   "outputs": [
    {
     "data": {
      "text/plain": [
       "tripduration                        int64\n",
       "starttime                  datetime64[ns]\n",
       "stoptime                   datetime64[ns]\n",
       "start_station_id                    int64\n",
       "start_station_name                 object\n",
       "start_station_latitude            float64\n",
       "start_station_longitude           float64\n",
       "end_station_id                      int64\n",
       "end_station_name                   object\n",
       "end_station_latitude              float64\n",
       "end_station_longitude             float64\n",
       "bikeid                              int64\n",
       "usertype                           object\n",
       "birth_year                          int64\n",
       "gender                              int64\n",
       "trip_id                             int64\n",
       "type_pass                          object\n",
       "trip_category                      object\n",
       "duration                          float64\n",
       "dtype: object"
      ]
     },
     "execution_count": 11,
     "metadata": {},
     "output_type": "execute_result"
    }
   ],
   "source": [
    "data_.dtypes"
   ]
  },
  {
   "cell_type": "markdown",
   "metadata": {
    "tags": []
   },
   "source": [
    "#### Análisis de datos"
   ]
  },
  {
   "cell_type": "code",
   "execution_count": 12,
   "metadata": {},
   "outputs": [
    {
     "data": {
      "text/html": [
       "<div>\n",
       "<style scoped>\n",
       "    .dataframe tbody tr th:only-of-type {\n",
       "        vertical-align: middle;\n",
       "    }\n",
       "\n",
       "    .dataframe tbody tr th {\n",
       "        vertical-align: top;\n",
       "    }\n",
       "\n",
       "    .dataframe thead th {\n",
       "        text-align: right;\n",
       "    }\n",
       "</style>\n",
       "<table border=\"1\" class=\"dataframe\">\n",
       "  <thead>\n",
       "    <tr style=\"text-align: right;\">\n",
       "      <th></th>\n",
       "      <th>tripduration</th>\n",
       "      <th>start_station_id</th>\n",
       "      <th>start_station_latitude</th>\n",
       "      <th>start_station_longitude</th>\n",
       "      <th>end_station_id</th>\n",
       "      <th>end_station_latitude</th>\n",
       "      <th>end_station_longitude</th>\n",
       "      <th>bikeid</th>\n",
       "      <th>birth_year</th>\n",
       "      <th>gender</th>\n",
       "      <th>trip_id</th>\n",
       "      <th>duration</th>\n",
       "    </tr>\n",
       "  </thead>\n",
       "  <tbody>\n",
       "    <tr>\n",
       "      <th>max</th>\n",
       "      <td>3.304262e+06</td>\n",
       "      <td>3911.000000</td>\n",
       "      <td>40.818299</td>\n",
       "      <td>-73.897950</td>\n",
       "      <td>3911.000000</td>\n",
       "      <td>40.818299</td>\n",
       "      <td>-73.897950</td>\n",
       "      <td>42046.000000</td>\n",
       "      <td>2003.000000</td>\n",
       "      <td>2.000000</td>\n",
       "      <td>9.565540e+05</td>\n",
       "      <td>55071.000000</td>\n",
       "    </tr>\n",
       "    <tr>\n",
       "      <th>min</th>\n",
       "      <td>6.100000e+01</td>\n",
       "      <td>72.000000</td>\n",
       "      <td>40.655400</td>\n",
       "      <td>-74.017134</td>\n",
       "      <td>72.000000</td>\n",
       "      <td>40.655400</td>\n",
       "      <td>-74.063913</td>\n",
       "      <td>14529.000000</td>\n",
       "      <td>1885.000000</td>\n",
       "      <td>0.000000</td>\n",
       "      <td>1.345000e+03</td>\n",
       "      <td>1.000000</td>\n",
       "    </tr>\n",
       "    <tr>\n",
       "      <th>mean</th>\n",
       "      <td>8.308397e+02</td>\n",
       "      <td>1666.618973</td>\n",
       "      <td>40.737843</td>\n",
       "      <td>-73.981574</td>\n",
       "      <td>1646.799030</td>\n",
       "      <td>40.737543</td>\n",
       "      <td>-73.981978</td>\n",
       "      <td>32915.938365</td>\n",
       "      <td>1979.448958</td>\n",
       "      <td>1.174272</td>\n",
       "      <td>4.789495e+05</td>\n",
       "      <td>13.847270</td>\n",
       "    </tr>\n",
       "    <tr>\n",
       "      <th>std</th>\n",
       "      <td>1.078565e+04</td>\n",
       "      <td>1492.957236</td>\n",
       "      <td>0.029825</td>\n",
       "      <td>0.019196</td>\n",
       "      <td>1490.930913</td>\n",
       "      <td>0.029444</td>\n",
       "      <td>0.019256</td>\n",
       "      <td>7997.229634</td>\n",
       "      <td>12.604304</td>\n",
       "      <td>0.491035</td>\n",
       "      <td>2.757455e+05</td>\n",
       "      <td>179.760645</td>\n",
       "    </tr>\n",
       "    <tr>\n",
       "      <th>q25</th>\n",
       "      <td>3.200000e+02</td>\n",
       "      <td>380.000000</td>\n",
       "      <td>40.719009</td>\n",
       "      <td>-73.994224</td>\n",
       "      <td>379.000000</td>\n",
       "      <td>40.719009</td>\n",
       "      <td>-73.994618</td>\n",
       "      <td>28716.000000</td>\n",
       "      <td>1969.000000</td>\n",
       "      <td>1.000000</td>\n",
       "      <td>2.401472e+05</td>\n",
       "      <td>5.000000</td>\n",
       "    </tr>\n",
       "    <tr>\n",
       "      <th>median</th>\n",
       "      <td>5.220000e+02</td>\n",
       "      <td>509.000000</td>\n",
       "      <td>40.739017</td>\n",
       "      <td>-73.984706</td>\n",
       "      <td>507.000000</td>\n",
       "      <td>40.738274</td>\n",
       "      <td>-73.985417</td>\n",
       "      <td>34101.000000</td>\n",
       "      <td>1982.000000</td>\n",
       "      <td>1.000000</td>\n",
       "      <td>4.789495e+05</td>\n",
       "      <td>9.000000</td>\n",
       "    </tr>\n",
       "    <tr>\n",
       "      <th>q75</th>\n",
       "      <td>8.760000e+02</td>\n",
       "      <td>3311.000000</td>\n",
       "      <td>40.757246</td>\n",
       "      <td>-73.972095</td>\n",
       "      <td>3307.000000</td>\n",
       "      <td>40.756604</td>\n",
       "      <td>-73.973243</td>\n",
       "      <td>39839.000000</td>\n",
       "      <td>1990.000000</td>\n",
       "      <td>1.000000</td>\n",
       "      <td>7.177518e+05</td>\n",
       "      <td>15.000000</td>\n",
       "    </tr>\n",
       "    <tr>\n",
       "      <th>skew</th>\n",
       "      <td>1.950204e+02</td>\n",
       "      <td>0.334894</td>\n",
       "      <td>-0.085045</td>\n",
       "      <td>0.878699</td>\n",
       "      <td>0.362070</td>\n",
       "      <td>-0.075486</td>\n",
       "      <td>0.895431</td>\n",
       "      <td>-0.816444</td>\n",
       "      <td>-0.633987</td>\n",
       "      <td>0.362515</td>\n",
       "      <td>2.290631e-16</td>\n",
       "      <td>195.018925</td>\n",
       "    </tr>\n",
       "    <tr>\n",
       "      <th>kurt</th>\n",
       "      <td>4.759428e+04</td>\n",
       "      <td>-1.807121</td>\n",
       "      <td>-0.159431</td>\n",
       "      <td>0.819475</td>\n",
       "      <td>-1.788245</td>\n",
       "      <td>-0.126212</td>\n",
       "      <td>0.834977</td>\n",
       "      <td>-0.442514</td>\n",
       "      <td>0.378193</td>\n",
       "      <td>0.383549</td>\n",
       "      <td>-1.200000e+00</td>\n",
       "      <td>47593.713486</td>\n",
       "    </tr>\n",
       "    <tr>\n",
       "      <th>count</th>\n",
       "      <td>9.552100e+05</td>\n",
       "      <td>955210.000000</td>\n",
       "      <td>955210.000000</td>\n",
       "      <td>955210.000000</td>\n",
       "      <td>955210.000000</td>\n",
       "      <td>955210.000000</td>\n",
       "      <td>955210.000000</td>\n",
       "      <td>955210.000000</td>\n",
       "      <td>955210.000000</td>\n",
       "      <td>955210.000000</td>\n",
       "      <td>9.552100e+05</td>\n",
       "      <td>955210.000000</td>\n",
       "    </tr>\n",
       "    <tr>\n",
       "      <th>uniques</th>\n",
       "      <td>7.112000e+03</td>\n",
       "      <td>881.000000</td>\n",
       "      <td>908.000000</td>\n",
       "      <td>903.000000</td>\n",
       "      <td>882.000000</td>\n",
       "      <td>909.000000</td>\n",
       "      <td>904.000000</td>\n",
       "      <td>13816.000000</td>\n",
       "      <td>102.000000</td>\n",
       "      <td>3.000000</td>\n",
       "      <td>9.552100e+05</td>\n",
       "      <td>958.000000</td>\n",
       "    </tr>\n",
       "    <tr>\n",
       "      <th>missings</th>\n",
       "      <td>0.000000e+00</td>\n",
       "      <td>0.000000</td>\n",
       "      <td>0.000000</td>\n",
       "      <td>0.000000</td>\n",
       "      <td>0.000000</td>\n",
       "      <td>0.000000</td>\n",
       "      <td>0.000000</td>\n",
       "      <td>0.000000</td>\n",
       "      <td>0.000000</td>\n",
       "      <td>0.000000</td>\n",
       "      <td>0.000000e+00</td>\n",
       "      <td>0.000000</td>\n",
       "    </tr>\n",
       "    <tr>\n",
       "      <th>prop_missings</th>\n",
       "      <td>0.000000e+00</td>\n",
       "      <td>0.000000</td>\n",
       "      <td>0.000000</td>\n",
       "      <td>0.000000</td>\n",
       "      <td>0.000000</td>\n",
       "      <td>0.000000</td>\n",
       "      <td>0.000000</td>\n",
       "      <td>0.000000</td>\n",
       "      <td>0.000000</td>\n",
       "      <td>0.000000</td>\n",
       "      <td>0.000000e+00</td>\n",
       "      <td>0.000000</td>\n",
       "    </tr>\n",
       "  </tbody>\n",
       "</table>\n",
       "</div>"
      ],
      "text/plain": [
       "               tripduration  start_station_id  start_station_latitude  \\\n",
       "max            3.304262e+06       3911.000000               40.818299   \n",
       "min            6.100000e+01         72.000000               40.655400   \n",
       "mean           8.308397e+02       1666.618973               40.737843   \n",
       "std            1.078565e+04       1492.957236                0.029825   \n",
       "q25            3.200000e+02        380.000000               40.719009   \n",
       "median         5.220000e+02        509.000000               40.739017   \n",
       "q75            8.760000e+02       3311.000000               40.757246   \n",
       "skew           1.950204e+02          0.334894               -0.085045   \n",
       "kurt           4.759428e+04         -1.807121               -0.159431   \n",
       "count          9.552100e+05     955210.000000           955210.000000   \n",
       "uniques        7.112000e+03        881.000000              908.000000   \n",
       "missings       0.000000e+00          0.000000                0.000000   \n",
       "prop_missings  0.000000e+00          0.000000                0.000000   \n",
       "\n",
       "               start_station_longitude  end_station_id  end_station_latitude  \\\n",
       "max                         -73.897950     3911.000000             40.818299   \n",
       "min                         -74.017134       72.000000             40.655400   \n",
       "mean                        -73.981574     1646.799030             40.737543   \n",
       "std                           0.019196     1490.930913              0.029444   \n",
       "q25                         -73.994224      379.000000             40.719009   \n",
       "median                      -73.984706      507.000000             40.738274   \n",
       "q75                         -73.972095     3307.000000             40.756604   \n",
       "skew                          0.878699        0.362070             -0.075486   \n",
       "kurt                          0.819475       -1.788245             -0.126212   \n",
       "count                    955210.000000   955210.000000         955210.000000   \n",
       "uniques                     903.000000      882.000000            909.000000   \n",
       "missings                      0.000000        0.000000              0.000000   \n",
       "prop_missings                 0.000000        0.000000              0.000000   \n",
       "\n",
       "               end_station_longitude         bikeid     birth_year  \\\n",
       "max                       -73.897950   42046.000000    2003.000000   \n",
       "min                       -74.063913   14529.000000    1885.000000   \n",
       "mean                      -73.981978   32915.938365    1979.448958   \n",
       "std                         0.019256    7997.229634      12.604304   \n",
       "q25                       -73.994618   28716.000000    1969.000000   \n",
       "median                    -73.985417   34101.000000    1982.000000   \n",
       "q75                       -73.973243   39839.000000    1990.000000   \n",
       "skew                        0.895431      -0.816444      -0.633987   \n",
       "kurt                        0.834977      -0.442514       0.378193   \n",
       "count                  955210.000000  955210.000000  955210.000000   \n",
       "uniques                   904.000000   13816.000000     102.000000   \n",
       "missings                    0.000000       0.000000       0.000000   \n",
       "prop_missings               0.000000       0.000000       0.000000   \n",
       "\n",
       "                      gender       trip_id       duration  \n",
       "max                 2.000000  9.565540e+05   55071.000000  \n",
       "min                 0.000000  1.345000e+03       1.000000  \n",
       "mean                1.174272  4.789495e+05      13.847270  \n",
       "std                 0.491035  2.757455e+05     179.760645  \n",
       "q25                 1.000000  2.401472e+05       5.000000  \n",
       "median              1.000000  4.789495e+05       9.000000  \n",
       "q75                 1.000000  7.177518e+05      15.000000  \n",
       "skew                0.362515  2.290631e-16     195.018925  \n",
       "kurt                0.383549 -1.200000e+00   47593.713486  \n",
       "count          955210.000000  9.552100e+05  955210.000000  \n",
       "uniques             3.000000  9.552100e+05     958.000000  \n",
       "missings            0.000000  0.000000e+00       0.000000  \n",
       "prop_missings       0.000000  0.000000e+00       0.000000  "
      ]
     },
     "execution_count": 12,
     "metadata": {},
     "output_type": "execute_result"
    }
   ],
   "source": [
    "#Numeric variables\n",
    "tabla_estadisticos_descriptivos_variables_numericas(data_)"
   ]
  },
  {
   "cell_type": "code",
   "execution_count": 13,
   "metadata": {},
   "outputs": [
    {
     "data": {
      "text/html": [
       "<div>\n",
       "<style scoped>\n",
       "    .dataframe tbody tr th:only-of-type {\n",
       "        vertical-align: middle;\n",
       "    }\n",
       "\n",
       "    .dataframe tbody tr th {\n",
       "        vertical-align: top;\n",
       "    }\n",
       "\n",
       "    .dataframe thead th {\n",
       "        text-align: right;\n",
       "    }\n",
       "</style>\n",
       "<table border=\"1\" class=\"dataframe\">\n",
       "  <thead>\n",
       "    <tr style=\"text-align: right;\">\n",
       "      <th></th>\n",
       "      <th>start_station_name</th>\n",
       "      <th>end_station_name</th>\n",
       "      <th>usertype</th>\n",
       "      <th>type_pass</th>\n",
       "      <th>trip_category</th>\n",
       "    </tr>\n",
       "  </thead>\n",
       "  <tbody>\n",
       "    <tr>\n",
       "      <th>count</th>\n",
       "      <td>955210</td>\n",
       "      <td>955210</td>\n",
       "      <td>955210</td>\n",
       "      <td>955210</td>\n",
       "      <td>955210</td>\n",
       "    </tr>\n",
       "    <tr>\n",
       "      <th>uniques</th>\n",
       "      <td>881</td>\n",
       "      <td>882</td>\n",
       "      <td>2</td>\n",
       "      <td>3</td>\n",
       "      <td>2</td>\n",
       "    </tr>\n",
       "    <tr>\n",
       "      <th>uniques_list</th>\n",
       "      <td>[carroll st &amp; smith st, hudson st &amp; reade st, ...</td>\n",
       "      <td>[6 ave &amp; 9 st, bank st &amp; washington st, w 106 ...</td>\n",
       "      <td>[subscriber, customer]</td>\n",
       "      <td>[annual, one-day, tree-days]</td>\n",
       "      <td>[round-trip, one-way]</td>\n",
       "    </tr>\n",
       "    <tr>\n",
       "      <th>missings</th>\n",
       "      <td>0</td>\n",
       "      <td>0</td>\n",
       "      <td>0</td>\n",
       "      <td>0</td>\n",
       "      <td>0</td>\n",
       "    </tr>\n",
       "    <tr>\n",
       "      <th>prop_missings</th>\n",
       "      <td>0.0</td>\n",
       "      <td>0.0</td>\n",
       "      <td>0.0</td>\n",
       "      <td>0.0</td>\n",
       "      <td>0.0</td>\n",
       "    </tr>\n",
       "  </tbody>\n",
       "</table>\n",
       "</div>"
      ],
      "text/plain": [
       "                                              start_station_name  \\\n",
       "count                                                     955210   \n",
       "uniques                                                      881   \n",
       "uniques_list   [carroll st & smith st, hudson st & reade st, ...   \n",
       "missings                                                       0   \n",
       "prop_missings                                                0.0   \n",
       "\n",
       "                                                end_station_name  \\\n",
       "count                                                     955210   \n",
       "uniques                                                      882   \n",
       "uniques_list   [6 ave & 9 st, bank st & washington st, w 106 ...   \n",
       "missings                                                       0   \n",
       "prop_missings                                                0.0   \n",
       "\n",
       "                             usertype                     type_pass  \\\n",
       "count                          955210                        955210   \n",
       "uniques                             2                             3   \n",
       "uniques_list   [subscriber, customer]  [annual, one-day, tree-days]   \n",
       "missings                            0                             0   \n",
       "prop_missings                     0.0                           0.0   \n",
       "\n",
       "                       trip_category  \n",
       "count                         955210  \n",
       "uniques                            2  \n",
       "uniques_list   [round-trip, one-way]  \n",
       "missings                           0  \n",
       "prop_missings                    0.0  "
      ]
     },
     "execution_count": 13,
     "metadata": {},
     "output_type": "execute_result"
    }
   ],
   "source": [
    "#Categorical data\n",
    "tabla_estadisticos_descriptivos_variables_categoricas(data_)"
   ]
  },
  {
   "cell_type": "code",
   "execution_count": 20,
   "metadata": {},
   "outputs": [
    {
     "data": {
      "image/png": "[encoded data removed]",
      "text/plain": [
       "<Figure size 432x288 with 1 Axes>"
      ]
     },
     "metadata": {
      "needs_background": "light"
     },
     "output_type": "display_data"
    }
   ],
   "source": [
    "grafico_histograma_categorica(data_,'trip_category','bikeid',\"trip_category\",\"counts\",\"Conteo por tipos de viaje\")"
   ]
  },
  {
   "cell_type": "code",
   "execution_count": 16,
   "metadata": {},
   "outputs": [
    {
     "data": {
      "image/png": "[encoded data removed]",
      "text/plain": [
       "<Figure size 432x288 with 1 Axes>"
      ]
     },
     "metadata": {
      "needs_background": "light"
     },
     "output_type": "display_data"
    }
   ],
   "source": [
    "grafico_histograma_categorica(data_,'gender','bikeid',\"bike_type\",\"counts\",\"Conteo por genero\")"
   ]
  },
  {
   "cell_type": "code",
   "execution_count": 23,
   "metadata": {},
   "outputs": [
    {
     "data": {
      "text/plain": [
       "False    908780\n",
       "True      46430\n",
       "Name: gender, dtype: int64"
      ]
     },
     "execution_count": 23,
     "metadata": {},
     "output_type": "execute_result"
    }
   ],
   "source": [
    "(data_['gender']==0).value_counts()"
   ]
  },
  {
   "cell_type": "markdown",
   "metadata": {
    "tags": []
   },
   "source": [
    "Obs. Hay unos datos que tienen 0 en el género"
   ]
  },
  {
   "cell_type": "code",
   "execution_count": 19,
   "metadata": {},
   "outputs": [
    {
     "data": {
      "image/png": "[encoded data removed]",
      "text/plain": [
       "<Figure size 432x288 with 1 Axes>"
      ]
     },
     "metadata": {
      "needs_background": "light"
     },
     "output_type": "display_data"
    }
   ],
   "source": [
    "grafico_histograma_categorica(data_,'type_pass','bikeid',\"passholder_type\",\"counts\",\"Conteo por tipos de pase\")"
   ]
  },
  {
   "cell_type": "code",
   "execution_count": 28,
   "metadata": {},
   "outputs": [
    {
     "data": {
      "text/plain": [
       "<AxesSubplot:>"
      ]
     },
     "execution_count": 28,
     "metadata": {},
     "output_type": "execute_result"
    },
    {
     "data": {
      "image/png": "[encoded data removed]",
      "text/plain": [
       "<Figure size 1800x720 with 2 Axes>"
      ]
     },
     "metadata": {
      "needs_background": "light"
     },
     "output_type": "display_data"
    }
   ],
   "source": [
    "# Check for missing values.\n",
    "%matplotlib inline\n",
    "msno.matrix(data_)"
   ]
  },
  {
   "cell_type": "markdown",
   "metadata": {
    "tags": []
   },
   "source": [
    "Obs. No tenemos missing values"
   ]
  },
  {
   "cell_type": "markdown",
   "metadata": {
    "tags": []
   },
   "source": [
    "#### Creación de variables para el problema de Optimización"
   ]
  },
  {
   "cell_type": "code",
   "execution_count": 29,
   "metadata": {},
   "outputs": [],
   "source": [
    "# Create label for rides that were charged based on current pricing plan.\n",
    "def label_charged(duration):\n",
    "    \"\"\"\"Function to create a new catergorical variable that indicate if theres has to be an adittional charge\"\"\"\n",
    "    if duration <= 30:\n",
    "        return 0\n",
    "    else:\n",
    "        return 1\n",
    "\n",
    "data_['charged_ride'] = data_['duration'].apply(label_charged)"
   ]
  },
  {
   "cell_type": "code",
   "execution_count": 30,
   "metadata": {},
   "outputs": [],
   "source": [
    "# Column for hour of day of ride.\n",
    "data_['start_hour'] = data_['starttime'].dt.hour"
   ]
  },
  {
   "cell_type": "code",
   "execution_count": 31,
   "metadata": {},
   "outputs": [
    {
     "data": {
      "text/plain": [
       "Timestamp('2020-01-17 20:00:00')"
      ]
     },
     "execution_count": 31,
     "metadata": {},
     "output_type": "execute_result"
    }
   ],
   "source": [
    "latest_ride_date = data_['stoptime'].max()\n",
    "latest_ride_date"
   ]
  },
  {
   "cell_type": "code",
   "execution_count": 32,
   "metadata": {},
   "outputs": [],
   "source": [
    "bike_last_used_id = bike_last_used = data_.groupby('bikeid')['stoptime'].max().keys().tolist()\n",
    "bike_last_used_date = data_.groupby('bikeid')['stoptime'].max().tolist()"
   ]
  },
  {
   "cell_type": "code",
   "execution_count": 33,
   "metadata": {},
   "outputs": [
    {
     "name": "stdout",
     "output_type": "stream",
     "text": [
      "1 12454\n",
      "2 13816\n",
      "3 13816\n",
      "4 13816\n",
      "5 13816\n",
      "6 13816\n",
      "7 13816\n",
      "8 13816\n",
      "9 13816\n",
      "10 13816\n",
      "11 13816\n",
      "12 13816\n"
     ]
    }
   ],
   "source": [
    "# Number of bikes active each month in the past year.\n",
    "for month in range(1,13):\n",
    "    print(month, len([record for record in list(zip(bike_last_used_id,bike_last_used_date)) if \n",
    "                      record[1] > latest_ride_date + np.timedelta64(-month, 'M') ]))"
   ]
  },
  {
   "cell_type": "code",
   "execution_count": 34,
   "metadata": {},
   "outputs": [
    {
     "data": {
      "text/plain": [
       "0"
      ]
     },
     "execution_count": 34,
     "metadata": {},
     "output_type": "execute_result"
    }
   ],
   "source": [
    "# Number of inactive bikes (bikes that haven't been used in the past 6 months)\n",
    "len([record for record in list(zip(bike_last_used_id,bike_last_used_date)) if \n",
    "     record[1] < latest_ride_date + np.timedelta64(-6, 'M') ])"
   ]
  },
  {
   "cell_type": "code",
   "execution_count": 35,
   "metadata": {},
   "outputs": [],
   "source": [
    "# Create feature indicating active bikes, used in past 6 months. 1 if active, 0 if inactive.\n",
    "inactive_ids = [record[0] for record in list(zip(bike_last_used_id,bike_last_used_date)) if \n",
    "                record[1] < latest_ride_date + np.timedelta64(-6, 'M') ]\n",
    "data_['active_6m'] = data_['bikeid'].apply(lambda bike_id: 0 if bike_id in (inactive_ids) else 1)"
   ]
  },
  {
   "cell_type": "code",
   "execution_count": 36,
   "metadata": {},
   "outputs": [],
   "source": [
    "#Select variables to modeling\n",
    "data_ = data_ [[\"trip_id\", \"duration\",\"starttime\", \"stoptime\", \"trip_category\", \"type_pass\"]]"
   ]
  },
  {
   "cell_type": "code",
   "execution_count": 37,
   "metadata": {},
   "outputs": [
    {
     "data": {
      "text/html": [
       "<div>\n",
       "<style scoped>\n",
       "    .dataframe tbody tr th:only-of-type {\n",
       "        vertical-align: middle;\n",
       "    }\n",
       "\n",
       "    .dataframe tbody tr th {\n",
       "        vertical-align: top;\n",
       "    }\n",
       "\n",
       "    .dataframe thead th {\n",
       "        text-align: right;\n",
       "    }\n",
       "</style>\n",
       "<table border=\"1\" class=\"dataframe\">\n",
       "  <thead>\n",
       "    <tr style=\"text-align: right;\">\n",
       "      <th></th>\n",
       "      <th>trip_id</th>\n",
       "      <th>duration</th>\n",
       "      <th>starttime</th>\n",
       "      <th>stoptime</th>\n",
       "      <th>trip_category</th>\n",
       "      <th>type_pass</th>\n",
       "    </tr>\n",
       "  </thead>\n",
       "  <tbody>\n",
       "    <tr>\n",
       "      <th>0</th>\n",
       "      <td>1345</td>\n",
       "      <td>10.0</td>\n",
       "      <td>2019-12-01 00:00:00</td>\n",
       "      <td>2019-12-01 00:10:00</td>\n",
       "      <td>round-trip</td>\n",
       "      <td>annual</td>\n",
       "    </tr>\n",
       "    <tr>\n",
       "      <th>1</th>\n",
       "      <td>1347</td>\n",
       "      <td>12.0</td>\n",
       "      <td>2019-12-01 00:00:00</td>\n",
       "      <td>2019-12-01 00:12:00</td>\n",
       "      <td>round-trip</td>\n",
       "      <td>annual</td>\n",
       "    </tr>\n",
       "    <tr>\n",
       "      <th>2</th>\n",
       "      <td>1349</td>\n",
       "      <td>18.0</td>\n",
       "      <td>2019-12-01 00:00:00</td>\n",
       "      <td>2019-12-01 00:17:00</td>\n",
       "      <td>round-trip</td>\n",
       "      <td>annual</td>\n",
       "    </tr>\n",
       "    <tr>\n",
       "      <th>3</th>\n",
       "      <td>1350</td>\n",
       "      <td>21.0</td>\n",
       "      <td>2019-12-01 00:00:00</td>\n",
       "      <td>2019-12-01 00:21:00</td>\n",
       "      <td>round-trip</td>\n",
       "      <td>annual</td>\n",
       "    </tr>\n",
       "    <tr>\n",
       "      <th>4</th>\n",
       "      <td>1351</td>\n",
       "      <td>10.0</td>\n",
       "      <td>2019-12-01 00:00:00</td>\n",
       "      <td>2019-12-01 00:10:00</td>\n",
       "      <td>one-way</td>\n",
       "      <td>annual</td>\n",
       "    </tr>\n",
       "    <tr>\n",
       "      <th>...</th>\n",
       "      <td>...</td>\n",
       "      <td>...</td>\n",
       "      <td>...</td>\n",
       "      <td>...</td>\n",
       "      <td>...</td>\n",
       "      <td>...</td>\n",
       "    </tr>\n",
       "    <tr>\n",
       "      <th>955205</th>\n",
       "      <td>956539</td>\n",
       "      <td>8.0</td>\n",
       "      <td>2019-12-31 23:53:00</td>\n",
       "      <td>2020-01-01 00:00:00</td>\n",
       "      <td>round-trip</td>\n",
       "      <td>one-day</td>\n",
       "    </tr>\n",
       "    <tr>\n",
       "      <th>955206</th>\n",
       "      <td>956542</td>\n",
       "      <td>8.0</td>\n",
       "      <td>2019-12-31 23:53:00</td>\n",
       "      <td>2020-01-01 00:01:00</td>\n",
       "      <td>round-trip</td>\n",
       "      <td>one-day</td>\n",
       "    </tr>\n",
       "    <tr>\n",
       "      <th>955207</th>\n",
       "      <td>956544</td>\n",
       "      <td>30.0</td>\n",
       "      <td>2019-12-31 23:54:00</td>\n",
       "      <td>2020-01-01 00:24:00</td>\n",
       "      <td>round-trip</td>\n",
       "      <td>one-day</td>\n",
       "    </tr>\n",
       "    <tr>\n",
       "      <th>955208</th>\n",
       "      <td>956547</td>\n",
       "      <td>30.0</td>\n",
       "      <td>2019-12-31 23:55:00</td>\n",
       "      <td>2020-01-01 00:24:00</td>\n",
       "      <td>round-trip</td>\n",
       "      <td>one-day</td>\n",
       "    </tr>\n",
       "    <tr>\n",
       "      <th>955209</th>\n",
       "      <td>956548</td>\n",
       "      <td>2035.0</td>\n",
       "      <td>2019-12-31 23:55:00</td>\n",
       "      <td>2020-01-02 09:50:00</td>\n",
       "      <td>round-trip</td>\n",
       "      <td>tree-days</td>\n",
       "    </tr>\n",
       "  </tbody>\n",
       "</table>\n",
       "<p>955210 rows × 6 columns</p>\n",
       "</div>"
      ],
      "text/plain": [
       "        trip_id  duration           starttime            stoptime  \\\n",
       "0          1345      10.0 2019-12-01 00:00:00 2019-12-01 00:10:00   \n",
       "1          1347      12.0 2019-12-01 00:00:00 2019-12-01 00:12:00   \n",
       "2          1349      18.0 2019-12-01 00:00:00 2019-12-01 00:17:00   \n",
       "3          1350      21.0 2019-12-01 00:00:00 2019-12-01 00:21:00   \n",
       "4          1351      10.0 2019-12-01 00:00:00 2019-12-01 00:10:00   \n",
       "...         ...       ...                 ...                 ...   \n",
       "955205   956539       8.0 2019-12-31 23:53:00 2020-01-01 00:00:00   \n",
       "955206   956542       8.0 2019-12-31 23:53:00 2020-01-01 00:01:00   \n",
       "955207   956544      30.0 2019-12-31 23:54:00 2020-01-01 00:24:00   \n",
       "955208   956547      30.0 2019-12-31 23:55:00 2020-01-01 00:24:00   \n",
       "955209   956548    2035.0 2019-12-31 23:55:00 2020-01-02 09:50:00   \n",
       "\n",
       "       trip_category  type_pass  \n",
       "0         round-trip     annual  \n",
       "1         round-trip     annual  \n",
       "2         round-trip     annual  \n",
       "3         round-trip     annual  \n",
       "4            one-way     annual  \n",
       "...              ...        ...  \n",
       "955205    round-trip    one-day  \n",
       "955206    round-trip    one-day  \n",
       "955207    round-trip    one-day  \n",
       "955208    round-trip    one-day  \n",
       "955209    round-trip  tree-days  \n",
       "\n",
       "[955210 rows x 6 columns]"
      ]
     },
     "execution_count": 37,
     "metadata": {},
     "output_type": "execute_result"
    }
   ],
   "source": [
    "data_"
   ]
  },
  {
   "cell_type": "code",
   "execution_count": 41,
   "metadata": {},
   "outputs": [],
   "source": [
    "import feather\n",
    "\n",
    "data_ = data_.reset_index()\n",
    "#Saving data to modeling\n",
    "data_.to_feather('../data/data_clean.feather')"
   ]
  }
 ],
 "metadata": {
  "kernelspec": {
   "display_name": "Python 3",
   "language": "python",
   "name": "python3"
  },
  "language_info": {
   "codemirror_mode": {
    "name": "ipython",
    "version": 3
   },
   "file_extension": ".py",
   "mimetype": "text/x-python",
   "name": "python",
   "nbconvert_exporter": "python",
   "pygments_lexer": "ipython3",
   "version": "3.8.3"
  }
 },
 "nbformat": 4,
 "nbformat_minor": 5
}
