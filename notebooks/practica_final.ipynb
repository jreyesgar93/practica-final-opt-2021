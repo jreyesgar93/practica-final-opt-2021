{
 "cells": [
  {
   "cell_type": "markdown",
   "metadata": {
    "tags": []
   },
   "source": [
    "# Pipeline\n"
   ]
  },
  {
   "cell_type": "code",
   "execution_count": 3,
   "metadata": {
    "tags": [
     "imports"
    ]
   },
   "outputs": [],
   "source": [
    "import pandas as pd\n",
    "import requests\n",
    "import numpy as np\n",
    "import missingno as msno\n",
    "import math\n",
    "import matplotlib.pyplot as plt\n",
    "import json\n",
    "import pickle\n",
    "import seaborn as sns"
   ]
  },
  {
   "cell_type": "code",
   "execution_count": null,
   "metadata": {
    "tags": [
     "block:funcs"
    ]
   },
   "outputs": [],
   "source": [
    "def cambiar_minusculas_variable(archivo,variable):\n",
    "    archivo[variable]=archivo[variable].str.lower()\n",
    "    \n",
    "\n",
    "\n",
    "def tabla_estadisticos_descriptivos_variables_numericas(archivo):\n",
    "    def selecciona_variables_numericas(archivo):\n",
    "        lista_variables_numericas=archivo.select_dtypes(include = 'number').columns.values\n",
    "        archivo_variables_numericas = archivo.loc[:, lista_variables_numericas]\n",
    "        return archivo_variables_numericas\n",
    "    def q25(archivo):\n",
    "        qal25=archivo.quantile(.25)\n",
    "        return qal25\n",
    "    def q75(archivo):\n",
    "        qal75=archivo.quantile(.75)\n",
    "        return qal75\n",
    "    def uniques(archivo):\n",
    "        uni=archivo.nunique()\n",
    "        return uni\n",
    "    def missings(archivo):\n",
    "        nulos=archivo.isnull().sum()\n",
    "        return nulos\n",
    "    def prop_missings(archivo):\n",
    "        prop=(archivo.isnull().sum()/len(archivo.index))*100\n",
    "        return prop\n",
    "    archivonum=selecciona_variables_numericas(archivo).agg(['max','min','mean','std',q25,'median',q75,'skew','kurt','count',uniques,missings,prop_missings])\n",
    "    return archivonum\n",
    "\n",
    "def tabla_estadisticos_descriptivos_variables_categoricas(archivo):\n",
    "    def selecciona_variables_categoricas(archivo):\n",
    "        lista_variables_categoricas=archivo.select_dtypes(include = 'object').columns.values\n",
    "        archivo_variables_categoricas = archivo.loc[:, lista_variables_categoricas]\n",
    "        return archivo_variables_categoricas\n",
    "    def uniques(archivo):\n",
    "        uni=archivo.nunique()\n",
    "        return uni\n",
    "    def uniques_list(archivo):\n",
    "        uni=archivo.unique()\n",
    "        return uni\n",
    "    def missings(archivo):\n",
    "        nulos=archivo.isnull().sum()\n",
    "        return nulos\n",
    "    def prop_missings(archivo):\n",
    "        prop=(archivo.isnull().sum()/len(archivo.index))*100\n",
    "        return prop\n",
    "    archivocat=selecciona_variables_categoricas(archivo).agg(['count',uniques,uniques_list,missings,prop_missings])\n",
    "    return archivocat\n",
    "\n",
    "def grafico_histograma_categorica(archivo,variable_categorica,variable_contar,etiqueta_ejex,etiqueta_ejey,titulo):\n",
    "    result=archivo.groupby([variable_categorica])[variable_contar].count().reset_index().sort_values(variable_contar,ascending=False)\n",
    "    graf=sns.countplot(x=variable_categorica, palette=\"Paired\", data=archivo,order=result[variable_categorica].values);\n",
    "    graf.set_xticklabels(graf.get_xticklabels(), rotation=45, ha=\"right\")\n",
    "    graf.set(xlabel=etiqueta_ejex, ylabel=etiqueta_ejey, title=titulo)    \n",
    "\n",
    "def grafico_barplot_orden_decreciente(archivo,variable_ejex,variable_ejey,etiqueta_ejex,etiqueta_ejey,titulo):\n",
    "    result = archivo.groupby([variable_ejex])[variable_ejey].mean().reset_index().sort_values(variable_ejey,ascending=False)\n",
    "    graf=sns.barplot(x=variable_ejex, y=variable_ejey, data=archivo, order=result[variable_ejex])\n",
    "    graf.set_xticklabels(graf.get_xticklabels(), rotation=40, ha=\"right\")\n",
    "    graf.set(xlabel=etiqueta_ejex, ylabel=etiqueta_ejey, title=titulo)\n",
    "\n"
   ]
  },
  {
   "cell_type": "code",
   "execution_count": 4,
   "metadata": {
    "tags": [
     "block:prepare1",
     "prev:funcs"
    ]
   },
   "outputs": [],
   "source": [
    "data = pd.read_csv('../data/201912-citibike-tripdata.csv.zip')"
   ]
  },
  {
   "cell_type": "code",
   "execution_count": 5,
   "metadata": {
    "tags": []
   },
   "outputs": [],
   "source": [
    "#Creación de la columna trip_id\n",
    "\n",
    "#generamos los ID's\n",
    "n= len(data.index)\n",
    "digits_range = range(1345,n + 1345)\n",
    "digits_list = list(digits_range)\n",
    "\n",
    "#Agreagamos la columna al df\n",
    "data['trip_id'] = digits_list"
   ]
  },
  {
   "cell_type": "code",
   "execution_count": 6,
   "metadata": {
    "tags": []
   },
   "outputs": [],
   "source": [
    "#Se obtienen las filas que tienen como usertype \"Customer\"\n",
    "subset_c = data.loc[data['usertype'] == 'Customer']\n",
    "\n",
    "#Se obtienen las filas que tienen como usertype \"Subscriber\"\n",
    "subset_s = data.loc[data['usertype'] == 'Subscriber']"
   ]
  },
  {
   "cell_type": "code",
   "execution_count": 7,
   "metadata": {
    "tags": []
   },
   "outputs": [
    {
     "name": "stdout",
     "output_type": "stream",
     "text": [
      "Numero de pasese en diciembre de 1 día 71027\n",
      "Numero de pasese en diciembre de 3 días 6598\n"
     ]
    },
    {
     "data": {
      "text/plain": [
       "77625"
      ]
     },
     "execution_count": 7,
     "metadata": {},
     "output_type": "execute_result"
    }
   ],
   "source": [
    "subset_c.shape[0]\n",
    "\n",
    "#Número de pases de 1 día\n",
    "one_day = round(subset_c.shape[0]*.915)\n",
    "\n",
    "#Número de pases de 3 días\n",
    "tree_day = subset_c.shape[0] - one_day\n",
    "\n",
    "print(\"Numero de pasese en diciembre de 1 día\",one_day )\n",
    "print(\"Numero de pasese en diciembre de 3 días\",tree_day )\n",
    "one_day + tree_day"
   ]
  },
  {
   "cell_type": "code",
   "execution_count": 8,
   "metadata": {
    "tags": []
   },
   "outputs": [
    {
     "name": "stderr",
     "output_type": "stream",
     "text": [
      "/usr/local/lib/python3.6/dist-packages/ipykernel_launcher.py:2: SettingWithCopyWarning: \n",
      "A value is trying to be set on a copy of a slice from a DataFrame.\n",
      "Try using .loc[row_indexer,col_indexer] = value instead\n",
      "\n",
      "See the caveats in the documentation: https://pandas.pydata.org/pandas-docs/stable/user_guide/indexing.html#returning-a-view-versus-a-copy\n",
      "  \n"
     ]
    }
   ],
   "source": [
    "#Creación de columna auxiliar para separar los pases de Costumer en 2\n",
    "subset_c['aux']=np.random.binomial(1,.915,77625)"
   ]
  },
  {
   "cell_type": "code",
   "execution_count": 9,
   "metadata": {
    "tags": []
   },
   "outputs": [
    {
     "name": "stderr",
     "output_type": "stream",
     "text": [
      "/usr/local/lib/python3.6/dist-packages/ipykernel_launcher.py:2: SettingWithCopyWarning: \n",
      "A value is trying to be set on a copy of a slice from a DataFrame.\n",
      "Try using .loc[row_indexer,col_indexer] = value instead\n",
      "\n",
      "See the caveats in the documentation: https://pandas.pydata.org/pandas-docs/stable/user_guide/indexing.html#returning-a-view-versus-a-copy\n",
      "  \n",
      "/usr/local/lib/python3.6/dist-packages/ipykernel_launcher.py:6: SettingWithCopyWarning: \n",
      "A value is trying to be set on a copy of a slice from a DataFrame.\n",
      "Try using .loc[row_indexer,col_indexer] = value instead\n",
      "\n",
      "See the caveats in the documentation: https://pandas.pydata.org/pandas-docs/stable/user_guide/indexing.html#returning-a-view-versus-a-copy\n",
      "  \n"
     ]
    },
    {
     "data": {
      "text/plain": [
       "(955210, 17)"
      ]
     },
     "execution_count": 9,
     "metadata": {},
     "output_type": "execute_result"
    }
   ],
   "source": [
    "#Creación de columna con el nombre de los pases nuevos\n",
    "subset_c['type_pass'] = np.where(subset_c['aux'] == 1, \"one-day\", \"tree-days\")\n",
    "#Borramos la columa auxiliar\n",
    "del subset_c['aux']\n",
    "\n",
    "subset_s['type_pass']='annual'\n",
    "#Juntamos los dos dataframes\n",
    "data = subset_s.append(subset_c, ignore_index=True)\n",
    "data.shape"
   ]
  },
  {
   "cell_type": "code",
   "execution_count": 11,
   "metadata": {
    "tags": []
   },
   "outputs": [],
   "source": [
    "#Creación de una columna nueva : trip_category\n",
    "data['aux']=np.random.binomial(1,0.0454,955210)\n",
    "\n",
    "data['trip_category'] = np.where(data['aux'] == 1, \"one-way\", \"round-trip\")\n",
    "#Borramos la columa auxiliar\n",
    "del data['aux']"
   ]
  },
  {
   "cell_type": "code",
   "execution_count": 12,
   "metadata": {
    "tags": []
   },
   "outputs": [],
   "source": [
    "data['duration'] = round(data['tripduration']/60)\n",
    "data['starttime'] = pd.to_datetime(data['starttime']).dt.strftime('%Y-%m-%d %H:%M')\n",
    "data['stoptime'] = pd.to_datetime(data['stoptime']).dt.strftime('%Y-%m-%d %H:%M')"
   ]
  },
  {
   "cell_type": "code",
   "execution_count": 13,
   "metadata": {
    "tags": [
     "block:clean1",
     "prev:prepare1"
    ]
   },
   "outputs": [],
   "source": [
    "data_ = data.copy()"
   ]
  },
  {
   "cell_type": "code",
   "execution_count": 14,
   "metadata": {
    "tags": []
   },
   "outputs": [],
   "source": [
    "# remove spaces in column names\n",
    "data_.columns = data_.columns.str.replace(' ', '_')"
   ]
  },
  {
   "cell_type": "code",
   "execution_count": 15,
   "metadata": {
    "tags": []
   },
   "outputs": [],
   "source": [
    "# Change to lower categorical variables\n",
    "cambiar_minusculas_variable(data_,'start_station_name')\n",
    "cambiar_minusculas_variable(data_,'end_station_name')\n",
    "cambiar_minusculas_variable(data_,'usertype')\n",
    "cambiar_minusculas_variable(data_,'type_pass')\n",
    "cambiar_minusculas_variable(data_,'trip_category')"
   ]
  },
  {
   "cell_type": "code",
   "execution_count": 16,
   "metadata": {
    "tags": []
   },
   "outputs": [],
   "source": [
    "# Converting start and end times to datetime objects.\n",
    "data_['starttime'] = pd.to_datetime(data_['starttime'])\n",
    "data_['stoptime'] = pd.to_datetime(data_['stoptime'])"
   ]
  },
  {
   "cell_type": "code",
   "execution_count": 17,
   "metadata": {
    "tags": []
   },
   "outputs": [],
   "source": [
    "# Create label for rides that were charged based on current pricing plan.\n",
    "def label_charged(duration):\n",
    "    \"\"\"\"Function to create a new catergorical variable that indicate if theres has to be an adittional charge\"\"\"\n",
    "    if duration <= 30:\n",
    "        return 0\n",
    "    else:\n",
    "        return 1\n",
    "\n",
    "data_['charged_ride'] = data_['duration'].apply(label_charged)"
   ]
  },
  {
   "cell_type": "code",
   "execution_count": 18,
   "metadata": {
    "tags": []
   },
   "outputs": [],
   "source": [
    "# Column for hour of day of ride.\n",
    "data_['start_hour'] = data_['starttime'].dt.hour"
   ]
  },
  {
   "cell_type": "code",
   "execution_count": 19,
   "metadata": {
    "tags": []
   },
   "outputs": [
    {
     "data": {
      "text/plain": [
       "Timestamp('2020-01-17 20:00:00')"
      ]
     },
     "execution_count": 19,
     "metadata": {},
     "output_type": "execute_result"
    }
   ],
   "source": [
    "latest_ride_date = data_['stoptime'].max()\n",
    "latest_ride_date"
   ]
  },
  {
   "cell_type": "code",
   "execution_count": 20,
   "metadata": {
    "tags": []
   },
   "outputs": [],
   "source": [
    "bike_last_used_id = bike_last_used = data_.groupby('bikeid')['stoptime'].max().keys().tolist()\n",
    "bike_last_used_date = data_.groupby('bikeid')['stoptime'].max().tolist()"
   ]
  },
  {
   "cell_type": "code",
   "execution_count": 21,
   "metadata": {
    "tags": []
   },
   "outputs": [
    {
     "name": "stdout",
     "output_type": "stream",
     "text": [
      "1 12454\n",
      "2 13816\n",
      "3 13816\n",
      "4 13816\n",
      "5 13816\n",
      "6 13816\n",
      "7 13816\n",
      "8 13816\n",
      "9 13816\n",
      "10 13816\n",
      "11 13816\n",
      "12 13816\n"
     ]
    }
   ],
   "source": [
    "# Number of bikes active each month in the past year.\n",
    "for month in range(1,13):\n",
    "    print(month, len([record for record in list(zip(bike_last_used_id,bike_last_used_date)) if \n",
    "                      record[1] > latest_ride_date + np.timedelta64(-month, 'M') ]))"
   ]
  },
  {
   "cell_type": "code",
   "execution_count": 22,
   "metadata": {
    "tags": []
   },
   "outputs": [
    {
     "data": {
      "text/plain": [
       "0"
      ]
     },
     "execution_count": 22,
     "metadata": {},
     "output_type": "execute_result"
    }
   ],
   "source": [
    "# Number of inactive bikes (bikes that haven't been used in the past 6 months)\n",
    "len([record for record in list(zip(bike_last_used_id,bike_last_used_date)) if \n",
    "     record[1] < latest_ride_date + np.timedelta64(-6, 'M') ])"
   ]
  },
  {
   "cell_type": "code",
   "execution_count": 23,
   "metadata": {
    "tags": []
   },
   "outputs": [],
   "source": [
    "# Create feature indicating active bikes, used in past 6 months. 1 if active, 0 if inactive.\n",
    "inactive_ids = [record[0] for record in list(zip(bike_last_used_id,bike_last_used_date)) if \n",
    "                record[1] < latest_ride_date + np.timedelta64(-6, 'M') ]\n",
    "data_['active_6m'] = data_['bikeid'].apply(lambda bike_id: 0 if bike_id in (inactive_ids) else 1)"
   ]
  },
  {
   "cell_type": "code",
   "execution_count": 25,
   "metadata": {
    "tags": []
   },
   "outputs": [],
   "source": [
    "#Select variables to modeling\n",
    "data_ = data_ [[\"trip_id\", \"duration\",\"starttime\", \"stoptime\", \"trip_category\", \"type_pass\"]]"
   ]
  },
  {
   "cell_type": "code",
   "execution_count": 26,
   "metadata": {
    "tags": []
   },
   "outputs": [
    {
     "data": {
      "text/html": [
       "<div>\n",
       "<style scoped>\n",
       "    .dataframe tbody tr th:only-of-type {\n",
       "        vertical-align: middle;\n",
       "    }\n",
       "\n",
       "    .dataframe tbody tr th {\n",
       "        vertical-align: top;\n",
       "    }\n",
       "\n",
       "    .dataframe thead th {\n",
       "        text-align: right;\n",
       "    }\n",
       "</style>\n",
       "<table border=\"1\" class=\"dataframe\">\n",
       "  <thead>\n",
       "    <tr style=\"text-align: right;\">\n",
       "      <th></th>\n",
       "      <th>trip_id</th>\n",
       "      <th>duration</th>\n",
       "      <th>starttime</th>\n",
       "      <th>stoptime</th>\n",
       "      <th>trip_category</th>\n",
       "      <th>type_pass</th>\n",
       "    </tr>\n",
       "  </thead>\n",
       "  <tbody>\n",
       "    <tr>\n",
       "      <th>0</th>\n",
       "      <td>1345</td>\n",
       "      <td>10.0</td>\n",
       "      <td>2019-12-01 00:00:00</td>\n",
       "      <td>2019-12-01 00:10:00</td>\n",
       "      <td>round-trip</td>\n",
       "      <td>annual</td>\n",
       "    </tr>\n",
       "    <tr>\n",
       "      <th>1</th>\n",
       "      <td>1347</td>\n",
       "      <td>12.0</td>\n",
       "      <td>2019-12-01 00:00:00</td>\n",
       "      <td>2019-12-01 00:12:00</td>\n",
       "      <td>round-trip</td>\n",
       "      <td>annual</td>\n",
       "    </tr>\n",
       "    <tr>\n",
       "      <th>2</th>\n",
       "      <td>1349</td>\n",
       "      <td>18.0</td>\n",
       "      <td>2019-12-01 00:00:00</td>\n",
       "      <td>2019-12-01 00:17:00</td>\n",
       "      <td>round-trip</td>\n",
       "      <td>annual</td>\n",
       "    </tr>\n",
       "    <tr>\n",
       "      <th>3</th>\n",
       "      <td>1350</td>\n",
       "      <td>21.0</td>\n",
       "      <td>2019-12-01 00:00:00</td>\n",
       "      <td>2019-12-01 00:21:00</td>\n",
       "      <td>round-trip</td>\n",
       "      <td>annual</td>\n",
       "    </tr>\n",
       "    <tr>\n",
       "      <th>4</th>\n",
       "      <td>1351</td>\n",
       "      <td>10.0</td>\n",
       "      <td>2019-12-01 00:00:00</td>\n",
       "      <td>2019-12-01 00:10:00</td>\n",
       "      <td>round-trip</td>\n",
       "      <td>annual</td>\n",
       "    </tr>\n",
       "    <tr>\n",
       "      <th>...</th>\n",
       "      <td>...</td>\n",
       "      <td>...</td>\n",
       "      <td>...</td>\n",
       "      <td>...</td>\n",
       "      <td>...</td>\n",
       "      <td>...</td>\n",
       "    </tr>\n",
       "    <tr>\n",
       "      <th>955205</th>\n",
       "      <td>956539</td>\n",
       "      <td>8.0</td>\n",
       "      <td>2019-12-31 23:53:00</td>\n",
       "      <td>2020-01-01 00:00:00</td>\n",
       "      <td>round-trip</td>\n",
       "      <td>one-day</td>\n",
       "    </tr>\n",
       "    <tr>\n",
       "      <th>955206</th>\n",
       "      <td>956542</td>\n",
       "      <td>8.0</td>\n",
       "      <td>2019-12-31 23:53:00</td>\n",
       "      <td>2020-01-01 00:01:00</td>\n",
       "      <td>round-trip</td>\n",
       "      <td>one-day</td>\n",
       "    </tr>\n",
       "    <tr>\n",
       "      <th>955207</th>\n",
       "      <td>956544</td>\n",
       "      <td>30.0</td>\n",
       "      <td>2019-12-31 23:54:00</td>\n",
       "      <td>2020-01-01 00:24:00</td>\n",
       "      <td>round-trip</td>\n",
       "      <td>one-day</td>\n",
       "    </tr>\n",
       "    <tr>\n",
       "      <th>955208</th>\n",
       "      <td>956547</td>\n",
       "      <td>30.0</td>\n",
       "      <td>2019-12-31 23:55:00</td>\n",
       "      <td>2020-01-01 00:24:00</td>\n",
       "      <td>round-trip</td>\n",
       "      <td>one-day</td>\n",
       "    </tr>\n",
       "    <tr>\n",
       "      <th>955209</th>\n",
       "      <td>956548</td>\n",
       "      <td>2035.0</td>\n",
       "      <td>2019-12-31 23:55:00</td>\n",
       "      <td>2020-01-02 09:50:00</td>\n",
       "      <td>round-trip</td>\n",
       "      <td>one-day</td>\n",
       "    </tr>\n",
       "  </tbody>\n",
       "</table>\n",
       "<p>955210 rows × 6 columns</p>\n",
       "</div>"
      ],
      "text/plain": [
       "        trip_id  duration           starttime            stoptime  \\\n",
       "0          1345      10.0 2019-12-01 00:00:00 2019-12-01 00:10:00   \n",
       "1          1347      12.0 2019-12-01 00:00:00 2019-12-01 00:12:00   \n",
       "2          1349      18.0 2019-12-01 00:00:00 2019-12-01 00:17:00   \n",
       "3          1350      21.0 2019-12-01 00:00:00 2019-12-01 00:21:00   \n",
       "4          1351      10.0 2019-12-01 00:00:00 2019-12-01 00:10:00   \n",
       "...         ...       ...                 ...                 ...   \n",
       "955205   956539       8.0 2019-12-31 23:53:00 2020-01-01 00:00:00   \n",
       "955206   956542       8.0 2019-12-31 23:53:00 2020-01-01 00:01:00   \n",
       "955207   956544      30.0 2019-12-31 23:54:00 2020-01-01 00:24:00   \n",
       "955208   956547      30.0 2019-12-31 23:55:00 2020-01-01 00:24:00   \n",
       "955209   956548    2035.0 2019-12-31 23:55:00 2020-01-02 09:50:00   \n",
       "\n",
       "       trip_category type_pass  \n",
       "0         round-trip    annual  \n",
       "1         round-trip    annual  \n",
       "2         round-trip    annual  \n",
       "3         round-trip    annual  \n",
       "4         round-trip    annual  \n",
       "...              ...       ...  \n",
       "955205    round-trip   one-day  \n",
       "955206    round-trip   one-day  \n",
       "955207    round-trip   one-day  \n",
       "955208    round-trip   one-day  \n",
       "955209    round-trip   one-day  \n",
       "\n",
       "[955210 rows x 6 columns]"
      ]
     },
     "execution_count": 26,
     "metadata": {},
     "output_type": "execute_result"
    }
   ],
   "source": [
    "data_"
   ]
  }
 ],
 "metadata": {
  "kernelspec": {
   "display_name": "Python 3",
   "language": "python",
   "name": "python3"
  },
  "kubeflow_notebook": {
   "autosnapshot": false,
   "docker_image": "ferubio/pkg_optim_kale:0.1",
   "experiment": {
    "id": "new",
    "name": "cleandata"
   },
   "experiment_name": "cleandata",
   "katib_metadata": {
    "algorithm": {
     "algorithmName": "grid"
    },
    "maxFailedTrialCount": 3,
    "maxTrialCount": 12,
    "objective": {
     "objectiveMetricName": "",
     "type": "minimize"
    },
    "parallelTrialCount": 3,
    "parameters": []
   },
   "katib_run": false,
   "pipeline_description": "city bike optimization ",
   "pipeline_name": "citi-bike",
   "snapshot_volumes": false,
   "steps_defaults": [],
   "volume_access_mode": "rwm",
   "volumes": [
    {
     "annotations": [],
     "mount_point": "/shared_volume",
     "name": "hostpath-pvc",
     "size": 1,
     "size_type": "Gi",
     "snapshot": false,
     "snapshot_name": "",
     "type": "pvc"
    }
   ]
  },
  "language_info": {
   "codemirror_mode": {
    "name": "ipython",
    "version": 3
   },
   "file_extension": ".py",
   "mimetype": "text/x-python",
   "name": "python",
   "nbconvert_exporter": "python",
   "pygments_lexer": "ipython3",
   "version": "3.6.9"
  }
 },
 "nbformat": 4,
 "nbformat_minor": 4
}
