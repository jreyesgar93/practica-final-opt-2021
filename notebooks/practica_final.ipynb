{
 "cells": [
  {
   "cell_type": "markdown",
   "metadata": {
    "tags": []
   },
   "source": [
    "# Pipeline\n"
   ]
  },
  {
   "cell_type": "code",
   "execution_count": 2,
   "metadata": {
    "tags": [
     "imports"
    ]
   },
   "outputs": [],
   "source": [
    "import pandas as pd\n",
    "import requests\n",
    "import numpy as np\n",
    "import math\n",
    "import pickle\n",
    "import glob"
   ]
  },
  {
   "cell_type": "code",
   "execution_count": 39,
   "metadata": {
    "tags": [
     "block:funcs"
    ]
   },
   "outputs": [],
   "source": [
    "def cambiar_minusculas_variable(archivo,variable):\n",
    "    archivo[variable]=archivo[variable].str.lower()\n"
   ]
  },
  {
   "cell_type": "code",
   "execution_count": null,
   "metadata": {
    "tags": [
     "block:mergedata1",
     "prev:funcs"
    ]
   },
   "outputs": [
    {
     "name": "stdout",
     "output_type": "stream",
     "text": [
      "0\n",
      "1\n"
     ]
    }
   ],
   "source": [
    "\n",
    "path = '../data' # use your path\n",
    "all_files = glob.glob(path + \"/*.zip\")\n",
    "all_files = all_files[0:3]\n",
    "\n",
    "li = []\n",
    "i = 0\n",
    "for filename in all_files:\n",
    "    df = pd.read_csv(filename, index_col=None, header=0)\n",
    "    print(i)\n",
    "    i+=1\n",
    "    li.append(df)\n",
    "\n",
    "data1 = pd.concat(li, axis=0, ignore_index=True)"
   ]
  },
  {
   "cell_type": "code",
   "execution_count": null,
   "metadata": {
    "tags": [
     "block:mergedata2",
     "prev:funcs"
    ]
   },
   "outputs": [],
   "source": [
    "\n",
    "path = '../data' # use your path\n",
    "all_files = glob.glob(path + \"/*.zip\")\n",
    "all_files = all_files[3:6]\n",
    "\n",
    "li = []\n",
    "i = 0\n",
    "for filename in all_files:\n",
    "    df = pd.read_csv(filename, index_col=None, header=0)\n",
    "    print(i)\n",
    "    i+=1\n",
    "    li.append(df)\n",
    "\n",
    "data2 = pd.concat(li, axis=0, ignore_index=True)"
   ]
  },
  {
   "cell_type": "code",
   "execution_count": null,
   "metadata": {
    "tags": [
     "block:mergedata3",
     "prev:funcs"
    ]
   },
   "outputs": [],
   "source": [
    "\n",
    "path = '../data' # use your path\n",
    "all_files = glob.glob(path + \"/*.zip\")\n",
    "all_files = all_files[6:9]\n",
    "\n",
    "li = []\n",
    "i = 0\n",
    "for filename in all_files:\n",
    "    df = pd.read_csv(filename, index_col=None, header=0)\n",
    "    print(i)\n",
    "    i+=1\n",
    "    li.append(df)\n",
    "\n",
    "data3 = pd.concat(li, axis=0, ignore_index=True)"
   ]
  },
  {
   "cell_type": "code",
   "execution_count": null,
   "metadata": {
    "tags": [
     "block:mergedata4",
     "prev:funcs"
    ]
   },
   "outputs": [],
   "source": [
    "\n",
    "path = '../data' # use your path\n",
    "all_files = glob.glob(path + \"/*.zip\")\n",
    "all_files = all_files[9:12]\n",
    "\n",
    "li = []\n",
    "i = 0\n",
    "for filename in all_files:\n",
    "    df = pd.read_csv(filename, index_col=None, header=0)\n",
    "    print(i)\n",
    "    i+=1\n",
    "    li.append(df)\n",
    "\n",
    "data4 = pd.concat(li, axis=0, ignore_index=True)"
   ]
  },
  {
   "cell_type": "code",
   "execution_count": 24,
   "metadata": {
    "tags": [
     "block:joindata",
     "prev:mergedata1",
     "prev:mergedata3",
     "prev:mergedata2",
     "prev:mergedata4"
    ]
   },
   "outputs": [
    {
     "ename": "NameError",
     "evalue": "name 'data1' is not defined",
     "output_type": "error",
     "traceback": [
      "\u001b[0;31m---------------------------------------------------------------------------\u001b[0m",
      "\u001b[0;31mNameError\u001b[0m                                 Traceback (most recent call last)",
      "\u001b[0;32m<ipython-input-24-e34890bb4ad2>\u001b[0m in \u001b[0;36m<module>\u001b[0;34m\u001b[0m\n\u001b[0;32m----> 1\u001b[0;31m \u001b[0mdata\u001b[0m \u001b[0;34m=\u001b[0m \u001b[0mpd\u001b[0m\u001b[0;34m.\u001b[0m\u001b[0mconcat\u001b[0m\u001b[0;34m(\u001b[0m\u001b[0;34m[\u001b[0m\u001b[0mdata1\u001b[0m\u001b[0;34m,\u001b[0m\u001b[0mdata2\u001b[0m\u001b[0;34m,\u001b[0m\u001b[0mdata3\u001b[0m\u001b[0;34m,\u001b[0m\u001b[0mdata4\u001b[0m\u001b[0;34m]\u001b[0m\u001b[0;34m,\u001b[0m \u001b[0maxis\u001b[0m\u001b[0;34m=\u001b[0m\u001b[0;36m0\u001b[0m\u001b[0;34m,\u001b[0m \u001b[0mignore_index\u001b[0m\u001b[0;34m=\u001b[0m\u001b[0;32mTrue\u001b[0m\u001b[0;34m)\u001b[0m\u001b[0;34m\u001b[0m\u001b[0;34m\u001b[0m\u001b[0m\n\u001b[0m",
      "\u001b[0;31mNameError\u001b[0m: name 'data1' is not defined"
     ]
    }
   ],
   "source": [
    "\n",
    "data = pd.concat([data1,data2,data3,data4], axis=0, ignore_index=True)"
   ]
  },
  {
   "cell_type": "code",
   "execution_count": 25,
   "metadata": {
    "tags": [
     "block:prepare1",
     "prev:joindata"
    ]
   },
   "outputs": [],
   "source": [
    "#data = pd.read_csv('../data/201912-citibike-tripdata.csv.zip')"
   ]
  },
  {
   "cell_type": "code",
   "execution_count": null,
   "metadata": {},
   "outputs": [],
   "source": []
  },
  {
   "cell_type": "code",
   "execution_count": 26,
   "metadata": {
    "tags": []
   },
   "outputs": [],
   "source": [
    "#Creación de la columna trip_id\n",
    "\n",
    "#generamos los ID's\n",
    "n = len(data.index)\n",
    "digits_range = range(1345,n + 1345)\n",
    "digits_list = list(digits_range)\n",
    "\n",
    "#Agreagamos la columna al df\n",
    "data['trip_id'] = digits_list"
   ]
  },
  {
   "cell_type": "code",
   "execution_count": 27,
   "metadata": {
    "tags": []
   },
   "outputs": [],
   "source": [
    "#Se obtienen las filas que tienen como usertype \"Customer\"\n",
    "subset_c = data.loc[data['usertype'] == 'Customer']\n",
    "\n",
    "#Se obtienen las filas que tienen como usertype \"Subscriber\"\n",
    "subset_s = data.loc[data['usertype'] == 'Subscriber']"
   ]
  },
  {
   "cell_type": "code",
   "execution_count": 28,
   "metadata": {
    "tags": []
   },
   "outputs": [
    {
     "name": "stdout",
     "output_type": "stream",
     "text": [
      "Numero de pases en diciembre de 1 día 24529\n",
      "Numero de pases en diciembre de un viaje sencillo 53096\n"
     ]
    },
    {
     "data": {
      "text/plain": [
       "77625"
      ]
     },
     "execution_count": 28,
     "metadata": {},
     "output_type": "execute_result"
    }
   ],
   "source": [
    "subset_c.shape[0]\n",
    "\n",
    "#Número de pases de 1 día\n",
    "single_trip = round(subset_c.shape[0]*.684)\n",
    "\n",
    "#Número de pases de 3 días\n",
    "one_day = subset_c.shape[0] - single_trip\n",
    "\n",
    "print(\"Numero de pases en diciembre de 1 día\",one_day )\n",
    "print(\"Numero de pases en diciembre de un viaje sencillo\",single_trip )\n",
    "one_day + single_trip"
   ]
  },
  {
   "cell_type": "code",
   "execution_count": 29,
   "metadata": {
    "tags": []
   },
   "outputs": [
    {
     "name": "stderr",
     "output_type": "stream",
     "text": [
      "/usr/local/lib/python3.6/dist-packages/ipykernel_launcher.py:3: SettingWithCopyWarning: \n",
      "A value is trying to be set on a copy of a slice from a DataFrame.\n",
      "Try using .loc[row_indexer,col_indexer] = value instead\n",
      "\n",
      "See the caveats in the documentation: https://pandas.pydata.org/pandas-docs/stable/user_guide/indexing.html#returning-a-view-versus-a-copy\n",
      "  This is separate from the ipykernel package so we can avoid doing imports until\n"
     ]
    }
   ],
   "source": [
    "\n",
    "#Creación de columna auxiliar para separar los pases de Costumer en 2\n",
    "c_n = len(subset_c.index)\n",
    "subset_c['aux']=np.random.binomial(1,.684,c_n)"
   ]
  },
  {
   "cell_type": "code",
   "execution_count": 9,
   "metadata": {
    "tags": []
   },
   "outputs": [
    {
     "data": {
      "text/plain": [
       "77625"
      ]
     },
     "execution_count": 9,
     "metadata": {},
     "output_type": "execute_result"
    }
   ],
   "source": [
    "c_n\n"
   ]
  },
  {
   "cell_type": "code",
   "execution_count": 30,
   "metadata": {
    "tags": []
   },
   "outputs": [
    {
     "name": "stderr",
     "output_type": "stream",
     "text": [
      "/usr/local/lib/python3.6/dist-packages/ipykernel_launcher.py:2: SettingWithCopyWarning: \n",
      "A value is trying to be set on a copy of a slice from a DataFrame.\n",
      "Try using .loc[row_indexer,col_indexer] = value instead\n",
      "\n",
      "See the caveats in the documentation: https://pandas.pydata.org/pandas-docs/stable/user_guide/indexing.html#returning-a-view-versus-a-copy\n",
      "  \n",
      "/usr/local/lib/python3.6/dist-packages/ipykernel_launcher.py:6: SettingWithCopyWarning: \n",
      "A value is trying to be set on a copy of a slice from a DataFrame.\n",
      "Try using .loc[row_indexer,col_indexer] = value instead\n",
      "\n",
      "See the caveats in the documentation: https://pandas.pydata.org/pandas-docs/stable/user_guide/indexing.html#returning-a-view-versus-a-copy\n",
      "  \n"
     ]
    },
    {
     "data": {
      "text/plain": [
       "(955210, 17)"
      ]
     },
     "execution_count": 30,
     "metadata": {},
     "output_type": "execute_result"
    }
   ],
   "source": [
    "#Creación de columna con el nombre de los pases nuevos\n",
    "subset_c['type_pass'] = np.where(subset_c['aux'] == 1, \"single_trip\", \"one_day\")\n",
    "#Borramos la columa auxiliar\n",
    "del subset_c['aux']\n",
    "\n",
    "subset_s['type_pass']='annual'\n",
    "#Juntamos los dos dataframes\n",
    "data = subset_s.append(subset_c, ignore_index=True)\n",
    "data.shape"
   ]
  },
  {
   "cell_type": "code",
   "execution_count": 31,
   "metadata": {
    "tags": []
   },
   "outputs": [
    {
     "name": "stderr",
     "output_type": "stream",
     "text": [
      "/usr/local/lib/python3.6/dist-packages/ipykernel_launcher.py:4: SettingWithCopyWarning: \n",
      "A value is trying to be set on a copy of a slice from a DataFrame.\n",
      "Try using .loc[row_indexer,col_indexer] = value instead\n",
      "\n",
      "See the caveats in the documentation: https://pandas.pydata.org/pandas-docs/stable/user_guide/indexing.html#returning-a-view-versus-a-copy\n",
      "  after removing the cwd from sys.path.\n"
     ]
    }
   ],
   "source": [
    "#Se obtienen las filas que tienen como usertype \"Customer\"\n",
    "subset_s = data.loc[data['type_pass'] == 'single_trip']\n",
    "\n",
    "subset_s['trip_category']='one-way'\n",
    "\n",
    "subset_o = data.drop(subset_s.index)"
   ]
  },
  {
   "cell_type": "code",
   "execution_count": 32,
   "metadata": {
    "tags": []
   },
   "outputs": [],
   "source": [
    "#Creación de una columna nueva : trip_category\n",
    "o_n = len(subset_o)\n",
    "subset_o['aux']=np.random.binomial(1,.192,o_n)\n",
    "\n",
    "subset_o['trip_category'] = np.where(subset_o['aux'] == 1, \"round-trip\", \"one-way\")\n",
    "#Borramos la columa auxiliar\n",
    "del subset_o['aux']"
   ]
  },
  {
   "cell_type": "code",
   "execution_count": 33,
   "metadata": {
    "tags": []
   },
   "outputs": [
    {
     "data": {
      "text/plain": [
       "(955210, 18)"
      ]
     },
     "execution_count": 33,
     "metadata": {},
     "output_type": "execute_result"
    }
   ],
   "source": [
    "#Juntamos los dos dataframes\n",
    "data = subset_s.append(subset_o, ignore_index=True)\n",
    "data.shape"
   ]
  },
  {
   "cell_type": "code",
   "execution_count": 34,
   "metadata": {
    "tags": []
   },
   "outputs": [],
   "source": [
    "#Convertimos la duración a minutos\n",
    "data['duration'] = round(data['tripduration']/60)"
   ]
  },
  {
   "cell_type": "code",
   "execution_count": 35,
   "metadata": {
    "tags": []
   },
   "outputs": [],
   "source": [
    "data['starttime'] = pd.to_datetime(data['starttime']).dt.strftime('%Y-%m-%d %H:%M')\n",
    "data['stoptime'] = pd.to_datetime(data['stoptime']).dt.strftime('%Y-%m-%d %H:%M')"
   ]
  },
  {
   "cell_type": "code",
   "execution_count": 36,
   "metadata": {
    "tags": [
     "block:clean1",
     "prev:prepare1"
    ]
   },
   "outputs": [],
   "source": [
    "data_ = data.copy()"
   ]
  },
  {
   "cell_type": "code",
   "execution_count": 37,
   "metadata": {
    "tags": []
   },
   "outputs": [],
   "source": [
    "# remove spaces in column names\n",
    "data_.columns = data_.columns.str.replace(' ', '_')"
   ]
  },
  {
   "cell_type": "code",
   "execution_count": 40,
   "metadata": {
    "tags": []
   },
   "outputs": [],
   "source": [
    "# Change to lower categorical variables\n",
    "cambiar_minusculas_variable(data_,'start_station_name')\n",
    "cambiar_minusculas_variable(data_,'end_station_name')\n",
    "cambiar_minusculas_variable(data_,'usertype')\n",
    "cambiar_minusculas_variable(data_,'type_pass')\n",
    "cambiar_minusculas_variable(data_,'trip_category')"
   ]
  },
  {
   "cell_type": "code",
   "execution_count": 41,
   "metadata": {
    "tags": []
   },
   "outputs": [],
   "source": [
    "# Converting start and end times to datetime objects.\n",
    "data_['starttime'] = pd.to_datetime(data_['starttime'])\n",
    "data_['stoptime'] = pd.to_datetime(data_['stoptime'])"
   ]
  },
  {
   "cell_type": "code",
   "execution_count": 42,
   "metadata": {
    "tags": []
   },
   "outputs": [],
   "source": [
    "# Create label for rides that were charged based on current pricing plan.\n",
    "def label_charged(duration):\n",
    "    \"\"\"\"Function to create a new catergorical variable that indicate if theres has to be an adittional charge\"\"\"\n",
    "    if duration <= 30:\n",
    "        return 0\n",
    "    else:\n",
    "        return 1\n",
    "\n",
    "data_['charged_ride'] = data_['duration'].apply(label_charged)"
   ]
  },
  {
   "cell_type": "code",
   "execution_count": 43,
   "metadata": {
    "tags": []
   },
   "outputs": [],
   "source": [
    "# Column for hour of day of ride.\n",
    "data_['start_hour'] = data_['starttime'].dt.hour"
   ]
  },
  {
   "cell_type": "code",
   "execution_count": 44,
   "metadata": {
    "tags": []
   },
   "outputs": [
    {
     "data": {
      "text/plain": [
       "Timestamp('2020-01-17 20:00:00')"
      ]
     },
     "execution_count": 44,
     "metadata": {},
     "output_type": "execute_result"
    }
   ],
   "source": [
    "latest_ride_date = data_['stoptime'].max()\n",
    "latest_ride_date"
   ]
  },
  {
   "cell_type": "code",
   "execution_count": 45,
   "metadata": {
    "tags": []
   },
   "outputs": [],
   "source": [
    "bike_last_used_id = bike_last_used = data_.groupby('bikeid')['stoptime'].max().keys().tolist()\n",
    "bike_last_used_date = data_.groupby('bikeid')['stoptime'].max().tolist()"
   ]
  },
  {
   "cell_type": "code",
   "execution_count": 46,
   "metadata": {
    "tags": []
   },
   "outputs": [
    {
     "name": "stdout",
     "output_type": "stream",
     "text": [
      "1 12454\n",
      "2 13816\n",
      "3 13816\n",
      "4 13816\n",
      "5 13816\n",
      "6 13816\n",
      "7 13816\n",
      "8 13816\n",
      "9 13816\n",
      "10 13816\n",
      "11 13816\n",
      "12 13816\n"
     ]
    }
   ],
   "source": [
    "# Number of bikes active each month in the past year.\n",
    "for month in range(1,13):\n",
    "    print(month, len([record for record in list(zip(bike_last_used_id,bike_last_used_date)) if \n",
    "                      record[1] > latest_ride_date + np.timedelta64(-month, 'M') ]))"
   ]
  },
  {
   "cell_type": "code",
   "execution_count": 47,
   "metadata": {
    "tags": []
   },
   "outputs": [
    {
     "data": {
      "text/plain": [
       "0"
      ]
     },
     "execution_count": 47,
     "metadata": {},
     "output_type": "execute_result"
    }
   ],
   "source": [
    "# Number of inactive bikes (bikes that haven't been used in the past 6 months)\n",
    "len([record for record in list(zip(bike_last_used_id,bike_last_used_date)) if \n",
    "     record[1] < latest_ride_date + np.timedelta64(-6, 'M') ])"
   ]
  },
  {
   "cell_type": "code",
   "execution_count": 48,
   "metadata": {
    "tags": []
   },
   "outputs": [],
   "source": [
    "# Create feature indicating active bikes, used in past 6 months. 1 if active, 0 if inactive.\n",
    "inactive_ids = [record[0] for record in list(zip(bike_last_used_id,bike_last_used_date)) if \n",
    "                record[1] < latest_ride_date + np.timedelta64(-6, 'M') ]\n",
    "data_['active_6m'] = data_['bikeid'].apply(lambda bike_id: 0 if bike_id in (inactive_ids) else 1)"
   ]
  },
  {
   "cell_type": "code",
   "execution_count": 49,
   "metadata": {
    "tags": []
   },
   "outputs": [],
   "source": [
    "#Select variables to modeling\n",
    "data_ = data_ [[\"trip_id\", \"duration\",\"starttime\", \"stoptime\", \"trip_category\", \"type_pass\"]]"
   ]
  },
  {
   "cell_type": "code",
   "execution_count": 56,
   "metadata": {
    "tags": []
   },
   "outputs": [],
   "source": [
    "del data\n",
    "data_model = data_\n",
    "del data_"
   ]
  },
  {
   "cell_type": "code",
   "execution_count": 58,
   "metadata": {
    "tags": [
     "block:prep4experiments",
     "prev:clean1"
    ]
   },
   "outputs": [],
   "source": [
    "# Create dummy variables for passholder type.\n",
    "one_hot_pass = pd.get_dummies(data_model['type_pass'])\n",
    "\n",
    "# Create dummy variables for trip route category.\n",
    "one_hot_trip_type = pd.get_dummies(data_model['trip_category'])\n",
    "\n",
    "data_model = data_model.join([one_hot_pass, one_hot_trip_type])"
   ]
  },
  {
   "cell_type": "code",
   "execution_count": 59,
   "metadata": {
    "tags": []
   },
   "outputs": [],
   "source": [
    "# Creates feature for 30 minute blocks that walk-up users have to pay for.\n",
    "# Creates another feature for 30 minute blocks for passholders that exclude first 30 minute block.\n",
    "data_model['time_block_count'] = data_model['duration'].apply(lambda duration: math.ceil(duration/30))\n",
    "data_model['time_block_count_post_free'] = data_model['duration'].apply(lambda duration: \\\n",
    "                                                                        math.ceil(duration/30)) - 1"
   ]
  },
  {
   "cell_type": "code",
   "execution_count": 62,
   "metadata": {
    "tags": []
   },
   "outputs": [
    {
     "data": {
      "text/html": [
       "<div>\n",
       "<style scoped>\n",
       "    .dataframe tbody tr th:only-of-type {\n",
       "        vertical-align: middle;\n",
       "    }\n",
       "\n",
       "    .dataframe tbody tr th {\n",
       "        vertical-align: top;\n",
       "    }\n",
       "\n",
       "    .dataframe thead th {\n",
       "        text-align: right;\n",
       "    }\n",
       "</style>\n",
       "<table border=\"1\" class=\"dataframe\">\n",
       "  <thead>\n",
       "    <tr style=\"text-align: right;\">\n",
       "      <th></th>\n",
       "      <th>total_trips</th>\n",
       "      <th>pay_count_walk_up</th>\n",
       "      <th>total_30min_blocks</th>\n",
       "      <th>total_30min_blocks_post_free</th>\n",
       "      <th>total_minutes</th>\n",
       "      <th>passholder_type</th>\n",
       "    </tr>\n",
       "    <tr>\n",
       "      <th>type_pass</th>\n",
       "      <th></th>\n",
       "      <th></th>\n",
       "      <th></th>\n",
       "      <th></th>\n",
       "      <th></th>\n",
       "      <th></th>\n",
       "    </tr>\n",
       "  </thead>\n",
       "  <tbody>\n",
       "    <tr>\n",
       "      <th>annual</th>\n",
       "      <td>877585</td>\n",
       "      <td>0.0</td>\n",
       "      <td>947622</td>\n",
       "      <td>70037</td>\n",
       "      <td>10522737.0</td>\n",
       "      <td>annual</td>\n",
       "    </tr>\n",
       "    <tr>\n",
       "      <th>one_day</th>\n",
       "      <td>24391</td>\n",
       "      <td>0.0</td>\n",
       "      <td>39445</td>\n",
       "      <td>15054</td>\n",
       "      <td>804013.0</td>\n",
       "      <td>single_trip</td>\n",
       "    </tr>\n",
       "    <tr>\n",
       "      <th>single_trip</th>\n",
       "      <td>53234</td>\n",
       "      <td>53234.0</td>\n",
       "      <td>90827</td>\n",
       "      <td>37593</td>\n",
       "      <td>1900301.0</td>\n",
       "      <td>one_day</td>\n",
       "    </tr>\n",
       "  </tbody>\n",
       "</table>\n",
       "</div>"
      ],
      "text/plain": [
       "             total_trips  pay_count_walk_up  total_30min_blocks  \\\n",
       "type_pass                                                         \n",
       "annual            877585                0.0              947622   \n",
       "one_day            24391                0.0               39445   \n",
       "single_trip        53234            53234.0               90827   \n",
       "\n",
       "             total_30min_blocks_post_free  total_minutes passholder_type  \n",
       "type_pass                                                                 \n",
       "annual                              70037     10522737.0          annual  \n",
       "one_day                             15054       804013.0     single_trip  \n",
       "single_trip                         37593      1900301.0         one_day  "
      ]
     },
     "execution_count": 62,
     "metadata": {},
     "output_type": "execute_result"
    }
   ],
   "source": [
    "pass_groups = data_model.groupby('type_pass')\n",
    "pass_groups.groups.keys()\n",
    "\n",
    "agg_pass_groups = pass_groups.agg({\n",
    "    'trip_id' : 'count',\n",
    "    'single_trip' : 'sum',\n",
    "    'time_block_count' : 'sum',\n",
    "    'time_block_count_post_free' : 'sum',\n",
    "    'duration' : 'sum'\n",
    "}).rename(columns = {\n",
    "    'trip_id' : 'total_trips',\n",
    "    'single_trip' : 'pay_count_walk_up',\n",
    "    'time_block_count' : 'total_30min_blocks',\n",
    "    'time_block_count_post_free' : 'total_30min_blocks_post_free',\n",
    "    'duration' : 'total_minutes'\n",
    "}).reset_index()\n",
    "\n",
    "agg_pass_groups['passholder_type'] = ['annual','single_trip','one_day']\n",
    "agg_pass_groups.index = agg_pass_groups['type_pass']\n",
    "agg_pass_groups = agg_pass_groups.drop('type_pass',1)\n",
    "agg_pass_groups"
   ]
  },
  {
   "cell_type": "code",
   "execution_count": 64,
   "metadata": {
    "tags": [
     "block:prep",
     "prev:prep4experiments"
    ]
   },
   "outputs": [
    {
     "name": "stdout",
     "output_type": "stream",
     "text": [
      " Rides per day required for daily pass: 2.0 \n",
      " Rides per year required for annual pass: 22.857142857142858\n"
     ]
    }
   ],
   "source": [
    "\n",
    "### ASSUMPTIONS\n",
    "# Passes sold = Total rides / Rides to break even\n",
    "price_wo_pass = 3.5\n",
    "price_w_pass_day = 0\n",
    "price_w_pass_annual = 0\n",
    "\n",
    "# Average difference between passholders and walk-up riders across previous and current pricing.\n",
    "# This is represented by the difference in prices per 30 minute block since pass holders get the first 30 minutes free.\n",
    "# As current data is from before the price change, previous prices are used to estimate number of passes.\n",
    "\n",
    "day_diff = price_wo_pass - price_w_pass_day\n",
    "annual_diff = price_wo_pass - price_w_pass_annual\n",
    "\n",
    "# Prices of passes.\n",
    "\n",
    "day_pass_price = 15\n",
    "annual_pass_price = 180\n",
    "\n",
    "# Estimated rides required for breakeven.\n",
    "\n",
    "rides_day_pass_estimate = day_pass_price / day_diff\n",
    "rides_annual_pass_estimate = annual_pass_price / annual_diff\n",
    "\n",
    "print(\" Rides per day required for daily pass:\",rides_day_pass_estimate,'\\n', \n",
    "      \"Rides per year required for annual pass:\", rides_annual_pass_estimate)"
   ]
  },
  {
   "cell_type": "code",
   "execution_count": 65,
   "metadata": {
    "tags": []
   },
   "outputs": [
    {
     "name": "stdout",
     "output_type": "stream",
     "text": [
      "Rides per day required for daily pass (scaled): 2.8 \n",
      " Rides per year required for annual pass (scaled): 32.0\n"
     ]
    }
   ],
   "source": [
    "\n",
    "\n",
    "rides_day_pass_estimate *= 1.4\n",
    "\n",
    "rides_annual_pass_estimate *= 1.4\n",
    "\n",
    "print(\"Rides per day required for daily pass (scaled):\",rides_day_pass_estimate,'\\n', \n",
    "      \"Rides per year required for annual pass (scaled):\", rides_annual_pass_estimate)"
   ]
  },
  {
   "cell_type": "code",
   "execution_count": 69,
   "metadata": {
    "tags": []
   },
   "outputs": [
    {
     "name": "stdout",
     "output_type": "stream",
     "text": [
      "Estimated passes sold for daily pass: 8712 \n",
      " Estimated passes sold for annual pass: 27425 \n",
      " Total passes sold: 36137\n"
     ]
    },
    {
     "ename": "ValueError",
     "evalue": "Length of values (4) does not match length of index (3)",
     "output_type": "error",
     "traceback": [
      "\u001b[0;31m---------------------------------------------------------------------------\u001b[0m",
      "\u001b[0;31mValueError\u001b[0m                                Traceback (most recent call last)",
      "\u001b[0;32m<ipython-input-69-4bc11eab7dc5>\u001b[0m in \u001b[0;36m<module>\u001b[0;34m\u001b[0m\n\u001b[1;32m     12\u001b[0m       \u001b[0;34m\"Estimated passes sold for annual pass:\"\u001b[0m\u001b[0;34m,\u001b[0m \u001b[0mpasses_sold_annual\u001b[0m\u001b[0;34m,\u001b[0m\u001b[0;34m'\\n'\u001b[0m\u001b[0;34m,\u001b[0m\u001b[0;34m\u001b[0m\u001b[0;34m\u001b[0m\u001b[0m\n\u001b[1;32m     13\u001b[0m      \"Total passes sold:\", passes_sold_total)\n\u001b[0;32m---> 14\u001b[0;31m \u001b[0magg_pass_groups\u001b[0m\u001b[0;34m[\u001b[0m\u001b[0;34m'previous_pass_prices'\u001b[0m\u001b[0;34m]\u001b[0m \u001b[0;34m=\u001b[0m \u001b[0;34m[\u001b[0m\u001b[0;36m40\u001b[0m\u001b[0;34m,\u001b[0m \u001b[0;36m20\u001b[0m\u001b[0;34m,\u001b[0m \u001b[0;36m7\u001b[0m\u001b[0;34m,\u001b[0m \u001b[0;36m0\u001b[0m\u001b[0;34m]\u001b[0m\u001b[0;34m\u001b[0m\u001b[0;34m\u001b[0m\u001b[0m\n\u001b[0m",
      "\u001b[0;32m/usr/local/lib/python3.6/dist-packages/pandas/core/frame.py\u001b[0m in \u001b[0;36m__setitem__\u001b[0;34m(self, key, value)\u001b[0m\n\u001b[1;32m   3042\u001b[0m         \u001b[0;32melse\u001b[0m\u001b[0;34m:\u001b[0m\u001b[0;34m\u001b[0m\u001b[0;34m\u001b[0m\u001b[0m\n\u001b[1;32m   3043\u001b[0m             \u001b[0;31m# set column\u001b[0m\u001b[0;34m\u001b[0m\u001b[0;34m\u001b[0m\u001b[0;34m\u001b[0m\u001b[0m\n\u001b[0;32m-> 3044\u001b[0;31m             \u001b[0mself\u001b[0m\u001b[0;34m.\u001b[0m\u001b[0m_set_item\u001b[0m\u001b[0;34m(\u001b[0m\u001b[0mkey\u001b[0m\u001b[0;34m,\u001b[0m \u001b[0mvalue\u001b[0m\u001b[0;34m)\u001b[0m\u001b[0;34m\u001b[0m\u001b[0;34m\u001b[0m\u001b[0m\n\u001b[0m\u001b[1;32m   3045\u001b[0m \u001b[0;34m\u001b[0m\u001b[0m\n\u001b[1;32m   3046\u001b[0m     \u001b[0;32mdef\u001b[0m \u001b[0m_setitem_slice\u001b[0m\u001b[0;34m(\u001b[0m\u001b[0mself\u001b[0m\u001b[0;34m,\u001b[0m \u001b[0mkey\u001b[0m\u001b[0;34m:\u001b[0m \u001b[0mslice\u001b[0m\u001b[0;34m,\u001b[0m \u001b[0mvalue\u001b[0m\u001b[0;34m)\u001b[0m\u001b[0;34m:\u001b[0m\u001b[0;34m\u001b[0m\u001b[0;34m\u001b[0m\u001b[0m\n",
      "\u001b[0;32m/usr/local/lib/python3.6/dist-packages/pandas/core/frame.py\u001b[0m in \u001b[0;36m_set_item\u001b[0;34m(self, key, value)\u001b[0m\n\u001b[1;32m   3118\u001b[0m         \"\"\"\n\u001b[1;32m   3119\u001b[0m         \u001b[0mself\u001b[0m\u001b[0;34m.\u001b[0m\u001b[0m_ensure_valid_index\u001b[0m\u001b[0;34m(\u001b[0m\u001b[0mvalue\u001b[0m\u001b[0;34m)\u001b[0m\u001b[0;34m\u001b[0m\u001b[0;34m\u001b[0m\u001b[0m\n\u001b[0;32m-> 3120\u001b[0;31m         \u001b[0mvalue\u001b[0m \u001b[0;34m=\u001b[0m \u001b[0mself\u001b[0m\u001b[0;34m.\u001b[0m\u001b[0m_sanitize_column\u001b[0m\u001b[0;34m(\u001b[0m\u001b[0mkey\u001b[0m\u001b[0;34m,\u001b[0m \u001b[0mvalue\u001b[0m\u001b[0;34m)\u001b[0m\u001b[0;34m\u001b[0m\u001b[0;34m\u001b[0m\u001b[0m\n\u001b[0m\u001b[1;32m   3121\u001b[0m         \u001b[0mNDFrame\u001b[0m\u001b[0;34m.\u001b[0m\u001b[0m_set_item\u001b[0m\u001b[0;34m(\u001b[0m\u001b[0mself\u001b[0m\u001b[0;34m,\u001b[0m \u001b[0mkey\u001b[0m\u001b[0;34m,\u001b[0m \u001b[0mvalue\u001b[0m\u001b[0;34m)\u001b[0m\u001b[0;34m\u001b[0m\u001b[0;34m\u001b[0m\u001b[0m\n\u001b[1;32m   3122\u001b[0m \u001b[0;34m\u001b[0m\u001b[0m\n",
      "\u001b[0;32m/usr/local/lib/python3.6/dist-packages/pandas/core/frame.py\u001b[0m in \u001b[0;36m_sanitize_column\u001b[0;34m(self, key, value, broadcast)\u001b[0m\n\u001b[1;32m   3766\u001b[0m \u001b[0;34m\u001b[0m\u001b[0m\n\u001b[1;32m   3767\u001b[0m             \u001b[0;31m# turn me into an ndarray\u001b[0m\u001b[0;34m\u001b[0m\u001b[0;34m\u001b[0m\u001b[0;34m\u001b[0m\u001b[0m\n\u001b[0;32m-> 3768\u001b[0;31m             \u001b[0mvalue\u001b[0m \u001b[0;34m=\u001b[0m \u001b[0msanitize_index\u001b[0m\u001b[0;34m(\u001b[0m\u001b[0mvalue\u001b[0m\u001b[0;34m,\u001b[0m \u001b[0mself\u001b[0m\u001b[0;34m.\u001b[0m\u001b[0mindex\u001b[0m\u001b[0;34m)\u001b[0m\u001b[0;34m\u001b[0m\u001b[0;34m\u001b[0m\u001b[0m\n\u001b[0m\u001b[1;32m   3769\u001b[0m             \u001b[0;32mif\u001b[0m \u001b[0;32mnot\u001b[0m \u001b[0misinstance\u001b[0m\u001b[0;34m(\u001b[0m\u001b[0mvalue\u001b[0m\u001b[0;34m,\u001b[0m \u001b[0;34m(\u001b[0m\u001b[0mnp\u001b[0m\u001b[0;34m.\u001b[0m\u001b[0mndarray\u001b[0m\u001b[0;34m,\u001b[0m \u001b[0mIndex\u001b[0m\u001b[0;34m)\u001b[0m\u001b[0;34m)\u001b[0m\u001b[0;34m:\u001b[0m\u001b[0;34m\u001b[0m\u001b[0;34m\u001b[0m\u001b[0m\n\u001b[1;32m   3770\u001b[0m                 \u001b[0;32mif\u001b[0m \u001b[0misinstance\u001b[0m\u001b[0;34m(\u001b[0m\u001b[0mvalue\u001b[0m\u001b[0;34m,\u001b[0m \u001b[0mlist\u001b[0m\u001b[0;34m)\u001b[0m \u001b[0;32mand\u001b[0m \u001b[0mlen\u001b[0m\u001b[0;34m(\u001b[0m\u001b[0mvalue\u001b[0m\u001b[0;34m)\u001b[0m \u001b[0;34m>\u001b[0m \u001b[0;36m0\u001b[0m\u001b[0;34m:\u001b[0m\u001b[0;34m\u001b[0m\u001b[0;34m\u001b[0m\u001b[0m\n",
      "\u001b[0;32m/usr/local/lib/python3.6/dist-packages/pandas/core/internals/construction.py\u001b[0m in \u001b[0;36msanitize_index\u001b[0;34m(data, index)\u001b[0m\n\u001b[1;32m    746\u001b[0m     \u001b[0;32mif\u001b[0m \u001b[0mlen\u001b[0m\u001b[0;34m(\u001b[0m\u001b[0mdata\u001b[0m\u001b[0;34m)\u001b[0m \u001b[0;34m!=\u001b[0m \u001b[0mlen\u001b[0m\u001b[0;34m(\u001b[0m\u001b[0mindex\u001b[0m\u001b[0;34m)\u001b[0m\u001b[0;34m:\u001b[0m\u001b[0;34m\u001b[0m\u001b[0;34m\u001b[0m\u001b[0m\n\u001b[1;32m    747\u001b[0m         raise ValueError(\n\u001b[0;32m--> 748\u001b[0;31m             \u001b[0;34m\"Length of values \"\u001b[0m\u001b[0;34m\u001b[0m\u001b[0;34m\u001b[0m\u001b[0m\n\u001b[0m\u001b[1;32m    749\u001b[0m             \u001b[0;34mf\"({len(data)}) \"\u001b[0m\u001b[0;34m\u001b[0m\u001b[0;34m\u001b[0m\u001b[0m\n\u001b[1;32m    750\u001b[0m             \u001b[0;34m\"does not match length of index \"\u001b[0m\u001b[0;34m\u001b[0m\u001b[0;34m\u001b[0m\u001b[0m\n",
      "\u001b[0;31mValueError\u001b[0m: Length of values (4) does not match length of index (3)"
     ]
    }
   ],
   "source": [
    "# Divide total trips by rides required for breakeven per pass duration (day/month/year) to get estimated number\n",
    "# of passholders.\n",
    "\n",
    "passes_sold_day = math.ceil(agg_pass_groups.loc['one_day','total_trips']/rides_day_pass_estimate)\n",
    "passes_sold_annual = math.ceil(agg_pass_groups.loc['annual','total_trips']/rides_annual_pass_estimate)\n",
    "passes_sold_total = passes_sold_day + passes_sold_annual\n",
    "\n",
    "agg_pass_groups['passes_sold'] = [passes_sold_annual, passes_sold_day, 0]\n",
    "\n",
    "print(\"Estimated passes sold for daily pass:\",passes_sold_day,'\\n', \n",
    "\n",
    "      \"Estimated passes sold for annual pass:\", passes_sold_annual,'\\n',\n",
    "     \"Total passes sold:\", passes_sold_total)\n",
    "agg_pass_groups['previous_pass_prices'] = [40, 7, 0]"
   ]
  },
  {
   "cell_type": "code",
   "execution_count": 70,
   "metadata": {
    "tags": [
     "block:exp1",
     "prev:prep"
    ]
   },
   "outputs": [
    {
     "data": {
      "text/html": [
       "<div>\n",
       "<style scoped>\n",
       "    .dataframe tbody tr th:only-of-type {\n",
       "        vertical-align: middle;\n",
       "    }\n",
       "\n",
       "    .dataframe tbody tr th {\n",
       "        vertical-align: top;\n",
       "    }\n",
       "\n",
       "    .dataframe thead th {\n",
       "        text-align: right;\n",
       "    }\n",
       "</style>\n",
       "<table border=\"1\" class=\"dataframe\">\n",
       "  <thead>\n",
       "    <tr style=\"text-align: right;\">\n",
       "      <th></th>\n",
       "      <th>total_trips</th>\n",
       "      <th>pay_count_walk_up</th>\n",
       "      <th>total_30min_blocks</th>\n",
       "      <th>total_30min_blocks_post_free</th>\n",
       "      <th>total_minutes</th>\n",
       "      <th>passholder_type</th>\n",
       "      <th>passes_sold</th>\n",
       "      <th>new_pass_prices</th>\n",
       "      <th>average_charged_blocks_per_ride</th>\n",
       "      <th>percent_total_trips</th>\n",
       "    </tr>\n",
       "    <tr>\n",
       "      <th>type_pass</th>\n",
       "      <th></th>\n",
       "      <th></th>\n",
       "      <th></th>\n",
       "      <th></th>\n",
       "      <th></th>\n",
       "      <th></th>\n",
       "      <th></th>\n",
       "      <th></th>\n",
       "      <th></th>\n",
       "      <th></th>\n",
       "    </tr>\n",
       "  </thead>\n",
       "  <tbody>\n",
       "    <tr>\n",
       "      <th>annual</th>\n",
       "      <td>877585</td>\n",
       "      <td>0.0</td>\n",
       "      <td>947622</td>\n",
       "      <td>70037</td>\n",
       "      <td>10522737.0</td>\n",
       "      <td>annual</td>\n",
       "      <td>27425</td>\n",
       "      <td>40</td>\n",
       "      <td>0.079807</td>\n",
       "      <td>0.918735</td>\n",
       "    </tr>\n",
       "    <tr>\n",
       "      <th>one_day</th>\n",
       "      <td>24391</td>\n",
       "      <td>0.0</td>\n",
       "      <td>39445</td>\n",
       "      <td>15054</td>\n",
       "      <td>804013.0</td>\n",
       "      <td>single_trip</td>\n",
       "      <td>8712</td>\n",
       "      <td>5</td>\n",
       "      <td>0.617195</td>\n",
       "      <td>0.025535</td>\n",
       "    </tr>\n",
       "    <tr>\n",
       "      <th>single_trip</th>\n",
       "      <td>53234</td>\n",
       "      <td>53234.0</td>\n",
       "      <td>90827</td>\n",
       "      <td>37593</td>\n",
       "      <td>1900301.0</td>\n",
       "      <td>one_day</td>\n",
       "      <td>0</td>\n",
       "      <td>0</td>\n",
       "      <td>0.706184</td>\n",
       "      <td>0.055730</td>\n",
       "    </tr>\n",
       "  </tbody>\n",
       "</table>\n",
       "</div>"
      ],
      "text/plain": [
       "             total_trips  pay_count_walk_up  total_30min_blocks  \\\n",
       "type_pass                                                         \n",
       "annual            877585                0.0              947622   \n",
       "one_day            24391                0.0               39445   \n",
       "single_trip        53234            53234.0               90827   \n",
       "\n",
       "             total_30min_blocks_post_free  total_minutes passholder_type  \\\n",
       "type_pass                                                                  \n",
       "annual                              70037     10522737.0          annual   \n",
       "one_day                             15054       804013.0     single_trip   \n",
       "single_trip                         37593      1900301.0         one_day   \n",
       "\n",
       "             passes_sold  new_pass_prices  average_charged_blocks_per_ride  \\\n",
       "type_pass                                                                    \n",
       "annual             27425               40                         0.079807   \n",
       "one_day             8712                5                         0.617195   \n",
       "single_trip            0                0                         0.706184   \n",
       "\n",
       "             percent_total_trips  \n",
       "type_pass                         \n",
       "annual                  0.918735  \n",
       "one_day                 0.025535  \n",
       "single_trip             0.055730  "
      ]
     },
     "execution_count": 70,
     "metadata": {},
     "output_type": "execute_result"
    }
   ],
   "source": [
    "agg_pass_groups['new_pass_prices'] = [40, 5, 0]\n",
    "agg_pass_groups['average_charged_blocks_per_ride'] = agg_pass_groups['total_30min_blocks_post_free'] / agg_pass_groups['total_trips']\n",
    "agg_pass_groups['percent_total_trips'] = agg_pass_groups['total_trips']/sum(agg_pass_groups['total_trips'])\n",
    "agg_pass_groups"
   ]
  },
  {
   "cell_type": "code",
   "execution_count": 71,
   "metadata": {},
   "outputs": [
    {
     "ename": "KeyError",
     "evalue": "'previous_pass_prices'",
     "output_type": "error",
     "traceback": [
      "\u001b[0;31m---------------------------------------------------------------------------\u001b[0m",
      "\u001b[0;31mKeyError\u001b[0m                                  Traceback (most recent call last)",
      "\u001b[0;32m/usr/local/lib/python3.6/dist-packages/pandas/core/indexes/base.py\u001b[0m in \u001b[0;36mget_loc\u001b[0;34m(self, key, method, tolerance)\u001b[0m\n\u001b[1;32m   2897\u001b[0m             \u001b[0;32mtry\u001b[0m\u001b[0;34m:\u001b[0m\u001b[0;34m\u001b[0m\u001b[0;34m\u001b[0m\u001b[0m\n\u001b[0;32m-> 2898\u001b[0;31m                 \u001b[0;32mreturn\u001b[0m \u001b[0mself\u001b[0m\u001b[0;34m.\u001b[0m\u001b[0m_engine\u001b[0m\u001b[0;34m.\u001b[0m\u001b[0mget_loc\u001b[0m\u001b[0;34m(\u001b[0m\u001b[0mcasted_key\u001b[0m\u001b[0;34m)\u001b[0m\u001b[0;34m\u001b[0m\u001b[0;34m\u001b[0m\u001b[0m\n\u001b[0m\u001b[1;32m   2899\u001b[0m             \u001b[0;32mexcept\u001b[0m \u001b[0mKeyError\u001b[0m \u001b[0;32mas\u001b[0m \u001b[0merr\u001b[0m\u001b[0;34m:\u001b[0m\u001b[0;34m\u001b[0m\u001b[0;34m\u001b[0m\u001b[0m\n",
      "\u001b[0;32mpandas/_libs/index.pyx\u001b[0m in \u001b[0;36mpandas._libs.index.IndexEngine.get_loc\u001b[0;34m()\u001b[0m\n",
      "\u001b[0;32mpandas/_libs/index.pyx\u001b[0m in \u001b[0;36mpandas._libs.index.IndexEngine.get_loc\u001b[0;34m()\u001b[0m\n",
      "\u001b[0;32mpandas/_libs/hashtable_class_helper.pxi\u001b[0m in \u001b[0;36mpandas._libs.hashtable.PyObjectHashTable.get_item\u001b[0;34m()\u001b[0m\n",
      "\u001b[0;32mpandas/_libs/hashtable_class_helper.pxi\u001b[0m in \u001b[0;36mpandas._libs.hashtable.PyObjectHashTable.get_item\u001b[0;34m()\u001b[0m\n",
      "\u001b[0;31mKeyError\u001b[0m: 'previous_pass_prices'",
      "\nThe above exception was the direct cause of the following exception:\n",
      "\u001b[0;31mKeyError\u001b[0m                                  Traceback (most recent call last)",
      "\u001b[0;32m<ipython-input-71-029e6ee96752>\u001b[0m in \u001b[0;36m<module>\u001b[0;34m\u001b[0m\n\u001b[1;32m      3\u001b[0m                    + 1.75 * (agg_pass_groups['total_30min_blocks'] ['annual']\n\u001b[1;32m      4\u001b[0m                                             - agg_pass_groups['total_30min_blocks_post_free']['annual'])\n\u001b[0;32m----> 5\u001b[0;31m                    + sum(agg_pass_groups['passes_sold'] * agg_pass_groups['previous_pass_prices']))\n\u001b[0m\u001b[1;32m      6\u001b[0m \u001b[0mprint\u001b[0m\u001b[0;34m(\u001b[0m\u001b[0;34m'Total revenue: $'\u001b[0m\u001b[0;34m,\u001b[0m \u001b[0mcurrent_tot_rev\u001b[0m\u001b[0;34m)\u001b[0m\u001b[0;34m\u001b[0m\u001b[0;34m\u001b[0m\u001b[0m\n",
      "\u001b[0;32m/usr/local/lib/python3.6/dist-packages/pandas/core/frame.py\u001b[0m in \u001b[0;36m__getitem__\u001b[0;34m(self, key)\u001b[0m\n\u001b[1;32m   2904\u001b[0m             \u001b[0;32mif\u001b[0m \u001b[0mself\u001b[0m\u001b[0;34m.\u001b[0m\u001b[0mcolumns\u001b[0m\u001b[0;34m.\u001b[0m\u001b[0mnlevels\u001b[0m \u001b[0;34m>\u001b[0m \u001b[0;36m1\u001b[0m\u001b[0;34m:\u001b[0m\u001b[0;34m\u001b[0m\u001b[0;34m\u001b[0m\u001b[0m\n\u001b[1;32m   2905\u001b[0m                 \u001b[0;32mreturn\u001b[0m \u001b[0mself\u001b[0m\u001b[0;34m.\u001b[0m\u001b[0m_getitem_multilevel\u001b[0m\u001b[0;34m(\u001b[0m\u001b[0mkey\u001b[0m\u001b[0;34m)\u001b[0m\u001b[0;34m\u001b[0m\u001b[0;34m\u001b[0m\u001b[0m\n\u001b[0;32m-> 2906\u001b[0;31m             \u001b[0mindexer\u001b[0m \u001b[0;34m=\u001b[0m \u001b[0mself\u001b[0m\u001b[0;34m.\u001b[0m\u001b[0mcolumns\u001b[0m\u001b[0;34m.\u001b[0m\u001b[0mget_loc\u001b[0m\u001b[0;34m(\u001b[0m\u001b[0mkey\u001b[0m\u001b[0;34m)\u001b[0m\u001b[0;34m\u001b[0m\u001b[0;34m\u001b[0m\u001b[0m\n\u001b[0m\u001b[1;32m   2907\u001b[0m             \u001b[0;32mif\u001b[0m \u001b[0mis_integer\u001b[0m\u001b[0;34m(\u001b[0m\u001b[0mindexer\u001b[0m\u001b[0;34m)\u001b[0m\u001b[0;34m:\u001b[0m\u001b[0;34m\u001b[0m\u001b[0;34m\u001b[0m\u001b[0m\n\u001b[1;32m   2908\u001b[0m                 \u001b[0mindexer\u001b[0m \u001b[0;34m=\u001b[0m \u001b[0;34m[\u001b[0m\u001b[0mindexer\u001b[0m\u001b[0;34m]\u001b[0m\u001b[0;34m\u001b[0m\u001b[0;34m\u001b[0m\u001b[0m\n",
      "\u001b[0;32m/usr/local/lib/python3.6/dist-packages/pandas/core/indexes/base.py\u001b[0m in \u001b[0;36mget_loc\u001b[0;34m(self, key, method, tolerance)\u001b[0m\n\u001b[1;32m   2898\u001b[0m                 \u001b[0;32mreturn\u001b[0m \u001b[0mself\u001b[0m\u001b[0;34m.\u001b[0m\u001b[0m_engine\u001b[0m\u001b[0;34m.\u001b[0m\u001b[0mget_loc\u001b[0m\u001b[0;34m(\u001b[0m\u001b[0mcasted_key\u001b[0m\u001b[0;34m)\u001b[0m\u001b[0;34m\u001b[0m\u001b[0;34m\u001b[0m\u001b[0m\n\u001b[1;32m   2899\u001b[0m             \u001b[0;32mexcept\u001b[0m \u001b[0mKeyError\u001b[0m \u001b[0;32mas\u001b[0m \u001b[0merr\u001b[0m\u001b[0;34m:\u001b[0m\u001b[0;34m\u001b[0m\u001b[0;34m\u001b[0m\u001b[0m\n\u001b[0;32m-> 2900\u001b[0;31m                 \u001b[0;32mraise\u001b[0m \u001b[0mKeyError\u001b[0m\u001b[0;34m(\u001b[0m\u001b[0mkey\u001b[0m\u001b[0;34m)\u001b[0m \u001b[0;32mfrom\u001b[0m \u001b[0merr\u001b[0m\u001b[0;34m\u001b[0m\u001b[0;34m\u001b[0m\u001b[0m\n\u001b[0m\u001b[1;32m   2901\u001b[0m \u001b[0;34m\u001b[0m\u001b[0m\n\u001b[1;32m   2902\u001b[0m         \u001b[0;32mif\u001b[0m \u001b[0mtolerance\u001b[0m \u001b[0;32mis\u001b[0m \u001b[0;32mnot\u001b[0m \u001b[0;32mNone\u001b[0m\u001b[0;34m:\u001b[0m\u001b[0;34m\u001b[0m\u001b[0;34m\u001b[0m\u001b[0m\n",
      "\u001b[0;31mKeyError\u001b[0m: 'previous_pass_prices'"
     ]
    }
   ],
   "source": [
    "current_tot_rev = (sum(3.5 * agg_pass_groups['pay_count_walk_up']) \n",
    "                   + sum(1.75 * agg_pass_groups['total_30min_blocks_post_free'])\n",
    "                   + 1.75 * (agg_pass_groups['total_30min_blocks'] ['annual']\n",
    "                                            - agg_pass_groups['total_30min_blocks_post_free']['annual'])\n",
    "                   + sum(agg_pass_groups['passes_sold'] * agg_pass_groups['previous_pass_prices']))\n",
    "print('Total revenue: $', current_tot_rev)"
   ]
  },
  {
   "cell_type": "code",
   "execution_count": null,
   "metadata": {},
   "outputs": [],
   "source": [
    "#Se declaran los precios\n",
    "previous_walk_up = 3.5\n",
    "previous_pass = 0\n",
    "\n",
    "\n",
    "lhs_eq = [[0, 1, 1, 0, 0],\n",
    "          [0, 0, 0, 1, 1]]\n",
    "rhs_eq = [1, 1]"
   ]
  },
  {
   "cell_type": "code",
   "execution_count": null,
   "metadata": {},
   "outputs": [],
   "source": [
    "# Revenue for walk ups\n",
    "walk_up_rev_block = previous_walk_up * agg_pass_groups.loc['one_day','total_30min_blocks']\n",
    "\n",
    "# Revenue for pass sales.\n",
    "trip_rev_day_pass = agg_pass_groups.loc['one_day', 'total_30min_blocks_post_free'] * previous_pass\n",
    "trip_rev_annual_pass = agg_pass_groups.loc['annual', 'total_30min_blocks'] * previous_pass\n",
    "\n",
    "# Revenue for pass sales is pass is cancelled.\n",
    "trip_rev_day_no_pass = agg_pass_groups.loc['one_day', 'total_30min_blocks'] * previous_walk_up * 0.7\n",
    "trip_rev_annual_no_pass = agg_pass_groups.loc['annual', 'total_30min_blocks'] * previous_walk_up * 0.7\n",
    "\n",
    "# Revenue for sales of passes.\n",
    "pass_sales_rev_day = (agg_pass_groups.loc['one_day','previous_pass_prices'] \n",
    "                      * agg_pass_groups.loc['one_day','passes_sold'])\n",
    "\n",
    "pass_sales_rev_annual = (agg_pass_groups.loc['annual','previous_pass_prices'] \n",
    "                         * agg_pass_groups.loc['annual','passes_sold'])\n",
    "\n",
    "obj_1 = [-walk_up_rev_block, -(trip_rev_day_pass + pass_sales_rev_day), -trip_rev_day_no_pass, -(trip_rev_annual_pass + pass_sales_rev_annual), -trip_rev_annual_no_pass]"
   ]
  }
 ],
 "metadata": {
  "kernelspec": {
   "display_name": "Python 3",
   "language": "python",
   "name": "python3"
  },
  "kubeflow_notebook": {
   "autosnapshot": false,
   "docker_image": "ferubio/pkg_optim_kale:0.1",
   "experiment": {
    "id": "new",
    "name": "cleandata"
   },
   "experiment_name": "cleandata",
   "katib_metadata": {
    "algorithm": {
     "algorithmName": "grid"
    },
    "maxFailedTrialCount": 3,
    "maxTrialCount": 12,
    "objective": {
     "objectiveMetricName": "",
     "type": "minimize"
    },
    "parallelTrialCount": 3,
    "parameters": []
   },
   "katib_run": false,
   "pipeline_description": "city bike optimization ",
   "pipeline_name": "citi-bike",
   "snapshot_volumes": false,
   "steps_defaults": [],
   "volume_access_mode": "rwm",
   "volumes": [
    {
     "annotations": [],
     "mount_point": "/shared_volume",
     "name": "hostpath-pvc",
     "size": 1,
     "size_type": "Gi",
     "snapshot": false,
     "snapshot_name": "",
     "type": "pvc"
    }
   ]
  },
  "language_info": {
   "codemirror_mode": {
    "name": "ipython",
    "version": 3
   },
   "file_extension": ".py",
   "mimetype": "text/x-python",
   "name": "python",
   "nbconvert_exporter": "python",
   "pygments_lexer": "ipython3",
   "version": "3.6.9"
  }
 },
 "nbformat": 4,
 "nbformat_minor": 4
}
