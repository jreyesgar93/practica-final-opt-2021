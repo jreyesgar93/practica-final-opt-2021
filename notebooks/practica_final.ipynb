{
 "cells": [
  {
   "cell_type": "markdown",
   "metadata": {
    "tags": []
   },
   "source": [
    "# Pipeline\n"
   ]
  },
  {
   "cell_type": "code",
   "execution_count": 1,
   "metadata": {
    "tags": [
     "imports"
    ]
   },
   "outputs": [],
   "source": [
    "import pandas as pd\n",
    "import requests\n",
    "import numpy as np\n",
    "import math\n",
    "import pickle\n",
    "import glob"
   ]
  },
  {
   "cell_type": "code",
   "execution_count": 2,
   "metadata": {
    "tags": [
     "block:funcs"
    ]
   },
   "outputs": [],
   "source": [
    "def cambiar_minusculas_variable(archivo,variable):\n",
    "    archivo[variable]=archivo[variable].str.lower()\n"
   ]
  },
  {
   "cell_type": "code",
   "execution_count": 166,
   "metadata": {
    "tags": [
     "block:mergedata1",
     "prev:funcs"
    ]
   },
   "outputs": [],
   "source": [
    "\n",
    "#path = '../data' # use your path\n",
    "#all_files = glob.glob(path + \"/*.zip\")\n",
    "#all_files = all_files[0:3]\n",
    "\n",
    "#li = []\n",
    "#i = 0\n",
    "#for filename in all_files:\n",
    "#    df = pd.read_csv(filename, index_col=None, header=0)\n",
    "#    print(i)\n",
    "#    i+=1\n",
    "#    li.append(df)\n",
    "\n",
    "#data1 = pd.concat(li, axis=0, ignore_index=True)"
   ]
  },
  {
   "cell_type": "code",
   "execution_count": 167,
   "metadata": {
    "tags": [
     "block:mergedata2",
     "prev:funcs"
    ]
   },
   "outputs": [],
   "source": [
    "\n",
    "#path = '../data' # use your path\n",
    "#all_files = glob.glob(path + \"/*.zip\")\n",
    "#all_files = all_files[3:6]\n",
    "\n",
    "#li = []\n",
    "#i = 0\n",
    "#for filename in all_files:\n",
    "#    df = pd.read_csv(filename, index_col=None, header=0)\n",
    "#    print(i)\n",
    "#    i+=1\n",
    "#    li.append(df)\n",
    "\n",
    "#data2 = pd.concat(li, axis=0, ignore_index=True)"
   ]
  },
  {
   "cell_type": "code",
   "execution_count": null,
   "metadata": {
    "tags": [
     "block:mergedata3",
     "prev:funcs"
    ]
   },
   "outputs": [
    {
     "name": "stdout",
     "output_type": "stream",
     "text": [
      "0\n"
     ]
    }
   ],
   "source": [
    "\n",
    "path = '../data' # use your path\n",
    "all_files = glob.glob(path + \"/*.zip\")\n",
    "all_files = all_files[6:9]\n",
    "\n",
    "li = []\n",
    "i = 0\n",
    "for filename in all_files:\n",
    "    df = pd.read_csv(filename, index_col=None, header=0)\n",
    "    print(i)\n",
    "    i+=1\n",
    "    li.append(df)\n",
    "\n",
    "data3 = pd.concat(li, axis=0, ignore_index=True)"
   ]
  },
  {
   "cell_type": "code",
   "execution_count": 4,
   "metadata": {
    "collapsed": true,
    "jupyter": {
     "outputs_hidden": true
    },
    "tags": [
     "block:mergedata4",
     "prev:funcs"
    ]
   },
   "outputs": [
    {
     "ename": "ParserError",
     "evalue": "Error tokenizing data. C error: Calling read(nbytes) on source failed. Try engine='python'.",
     "output_type": "error",
     "traceback": [
      "\u001b[0;31m---------------------------------------------------------------------------\u001b[0m",
      "\u001b[0;31mParserError\u001b[0m                               Traceback (most recent call last)",
      "\u001b[0;32m<ipython-input-4-84ec04d3f871>\u001b[0m in \u001b[0;36m<module>\u001b[0;34m\u001b[0m\n\u001b[1;32m      6\u001b[0m \u001b[0mi\u001b[0m \u001b[0;34m=\u001b[0m \u001b[0;36m0\u001b[0m\u001b[0;34m\u001b[0m\u001b[0;34m\u001b[0m\u001b[0m\n\u001b[1;32m      7\u001b[0m \u001b[0;32mfor\u001b[0m \u001b[0mfilename\u001b[0m \u001b[0;32min\u001b[0m \u001b[0mall_files\u001b[0m\u001b[0;34m:\u001b[0m\u001b[0;34m\u001b[0m\u001b[0;34m\u001b[0m\u001b[0m\n\u001b[0;32m----> 8\u001b[0;31m     \u001b[0mdf\u001b[0m \u001b[0;34m=\u001b[0m \u001b[0mpd\u001b[0m\u001b[0;34m.\u001b[0m\u001b[0mread_csv\u001b[0m\u001b[0;34m(\u001b[0m\u001b[0mfilename\u001b[0m\u001b[0;34m,\u001b[0m \u001b[0mindex_col\u001b[0m\u001b[0;34m=\u001b[0m\u001b[0;32mNone\u001b[0m\u001b[0;34m,\u001b[0m \u001b[0mheader\u001b[0m\u001b[0;34m=\u001b[0m\u001b[0;36m0\u001b[0m\u001b[0;34m)\u001b[0m\u001b[0;34m\u001b[0m\u001b[0;34m\u001b[0m\u001b[0m\n\u001b[0m\u001b[1;32m      9\u001b[0m     \u001b[0mprint\u001b[0m\u001b[0;34m(\u001b[0m\u001b[0mi\u001b[0m\u001b[0;34m)\u001b[0m\u001b[0;34m\u001b[0m\u001b[0;34m\u001b[0m\u001b[0m\n\u001b[1;32m     10\u001b[0m     \u001b[0mi\u001b[0m\u001b[0;34m+=\u001b[0m\u001b[0;36m1\u001b[0m\u001b[0;34m\u001b[0m\u001b[0;34m\u001b[0m\u001b[0m\n",
      "\u001b[0;32m/usr/local/lib/python3.6/dist-packages/pandas/io/parsers.py\u001b[0m in \u001b[0;36mread_csv\u001b[0;34m(filepath_or_buffer, sep, delimiter, header, names, index_col, usecols, squeeze, prefix, mangle_dupe_cols, dtype, engine, converters, true_values, false_values, skipinitialspace, skiprows, skipfooter, nrows, na_values, keep_default_na, na_filter, verbose, skip_blank_lines, parse_dates, infer_datetime_format, keep_date_col, date_parser, dayfirst, cache_dates, iterator, chunksize, compression, thousands, decimal, lineterminator, quotechar, quoting, doublequote, escapechar, comment, encoding, dialect, error_bad_lines, warn_bad_lines, delim_whitespace, low_memory, memory_map, float_precision)\u001b[0m\n\u001b[1;32m    686\u001b[0m     )\n\u001b[1;32m    687\u001b[0m \u001b[0;34m\u001b[0m\u001b[0m\n\u001b[0;32m--> 688\u001b[0;31m     \u001b[0;32mreturn\u001b[0m \u001b[0m_read\u001b[0m\u001b[0;34m(\u001b[0m\u001b[0mfilepath_or_buffer\u001b[0m\u001b[0;34m,\u001b[0m \u001b[0mkwds\u001b[0m\u001b[0;34m)\u001b[0m\u001b[0;34m\u001b[0m\u001b[0;34m\u001b[0m\u001b[0m\n\u001b[0m\u001b[1;32m    689\u001b[0m \u001b[0;34m\u001b[0m\u001b[0m\n\u001b[1;32m    690\u001b[0m \u001b[0;34m\u001b[0m\u001b[0m\n",
      "\u001b[0;32m/usr/local/lib/python3.6/dist-packages/pandas/io/parsers.py\u001b[0m in \u001b[0;36m_read\u001b[0;34m(filepath_or_buffer, kwds)\u001b[0m\n\u001b[1;32m    452\u001b[0m \u001b[0;34m\u001b[0m\u001b[0m\n\u001b[1;32m    453\u001b[0m     \u001b[0;31m# Create the parser.\u001b[0m\u001b[0;34m\u001b[0m\u001b[0;34m\u001b[0m\u001b[0;34m\u001b[0m\u001b[0m\n\u001b[0;32m--> 454\u001b[0;31m     \u001b[0mparser\u001b[0m \u001b[0;34m=\u001b[0m \u001b[0mTextFileReader\u001b[0m\u001b[0;34m(\u001b[0m\u001b[0mfp_or_buf\u001b[0m\u001b[0;34m,\u001b[0m \u001b[0;34m**\u001b[0m\u001b[0mkwds\u001b[0m\u001b[0;34m)\u001b[0m\u001b[0;34m\u001b[0m\u001b[0;34m\u001b[0m\u001b[0m\n\u001b[0m\u001b[1;32m    455\u001b[0m \u001b[0;34m\u001b[0m\u001b[0m\n\u001b[1;32m    456\u001b[0m     \u001b[0;32mif\u001b[0m \u001b[0mchunksize\u001b[0m \u001b[0;32mor\u001b[0m \u001b[0miterator\u001b[0m\u001b[0;34m:\u001b[0m\u001b[0;34m\u001b[0m\u001b[0;34m\u001b[0m\u001b[0m\n",
      "\u001b[0;32m/usr/local/lib/python3.6/dist-packages/pandas/io/parsers.py\u001b[0m in \u001b[0;36m__init__\u001b[0;34m(self, f, engine, **kwds)\u001b[0m\n\u001b[1;32m    946\u001b[0m             \u001b[0mself\u001b[0m\u001b[0;34m.\u001b[0m\u001b[0moptions\u001b[0m\u001b[0;34m[\u001b[0m\u001b[0;34m\"has_index_names\"\u001b[0m\u001b[0;34m]\u001b[0m \u001b[0;34m=\u001b[0m \u001b[0mkwds\u001b[0m\u001b[0;34m[\u001b[0m\u001b[0;34m\"has_index_names\"\u001b[0m\u001b[0;34m]\u001b[0m\u001b[0;34m\u001b[0m\u001b[0;34m\u001b[0m\u001b[0m\n\u001b[1;32m    947\u001b[0m \u001b[0;34m\u001b[0m\u001b[0m\n\u001b[0;32m--> 948\u001b[0;31m         \u001b[0mself\u001b[0m\u001b[0;34m.\u001b[0m\u001b[0m_make_engine\u001b[0m\u001b[0;34m(\u001b[0m\u001b[0mself\u001b[0m\u001b[0;34m.\u001b[0m\u001b[0mengine\u001b[0m\u001b[0;34m)\u001b[0m\u001b[0;34m\u001b[0m\u001b[0;34m\u001b[0m\u001b[0m\n\u001b[0m\u001b[1;32m    949\u001b[0m \u001b[0;34m\u001b[0m\u001b[0m\n\u001b[1;32m    950\u001b[0m     \u001b[0;32mdef\u001b[0m \u001b[0mclose\u001b[0m\u001b[0;34m(\u001b[0m\u001b[0mself\u001b[0m\u001b[0;34m)\u001b[0m\u001b[0;34m:\u001b[0m\u001b[0;34m\u001b[0m\u001b[0;34m\u001b[0m\u001b[0m\n",
      "\u001b[0;32m/usr/local/lib/python3.6/dist-packages/pandas/io/parsers.py\u001b[0m in \u001b[0;36m_make_engine\u001b[0;34m(self, engine)\u001b[0m\n\u001b[1;32m   1178\u001b[0m     \u001b[0;32mdef\u001b[0m \u001b[0m_make_engine\u001b[0m\u001b[0;34m(\u001b[0m\u001b[0mself\u001b[0m\u001b[0;34m,\u001b[0m \u001b[0mengine\u001b[0m\u001b[0;34m=\u001b[0m\u001b[0;34m\"c\"\u001b[0m\u001b[0;34m)\u001b[0m\u001b[0;34m:\u001b[0m\u001b[0;34m\u001b[0m\u001b[0;34m\u001b[0m\u001b[0m\n\u001b[1;32m   1179\u001b[0m         \u001b[0;32mif\u001b[0m \u001b[0mengine\u001b[0m \u001b[0;34m==\u001b[0m \u001b[0;34m\"c\"\u001b[0m\u001b[0;34m:\u001b[0m\u001b[0;34m\u001b[0m\u001b[0;34m\u001b[0m\u001b[0m\n\u001b[0;32m-> 1180\u001b[0;31m             \u001b[0mself\u001b[0m\u001b[0;34m.\u001b[0m\u001b[0m_engine\u001b[0m \u001b[0;34m=\u001b[0m \u001b[0mCParserWrapper\u001b[0m\u001b[0;34m(\u001b[0m\u001b[0mself\u001b[0m\u001b[0;34m.\u001b[0m\u001b[0mf\u001b[0m\u001b[0;34m,\u001b[0m \u001b[0;34m**\u001b[0m\u001b[0mself\u001b[0m\u001b[0;34m.\u001b[0m\u001b[0moptions\u001b[0m\u001b[0;34m)\u001b[0m\u001b[0;34m\u001b[0m\u001b[0;34m\u001b[0m\u001b[0m\n\u001b[0m\u001b[1;32m   1181\u001b[0m         \u001b[0;32melse\u001b[0m\u001b[0;34m:\u001b[0m\u001b[0;34m\u001b[0m\u001b[0;34m\u001b[0m\u001b[0m\n\u001b[1;32m   1182\u001b[0m             \u001b[0;32mif\u001b[0m \u001b[0mengine\u001b[0m \u001b[0;34m==\u001b[0m \u001b[0;34m\"python\"\u001b[0m\u001b[0;34m:\u001b[0m\u001b[0;34m\u001b[0m\u001b[0;34m\u001b[0m\u001b[0m\n",
      "\u001b[0;32m/usr/local/lib/python3.6/dist-packages/pandas/io/parsers.py\u001b[0m in \u001b[0;36m__init__\u001b[0;34m(self, src, **kwds)\u001b[0m\n\u001b[1;32m   2008\u001b[0m         \u001b[0mkwds\u001b[0m\u001b[0;34m[\u001b[0m\u001b[0;34m\"usecols\"\u001b[0m\u001b[0;34m]\u001b[0m \u001b[0;34m=\u001b[0m \u001b[0mself\u001b[0m\u001b[0;34m.\u001b[0m\u001b[0musecols\u001b[0m\u001b[0;34m\u001b[0m\u001b[0;34m\u001b[0m\u001b[0m\n\u001b[1;32m   2009\u001b[0m \u001b[0;34m\u001b[0m\u001b[0m\n\u001b[0;32m-> 2010\u001b[0;31m         \u001b[0mself\u001b[0m\u001b[0;34m.\u001b[0m\u001b[0m_reader\u001b[0m \u001b[0;34m=\u001b[0m \u001b[0mparsers\u001b[0m\u001b[0;34m.\u001b[0m\u001b[0mTextReader\u001b[0m\u001b[0;34m(\u001b[0m\u001b[0msrc\u001b[0m\u001b[0;34m,\u001b[0m \u001b[0;34m**\u001b[0m\u001b[0mkwds\u001b[0m\u001b[0;34m)\u001b[0m\u001b[0;34m\u001b[0m\u001b[0;34m\u001b[0m\u001b[0m\n\u001b[0m\u001b[1;32m   2011\u001b[0m         \u001b[0mself\u001b[0m\u001b[0;34m.\u001b[0m\u001b[0munnamed_cols\u001b[0m \u001b[0;34m=\u001b[0m \u001b[0mself\u001b[0m\u001b[0;34m.\u001b[0m\u001b[0m_reader\u001b[0m\u001b[0;34m.\u001b[0m\u001b[0munnamed_cols\u001b[0m\u001b[0;34m\u001b[0m\u001b[0;34m\u001b[0m\u001b[0m\n\u001b[1;32m   2012\u001b[0m \u001b[0;34m\u001b[0m\u001b[0m\n",
      "\u001b[0;32mpandas/_libs/parsers.pyx\u001b[0m in \u001b[0;36mpandas._libs.parsers.TextReader.__cinit__\u001b[0;34m()\u001b[0m\n",
      "\u001b[0;32mpandas/_libs/parsers.pyx\u001b[0m in \u001b[0;36mpandas._libs.parsers.TextReader._get_header\u001b[0;34m()\u001b[0m\n",
      "\u001b[0;32mpandas/_libs/parsers.pyx\u001b[0m in \u001b[0;36mpandas._libs.parsers.TextReader._tokenize_rows\u001b[0;34m()\u001b[0m\n",
      "\u001b[0;32mpandas/_libs/parsers.pyx\u001b[0m in \u001b[0;36mpandas._libs.parsers.raise_parser_error\u001b[0;34m()\u001b[0m\n",
      "\u001b[0;31mParserError\u001b[0m: Error tokenizing data. C error: Calling read(nbytes) on source failed. Try engine='python'."
     ]
    }
   ],
   "source": [
    "\n",
    "path = '../data' # use your path\n",
    "all_files = glob.glob(path + \"/*.zip\")\n",
    "all_files = all_files[9:12]\n",
    "\n",
    "li = []\n",
    "i = 0\n",
    "for filename in all_files:\n",
    "    df = pd.read_csv(filename, index_col=None, header=0)\n",
    "    print(i)\n",
    "    i+=1\n",
    "    li.append(df)\n",
    "\n",
    "data4 = pd.concat(li, axis=0, ignore_index=True)"
   ]
  },
  {
   "cell_type": "code",
   "execution_count": null,
   "metadata": {
    "tags": [
     "block:joindata",
     "prev:mergedata1",
     "prev:mergedata3",
     "prev:mergedata2",
     "prev:mergedata4"
    ]
   },
   "outputs": [],
   "source": [
    "data = pd.concat([\n",
    "    #data1,data2,\n",
    "                  data3,data4], axis=0, ignore_index=True)\n",
    "#data = pd.concat([data1,data2,data3,data4], axis=0, ignore_index=True)"
   ]
  },
  {
   "cell_type": "code",
   "execution_count": 87,
   "metadata": {
    "tags": [
     "block:prepare1",
     "prev:joindata"
    ]
   },
   "outputs": [],
   "source": [
    "data = pd.read_csv('../data/201912-citibike-tripdata.csv.zip')"
   ]
  },
  {
   "cell_type": "code",
   "execution_count": 88,
   "metadata": {
    "tags": []
   },
   "outputs": [],
   "source": [
    "#Creación de la columna trip_id\n",
    "\n",
    "#generamos los ID's\n",
    "n = len(data.index)\n",
    "digits_range = range(1345,n + 1345)\n",
    "digits_list = list(digits_range)\n",
    "\n",
    "#Agreagamos la columna al df\n",
    "data['trip_id'] = digits_list"
   ]
  },
  {
   "cell_type": "code",
   "execution_count": 89,
   "metadata": {
    "tags": []
   },
   "outputs": [],
   "source": [
    "#Se obtienen las filas que tienen como usertype \"Customer\"\n",
    "subset_c = data.loc[data['usertype'] == 'Customer']\n",
    "\n",
    "#Se obtienen las filas que tienen como usertype \"Subscriber\"\n",
    "subset_s = data.loc[data['usertype'] == 'Subscriber']"
   ]
  },
  {
   "cell_type": "code",
   "execution_count": 90,
   "metadata": {
    "tags": []
   },
   "outputs": [
    {
     "name": "stdout",
     "output_type": "stream",
     "text": [
      "Numero de pases en diciembre de 1 día 24529\n",
      "Numero de pases en diciembre de un viaje sencillo 53096\n"
     ]
    },
    {
     "data": {
      "text/plain": [
       "77625"
      ]
     },
     "execution_count": 90,
     "metadata": {},
     "output_type": "execute_result"
    }
   ],
   "source": [
    "subset_c.shape[0]\n",
    "\n",
    "#Número de pases de 1 día\n",
    "single_trip = round(subset_c.shape[0]*.684)\n",
    "\n",
    "#Número de pases de 3 días\n",
    "one_day = subset_c.shape[0] - single_trip\n",
    "\n",
    "print(\"Numero de pases en diciembre de 1 día\",one_day )\n",
    "print(\"Numero de pases en diciembre de un viaje sencillo\",single_trip )\n",
    "one_day + single_trip"
   ]
  },
  {
   "cell_type": "code",
   "execution_count": 91,
   "metadata": {
    "tags": []
   },
   "outputs": [
    {
     "name": "stderr",
     "output_type": "stream",
     "text": [
      "/usr/local/lib/python3.6/dist-packages/ipykernel_launcher.py:3: SettingWithCopyWarning: \n",
      "A value is trying to be set on a copy of a slice from a DataFrame.\n",
      "Try using .loc[row_indexer,col_indexer] = value instead\n",
      "\n",
      "See the caveats in the documentation: https://pandas.pydata.org/pandas-docs/stable/user_guide/indexing.html#returning-a-view-versus-a-copy\n",
      "  This is separate from the ipykernel package so we can avoid doing imports until\n"
     ]
    }
   ],
   "source": [
    "\n",
    "#Creación de columna auxiliar para separar los pases de Costumer en 2\n",
    "c_n = len(subset_c.index)\n",
    "subset_c['aux']=np.random.binomial(1,.684,c_n)"
   ]
  },
  {
   "cell_type": "code",
   "execution_count": 92,
   "metadata": {
    "tags": []
   },
   "outputs": [
    {
     "data": {
      "text/plain": [
       "77625"
      ]
     },
     "execution_count": 92,
     "metadata": {},
     "output_type": "execute_result"
    }
   ],
   "source": [
    "c_n\n"
   ]
  },
  {
   "cell_type": "code",
   "execution_count": 93,
   "metadata": {
    "tags": []
   },
   "outputs": [
    {
     "name": "stderr",
     "output_type": "stream",
     "text": [
      "/usr/local/lib/python3.6/dist-packages/ipykernel_launcher.py:2: SettingWithCopyWarning: \n",
      "A value is trying to be set on a copy of a slice from a DataFrame.\n",
      "Try using .loc[row_indexer,col_indexer] = value instead\n",
      "\n",
      "See the caveats in the documentation: https://pandas.pydata.org/pandas-docs/stable/user_guide/indexing.html#returning-a-view-versus-a-copy\n",
      "  \n",
      "/usr/local/lib/python3.6/dist-packages/ipykernel_launcher.py:6: SettingWithCopyWarning: \n",
      "A value is trying to be set on a copy of a slice from a DataFrame.\n",
      "Try using .loc[row_indexer,col_indexer] = value instead\n",
      "\n",
      "See the caveats in the documentation: https://pandas.pydata.org/pandas-docs/stable/user_guide/indexing.html#returning-a-view-versus-a-copy\n",
      "  \n"
     ]
    },
    {
     "data": {
      "text/plain": [
       "(955210, 17)"
      ]
     },
     "execution_count": 93,
     "metadata": {},
     "output_type": "execute_result"
    }
   ],
   "source": [
    "#Creación de columna con el nombre de los pases nuevos\n",
    "subset_c['type_pass'] = np.where(subset_c['aux'] == 1, \"single_trip\", \"one_day\")\n",
    "#Borramos la columa auxiliar\n",
    "del subset_c['aux']\n",
    "\n",
    "subset_s['type_pass']='annual'\n",
    "#Juntamos los dos dataframes\n",
    "data = subset_s.append(subset_c, ignore_index=True)\n",
    "data.shape"
   ]
  },
  {
   "cell_type": "code",
   "execution_count": 94,
   "metadata": {
    "tags": []
   },
   "outputs": [
    {
     "name": "stderr",
     "output_type": "stream",
     "text": [
      "/usr/local/lib/python3.6/dist-packages/ipykernel_launcher.py:4: SettingWithCopyWarning: \n",
      "A value is trying to be set on a copy of a slice from a DataFrame.\n",
      "Try using .loc[row_indexer,col_indexer] = value instead\n",
      "\n",
      "See the caveats in the documentation: https://pandas.pydata.org/pandas-docs/stable/user_guide/indexing.html#returning-a-view-versus-a-copy\n",
      "  after removing the cwd from sys.path.\n"
     ]
    }
   ],
   "source": [
    "#Se obtienen las filas que tienen como usertype \"Customer\"\n",
    "subset_s = data.loc[data['type_pass'] == 'single_trip']\n",
    "\n",
    "subset_s['trip_category']='one-way'\n",
    "\n",
    "subset_o = data.drop(subset_s.index)"
   ]
  },
  {
   "cell_type": "code",
   "execution_count": 95,
   "metadata": {
    "tags": []
   },
   "outputs": [],
   "source": [
    "#Creación de una columna nueva : trip_category\n",
    "o_n = len(subset_o)\n",
    "subset_o['aux']=np.random.binomial(1,.192,o_n)\n",
    "\n",
    "subset_o['trip_category'] = np.where(subset_o['aux'] == 1, \"round-trip\", \"one-way\")\n",
    "#Borramos la columa auxiliar\n",
    "del subset_o['aux']"
   ]
  },
  {
   "cell_type": "code",
   "execution_count": 96,
   "metadata": {
    "tags": []
   },
   "outputs": [
    {
     "data": {
      "text/plain": [
       "(955210, 18)"
      ]
     },
     "execution_count": 96,
     "metadata": {},
     "output_type": "execute_result"
    }
   ],
   "source": [
    "#Juntamos los dos dataframes\n",
    "data = subset_s.append(subset_o, ignore_index=True)\n",
    "data.shape"
   ]
  },
  {
   "cell_type": "code",
   "execution_count": 97,
   "metadata": {
    "tags": []
   },
   "outputs": [],
   "source": [
    "#Convertimos la duración a minutos\n",
    "data['duration'] = round(data['tripduration']/60)"
   ]
  },
  {
   "cell_type": "code",
   "execution_count": 98,
   "metadata": {
    "tags": []
   },
   "outputs": [],
   "source": [
    "data['starttime'] = pd.to_datetime(data['starttime']).dt.strftime('%Y-%m-%d %H:%M')\n",
    "data['stoptime'] = pd.to_datetime(data['stoptime']).dt.strftime('%Y-%m-%d %H:%M')"
   ]
  },
  {
   "cell_type": "code",
   "execution_count": 99,
   "metadata": {
    "tags": [
     "block:clean1",
     "prev:prepare1"
    ]
   },
   "outputs": [],
   "source": [
    "data_ = data.copy()"
   ]
  },
  {
   "cell_type": "code",
   "execution_count": 100,
   "metadata": {
    "tags": []
   },
   "outputs": [],
   "source": [
    "# remove spaces in column names\n",
    "data_.columns = data_.columns.str.replace(' ', '_')"
   ]
  },
  {
   "cell_type": "code",
   "execution_count": 101,
   "metadata": {
    "tags": []
   },
   "outputs": [],
   "source": [
    "# Change to lower categorical variables\n",
    "cambiar_minusculas_variable(data_,'start_station_name')\n",
    "cambiar_minusculas_variable(data_,'end_station_name')\n",
    "cambiar_minusculas_variable(data_,'usertype')\n",
    "cambiar_minusculas_variable(data_,'type_pass')\n",
    "cambiar_minusculas_variable(data_,'trip_category')"
   ]
  },
  {
   "cell_type": "code",
   "execution_count": 102,
   "metadata": {
    "tags": []
   },
   "outputs": [],
   "source": [
    "# Converting start and end times to datetime objects.\n",
    "data_['starttime'] = pd.to_datetime(data_['starttime'])\n",
    "data_['stoptime'] = pd.to_datetime(data_['stoptime'])"
   ]
  },
  {
   "cell_type": "code",
   "execution_count": 103,
   "metadata": {
    "tags": []
   },
   "outputs": [],
   "source": [
    "# Create label for rides that were charged based on current pricing plan.\n",
    "def label_charged(duration):\n",
    "    \"\"\"\"Function to create a new catergorical variable that indicate if theres has to be an adittional charge\"\"\"\n",
    "    if duration <= 30:\n",
    "        return 0\n",
    "    else:\n",
    "        return 1\n",
    "\n",
    "data_['charged_ride'] = data_['duration'].apply(label_charged)"
   ]
  },
  {
   "cell_type": "code",
   "execution_count": 104,
   "metadata": {
    "tags": []
   },
   "outputs": [],
   "source": [
    "# Column for hour of day of ride.\n",
    "data_['start_hour'] = data_['starttime'].dt.hour"
   ]
  },
  {
   "cell_type": "code",
   "execution_count": 105,
   "metadata": {
    "tags": []
   },
   "outputs": [
    {
     "data": {
      "text/plain": [
       "Timestamp('2020-01-17 20:00:00')"
      ]
     },
     "execution_count": 105,
     "metadata": {},
     "output_type": "execute_result"
    }
   ],
   "source": [
    "latest_ride_date = data_['stoptime'].max()\n",
    "latest_ride_date"
   ]
  },
  {
   "cell_type": "code",
   "execution_count": 106,
   "metadata": {
    "tags": []
   },
   "outputs": [],
   "source": [
    "bike_last_used_id = bike_last_used = data_.groupby('bikeid')['stoptime'].max().keys().tolist()\n",
    "bike_last_used_date = data_.groupby('bikeid')['stoptime'].max().tolist()"
   ]
  },
  {
   "cell_type": "code",
   "execution_count": 107,
   "metadata": {
    "tags": []
   },
   "outputs": [
    {
     "name": "stdout",
     "output_type": "stream",
     "text": [
      "1 12454\n",
      "2 13816\n",
      "3 13816\n",
      "4 13816\n",
      "5 13816\n",
      "6 13816\n",
      "7 13816\n",
      "8 13816\n",
      "9 13816\n",
      "10 13816\n",
      "11 13816\n",
      "12 13816\n"
     ]
    }
   ],
   "source": [
    "# Number of bikes active each month in the past year.\n",
    "for month in range(1,13):\n",
    "    print(month, len([record for record in list(zip(bike_last_used_id,bike_last_used_date)) if \n",
    "                      record[1] > latest_ride_date + np.timedelta64(-month, 'M') ]))"
   ]
  },
  {
   "cell_type": "code",
   "execution_count": 108,
   "metadata": {
    "tags": []
   },
   "outputs": [
    {
     "data": {
      "text/plain": [
       "0"
      ]
     },
     "execution_count": 108,
     "metadata": {},
     "output_type": "execute_result"
    }
   ],
   "source": [
    "# Number of inactive bikes (bikes that haven't been used in the past 6 months)\n",
    "len([record for record in list(zip(bike_last_used_id,bike_last_used_date)) if \n",
    "     record[1] < latest_ride_date + np.timedelta64(-6, 'M') ])"
   ]
  },
  {
   "cell_type": "code",
   "execution_count": 109,
   "metadata": {
    "tags": []
   },
   "outputs": [],
   "source": [
    "# Create feature indicating active bikes, used in past 6 months. 1 if active, 0 if inactive.\n",
    "inactive_ids = [record[0] for record in list(zip(bike_last_used_id,bike_last_used_date)) if \n",
    "                record[1] < latest_ride_date + np.timedelta64(-6, 'M') ]\n",
    "data_['active_6m'] = data_['bikeid'].apply(lambda bike_id: 0 if bike_id in (inactive_ids) else 1)"
   ]
  },
  {
   "cell_type": "code",
   "execution_count": 110,
   "metadata": {
    "tags": []
   },
   "outputs": [],
   "source": [
    "#Select variables to modeling\n",
    "data_ = data_ [[\"trip_id\", \"duration\",\"starttime\", \"stoptime\", \"trip_category\", \"type_pass\"]]"
   ]
  },
  {
   "cell_type": "code",
   "execution_count": 111,
   "metadata": {
    "tags": []
   },
   "outputs": [],
   "source": [
    "del data\n",
    "data_model = data_\n",
    "del data_"
   ]
  },
  {
   "cell_type": "code",
   "execution_count": 112,
   "metadata": {
    "tags": [
     "block:prep4experiments",
     "prev:clean1"
    ]
   },
   "outputs": [],
   "source": [
    "# Create dummy variables for passholder type.\n",
    "one_hot_pass = pd.get_dummies(data_model['type_pass'])\n",
    "\n",
    "# Create dummy variables for trip route category.\n",
    "one_hot_trip_type = pd.get_dummies(data_model['trip_category'])\n",
    "\n",
    "data_model = data_model.join([one_hot_pass, one_hot_trip_type])"
   ]
  },
  {
   "cell_type": "code",
   "execution_count": 114,
   "metadata": {
    "tags": []
   },
   "outputs": [],
   "source": [
    "# Creates feature for 30-45 minute blocks that walk-up users have to pay for.\n",
    "# Creates another feature for 15 minute blocks for passholders that exclude first 30 or 45 minute block.\n",
    "data_model['time_block_count'] = data_model['duration'].apply(lambda row: \\\n",
    "                                                                        math.ceil(data_model['duration'][row]/45) if data_model['type_pass'][row] == 'annual' \n",
    "                                                                        else math.ceil(data_model['duration'][row]/30))\n",
    "data_model['time_block_count_post_free'] = data_model['duration'].apply(lambda row: \\\n",
    "                                                                        max(math.ceil(data_model['duration'][row]/15)-3,0) if data_model['type_pass'][row] == 'annual' \n",
    "                                                                        else max(math.ceil(data_model['duration'][row]/15)-2,0))"
   ]
  },
  {
   "cell_type": "code",
   "execution_count": 56,
   "metadata": {},
   "outputs": [],
   "source": [
    "from scipy import stats\n",
    "data_model = data_model[(np.abs(stats.zscore(data_model['time_block_count_post_free'])) < 3)]"
   ]
  },
  {
   "cell_type": "code",
   "execution_count": 67,
   "metadata": {
    "tags": []
   },
   "outputs": [
    {
     "data": {
      "text/html": [
       "<div>\n",
       "<style scoped>\n",
       "    .dataframe tbody tr th:only-of-type {\n",
       "        vertical-align: middle;\n",
       "    }\n",
       "\n",
       "    .dataframe tbody tr th {\n",
       "        vertical-align: top;\n",
       "    }\n",
       "\n",
       "    .dataframe thead th {\n",
       "        text-align: right;\n",
       "    }\n",
       "</style>\n",
       "<table border=\"1\" class=\"dataframe\">\n",
       "  <thead>\n",
       "    <tr style=\"text-align: right;\">\n",
       "      <th></th>\n",
       "      <th>total_trips</th>\n",
       "      <th>total_free_blocks</th>\n",
       "      <th>total_15min_blocks_post_free</th>\n",
       "      <th>total_minutes</th>\n",
       "    </tr>\n",
       "    <tr>\n",
       "      <th>type_pass</th>\n",
       "      <th></th>\n",
       "      <th></th>\n",
       "      <th></th>\n",
       "      <th></th>\n",
       "    </tr>\n",
       "  </thead>\n",
       "  <tbody>\n",
       "    <tr>\n",
       "      <th>single</th>\n",
       "      <td>871752</td>\n",
       "      <td>1144046</td>\n",
       "      <td>269785</td>\n",
       "      <td>10327476.0</td>\n",
       "    </tr>\n",
       "    <tr>\n",
       "      <th>annualy</th>\n",
       "      <td>23945</td>\n",
       "      <td>69558</td>\n",
       "      <td>4208</td>\n",
       "      <td>879608.0</td>\n",
       "    </tr>\n",
       "    <tr>\n",
       "      <th>daily</th>\n",
       "      <td>52423</td>\n",
       "      <td>142678</td>\n",
       "      <td>9175</td>\n",
       "      <td>1782613.0</td>\n",
       "    </tr>\n",
       "  </tbody>\n",
       "</table>\n",
       "</div>"
      ],
      "text/plain": [
       "           total_trips  total_free_blocks  total_15min_blocks_post_free  \\\n",
       "type_pass                                                                 \n",
       "single          871752            1144046                        269785   \n",
       "annualy          23945              69558                          4208   \n",
       "daily            52423             142678                          9175   \n",
       "\n",
       "           total_minutes  \n",
       "type_pass                 \n",
       "single        10327476.0  \n",
       "annualy         879608.0  \n",
       "daily          1782613.0  "
      ]
     },
     "execution_count": 67,
     "metadata": {},
     "output_type": "execute_result"
    }
   ],
   "source": [
    "pass_groups = data_model.groupby('type_pass')\n",
    "pass_groups.groups.keys()\n",
    "\n",
    "agg_pass_groups = pass_groups.agg({\n",
    "    'trip_id' : 'count',\n",
    "    'time_block_count' : 'sum',\n",
    "    'time_block_count_post_free' : 'sum',\n",
    "    'duration' : 'sum'\n",
    "}).rename(columns = {\n",
    "    'trip_id' : 'total_trips',\n",
    "    'time_block_count' : 'total_free_blocks',\n",
    "    'time_block_count_post_free' : 'total_15min_blocks_post_free',\n",
    "    'duration' : 'total_minutes'\n",
    "}).reset_index()\n",
    "\n",
    "agg_pass_groups['type_pass'] = ['single','annualy','daily']\n",
    "agg_pass_groups.index = agg_pass_groups['type_pass']\n",
    "agg_pass_groups = agg_pass_groups.drop('type_pass',1)\n",
    "agg_pass_groups"
   ]
  },
  {
   "cell_type": "code",
   "execution_count": 68,
   "metadata": {
    "tags": [
     "block:prep",
     "prev:prep4experiments"
    ]
   },
   "outputs": [
    {
     "name": "stdout",
     "output_type": "stream",
     "text": [
      " Rides per day required for daily pass: 4.285714285714286 \n",
      " Rides per year required for annual pass: 51.42857142857143\n"
     ]
    }
   ],
   "source": [
    "\n",
    "### ASSUMPTIONS\n",
    "# Passes sold = Total rides / Rides to break even\n",
    "price_wo_pass = 3.5\n",
    "price_w_pass_day = 0\n",
    "price_w_pass_annual = 0\n",
    "\n",
    "# Average difference between passholders and walk-up riders across previous and current pricing.\n",
    "# This is represented by the difference in prices per 30 minute block since pass holders get the first 30 minutes free.\n",
    "# As current data is from before the price change, previous prices are used to estimate number of passes.\n",
    "\n",
    "day_diff = price_wo_pass - price_w_pass_day\n",
    "annual_diff = price_wo_pass - price_w_pass_annual\n",
    "\n",
    "# Prices of passes.\n",
    "\n",
    "day_pass_price = 15\n",
    "annual_pass_price = 180\n",
    "\n",
    "# Estimated rides required for breakeven.\n",
    "\n",
    "rides_day_pass_estimate = day_pass_price / day_diff\n",
    "rides_annual_pass_estimate = annual_pass_price / annual_diff\n",
    "\n",
    "print(\" Rides per day required for daily pass:\",rides_day_pass_estimate,'\\n', \n",
    "      \"Rides per year required for annual pass:\", rides_annual_pass_estimate)"
   ]
  },
  {
   "cell_type": "code",
   "execution_count": 69,
   "metadata": {
    "tags": []
   },
   "outputs": [
    {
     "name": "stdout",
     "output_type": "stream",
     "text": [
      "Rides per day required for daily pass (scaled): 5.999999999999999 \n",
      " Rides per year required for annual pass (scaled): 72.0\n"
     ]
    }
   ],
   "source": [
    "rides_day_pass_estimate *= 1.4\n",
    "\n",
    "rides_annual_pass_estimate *= 1.4\n",
    "\n",
    "print(\"Rides per day required for daily pass (scaled):\",rides_day_pass_estimate,'\\n', \n",
    "      \"Rides per year required for annual pass (scaled):\", rides_annual_pass_estimate)"
   ]
  },
  {
   "cell_type": "code",
   "execution_count": 80,
   "metadata": {
    "tags": []
   },
   "outputs": [
    {
     "name": "stdout",
     "output_type": "stream",
     "text": [
      "Estimated passes sold for daily pass: 8738 \n",
      " Estimated passes sold for annual pass: 333 \n",
      " Total passes sold: 9071\n"
     ]
    }
   ],
   "source": [
    "# Divide total trips by rides required for breakeven per pass duration (day/month/year) to get estimated number\n",
    "# of passholders.\n",
    "\n",
    "passes_sold_day = math.ceil(agg_pass_groups.loc['daily','total_trips']/rides_day_pass_estimate)\n",
    "passes_sold_annual = math.ceil(agg_pass_groups.loc['annualy','total_trips']/rides_annual_pass_estimate)\n",
    "passes_sold_total = passes_sold_day + passes_sold_annual\n",
    "\n",
    "agg_pass_groups['passes_sold'] = [0, passes_sold_annual, passes_sold_day]\n",
    "\n",
    "print(\"Estimated passes sold for daily pass:\",passes_sold_day,'\\n', \n",
    "      \"Estimated passes sold for annual pass:\", passes_sold_annual,'\\n',\n",
    "     \"Total passes sold:\", passes_sold_total)"
   ]
  },
  {
   "cell_type": "code",
   "execution_count": 82,
   "metadata": {
    "tags": [
     "block:exp1",
     "prev:prep"
    ]
   },
   "outputs": [
    {
     "data": {
      "text/html": [
       "<div>\n",
       "<style scoped>\n",
       "    .dataframe tbody tr th:only-of-type {\n",
       "        vertical-align: middle;\n",
       "    }\n",
       "\n",
       "    .dataframe tbody tr th {\n",
       "        vertical-align: top;\n",
       "    }\n",
       "\n",
       "    .dataframe thead th {\n",
       "        text-align: right;\n",
       "    }\n",
       "</style>\n",
       "<table border=\"1\" class=\"dataframe\">\n",
       "  <thead>\n",
       "    <tr style=\"text-align: right;\">\n",
       "      <th></th>\n",
       "      <th>total_trips</th>\n",
       "      <th>total_free_blocks</th>\n",
       "      <th>total_15min_blocks_post_free</th>\n",
       "      <th>total_minutes</th>\n",
       "      <th>passes_sold</th>\n",
       "      <th>new_pass_prices</th>\n",
       "      <th>average_charged_blocks_per_ride</th>\n",
       "      <th>percent_total_trips</th>\n",
       "    </tr>\n",
       "    <tr>\n",
       "      <th>type_pass</th>\n",
       "      <th></th>\n",
       "      <th></th>\n",
       "      <th></th>\n",
       "      <th></th>\n",
       "      <th></th>\n",
       "      <th></th>\n",
       "      <th></th>\n",
       "      <th></th>\n",
       "    </tr>\n",
       "  </thead>\n",
       "  <tbody>\n",
       "    <tr>\n",
       "      <th>single</th>\n",
       "      <td>871752</td>\n",
       "      <td>1144046</td>\n",
       "      <td>269785</td>\n",
       "      <td>10327476.0</td>\n",
       "      <td>0</td>\n",
       "      <td>0</td>\n",
       "      <td>0.309474</td>\n",
       "      <td>0.919453</td>\n",
       "    </tr>\n",
       "    <tr>\n",
       "      <th>annualy</th>\n",
       "      <td>23945</td>\n",
       "      <td>69558</td>\n",
       "      <td>4208</td>\n",
       "      <td>879608.0</td>\n",
       "      <td>333</td>\n",
       "      <td>180</td>\n",
       "      <td>0.175736</td>\n",
       "      <td>0.025255</td>\n",
       "    </tr>\n",
       "    <tr>\n",
       "      <th>daily</th>\n",
       "      <td>52423</td>\n",
       "      <td>142678</td>\n",
       "      <td>9175</td>\n",
       "      <td>1782613.0</td>\n",
       "      <td>8738</td>\n",
       "      <td>15</td>\n",
       "      <td>0.175019</td>\n",
       "      <td>0.055292</td>\n",
       "    </tr>\n",
       "  </tbody>\n",
       "</table>\n",
       "</div>"
      ],
      "text/plain": [
       "           total_trips  total_free_blocks  total_15min_blocks_post_free  \\\n",
       "type_pass                                                                 \n",
       "single          871752            1144046                        269785   \n",
       "annualy          23945              69558                          4208   \n",
       "daily            52423             142678                          9175   \n",
       "\n",
       "           total_minutes  passes_sold  new_pass_prices  \\\n",
       "type_pass                                                \n",
       "single        10327476.0            0                0   \n",
       "annualy         879608.0          333              180   \n",
       "daily          1782613.0         8738               15   \n",
       "\n",
       "           average_charged_blocks_per_ride  percent_total_trips  \n",
       "type_pass                                                        \n",
       "single                            0.309474             0.919453  \n",
       "annualy                           0.175736             0.025255  \n",
       "daily                             0.175019             0.055292  "
      ]
     },
     "execution_count": 82,
     "metadata": {},
     "output_type": "execute_result"
    }
   ],
   "source": [
    "agg_pass_groups['new_pass_prices'] = [0, 180, 15]\n",
    "agg_pass_groups['average_charged_blocks_per_ride'] = agg_pass_groups['total_15min_blocks_post_free'] / agg_pass_groups['total_trips']\n",
    "agg_pass_groups['percent_total_trips'] = agg_pass_groups['total_trips']/sum(agg_pass_groups['total_trips'])\n",
    "agg_pass_groups"
   ]
  },
  {
   "cell_type": "code",
   "execution_count": 83,
   "metadata": {
    "tags": []
   },
   "outputs": [
    {
     "name": "stdout",
     "output_type": "stream",
     "text": [
      "Total revenue: $ 963703.9\n"
     ]
    }
   ],
   "source": [
    "current_tot_rev = (4 * agg_pass_groups['total_15min_blocks_post_free']['daily']\n",
    "                   + 2.7 * agg_pass_groups['total_15min_blocks_post_free']['single']\n",
    "                   + 1.8 * agg_pass_groups['total_15min_blocks_post_free']['annualy']\n",
    "                   + sum(agg_pass_groups['passes_sold'] * agg_pass_groups['new_pass_prices']))\n",
    "print('Total revenue: $', current_tot_rev)"
   ]
  },
  {
   "cell_type": "code",
   "execution_count": 84,
   "metadata": {
    "tags": []
   },
   "outputs": [],
   "source": [
    "#Se declaran los precios\n",
    "previous_walk_up = 3.5\n",
    "previous_pass_daily = 2.7\n",
    "previous_pass_annualy = 1.8\n",
    "\n",
    "lhs_eq = [[0, 1, 1, 0, 0],\n",
    "          [0, 0, 0, 1, 1]]\n",
    "rhs_eq = [1, 1]"
   ]
  },
  {
   "cell_type": "code",
   "execution_count": 77,
   "metadata": {
    "tags": []
   },
   "outputs": [
    {
     "data": {
      "text/html": [
       "<div>\n",
       "<style scoped>\n",
       "    .dataframe tbody tr th:only-of-type {\n",
       "        vertical-align: middle;\n",
       "    }\n",
       "\n",
       "    .dataframe tbody tr th {\n",
       "        vertical-align: top;\n",
       "    }\n",
       "\n",
       "    .dataframe thead th {\n",
       "        text-align: right;\n",
       "    }\n",
       "</style>\n",
       "<table border=\"1\" class=\"dataframe\">\n",
       "  <thead>\n",
       "    <tr style=\"text-align: right;\">\n",
       "      <th></th>\n",
       "      <th>total_trips</th>\n",
       "      <th>total_free_blocks</th>\n",
       "      <th>total_15min_blocks_post_free</th>\n",
       "      <th>total_minutes</th>\n",
       "      <th>passes_sold</th>\n",
       "      <th>new_pass_prices</th>\n",
       "      <th>average_charged_blocks_per_ride</th>\n",
       "      <th>percent_total_trips</th>\n",
       "    </tr>\n",
       "    <tr>\n",
       "      <th>type_pass</th>\n",
       "      <th></th>\n",
       "      <th></th>\n",
       "      <th></th>\n",
       "      <th></th>\n",
       "      <th></th>\n",
       "      <th></th>\n",
       "      <th></th>\n",
       "      <th></th>\n",
       "    </tr>\n",
       "  </thead>\n",
       "  <tbody>\n",
       "    <tr>\n",
       "      <th>single</th>\n",
       "      <td>871752</td>\n",
       "      <td>1144046</td>\n",
       "      <td>269785</td>\n",
       "      <td>10327476.0</td>\n",
       "      <td>333</td>\n",
       "      <td>0</td>\n",
       "      <td>0.309474</td>\n",
       "      <td>0.919453</td>\n",
       "    </tr>\n",
       "    <tr>\n",
       "      <th>annualy</th>\n",
       "      <td>23945</td>\n",
       "      <td>69558</td>\n",
       "      <td>4208</td>\n",
       "      <td>879608.0</td>\n",
       "      <td>8738</td>\n",
       "      <td>180</td>\n",
       "      <td>0.175736</td>\n",
       "      <td>0.025255</td>\n",
       "    </tr>\n",
       "    <tr>\n",
       "      <th>daily</th>\n",
       "      <td>52423</td>\n",
       "      <td>142678</td>\n",
       "      <td>9175</td>\n",
       "      <td>1782613.0</td>\n",
       "      <td>0</td>\n",
       "      <td>15</td>\n",
       "      <td>0.175019</td>\n",
       "      <td>0.055292</td>\n",
       "    </tr>\n",
       "  </tbody>\n",
       "</table>\n",
       "</div>"
      ],
      "text/plain": [
       "           total_trips  total_free_blocks  total_15min_blocks_post_free  \\\n",
       "type_pass                                                                 \n",
       "single          871752            1144046                        269785   \n",
       "annualy          23945              69558                          4208   \n",
       "daily            52423             142678                          9175   \n",
       "\n",
       "           total_minutes  passes_sold  new_pass_prices  \\\n",
       "type_pass                                                \n",
       "single        10327476.0          333                0   \n",
       "annualy         879608.0         8738              180   \n",
       "daily          1782613.0            0               15   \n",
       "\n",
       "           average_charged_blocks_per_ride  percent_total_trips  \n",
       "type_pass                                                        \n",
       "single                            0.309474             0.919453  \n",
       "annualy                           0.175736             0.025255  \n",
       "daily                             0.175019             0.055292  "
      ]
     },
     "execution_count": 77,
     "metadata": {},
     "output_type": "execute_result"
    }
   ],
   "source": [
    "agg_pass_groups"
   ]
  },
  {
   "cell_type": "code",
   "execution_count": 115,
   "metadata": {
    "tags": []
   },
   "outputs": [],
   "source": [
    "# Revenue for walk ups\n",
    "walk_up_rev_block = previous_walk_up * agg_pass_groups.loc['single','total_free_blocks']\n",
    "\n",
    "# Variable income.\n",
    "trip_rev_day_pass = agg_pass_groups.loc['daily', 'total_15min_blocks_post_free'] * previous_pass_daily\n",
    "trip_rev_annual_pass = agg_pass_groups.loc['annualy', 'total_15min_blocks_post_free'] * previous_pass_annualy\n",
    "\n",
    "# Revenue for pass sales is pass is cancelled.\n",
    "trip_rev_day_no_pass = agg_pass_groups.loc['daily', 'total_free_blocks'] * previous_pass_daily * 0.7\n",
    "trip_rev_annual_no_pass = agg_pass_groups.loc['annualy', 'total_free_blocks'] * previous_pass_annualy * 0.7\n",
    "\n",
    "# Revenue for sales of passes.\n",
    "pass_sales_rev_day = (agg_pass_groups.loc['daily','new_pass_prices'] \n",
    "                      * agg_pass_groups.loc['daily','passes_sold'])\n",
    "\n",
    "pass_sales_rev_annual = (agg_pass_groups.loc['annualy','new_pass_prices'] \n",
    "                         * agg_pass_groups.loc['annualy','passes_sold'])\n",
    "\n",
    "obj_1 = [-walk_up_rev_block, -(trip_rev_day_pass + pass_sales_rev_day), -trip_rev_day_no_pass, -(trip_rev_annual_pass + pass_sales_rev_annual), -trip_rev_annual_no_pass]"
   ]
  },
  {
   "cell_type": "code",
   "execution_count": 128,
   "metadata": {
    "tags": []
   },
   "outputs": [
    {
     "data": {
      "text/plain": [
       "[-4065407.5, -393576, -424505.19999999995, -248966.40000000002, -81141.48]"
      ]
     },
     "execution_count": 128,
     "metadata": {},
     "output_type": "execute_result"
    }
   ],
   "source": [
    "obj_1"
   ]
  },
  {
   "cell_type": "code",
   "execution_count": 117,
   "metadata": {
    "tags": []
   },
   "outputs": [],
   "source": [
    "x0_b = [0,1]\n",
    "x1_b = [0,1]\n",
    "x2_b = [0,1]\n",
    "x3_b = [0,1]\n",
    "x4_b = [0,1]"
   ]
  },
  {
   "cell_type": "code",
   "execution_count": 122,
   "metadata": {
    "tags": []
   },
   "outputs": [],
   "source": [
    "#pip install scipy"
   ]
  },
  {
   "cell_type": "code",
   "execution_count": 123,
   "metadata": {
    "tags": []
   },
   "outputs": [],
   "source": [
    "from scipy.optimize import linprog"
   ]
  },
  {
   "cell_type": "code",
   "execution_count": 124,
   "metadata": {
    "tags": []
   },
   "outputs": [],
   "source": [
    "opt_1 = linprog(c = obj_1, A_eq= lhs_eq, b_eq = rhs_eq, method=\"simplex\", bounds = (x0_b, x1_b,x2_b,x3_b,x4_b))"
   ]
  },
  {
   "cell_type": "code",
   "execution_count": 125,
   "metadata": {
    "tags": []
   },
   "outputs": [
    {
     "name": "stdout",
     "output_type": "stream",
     "text": [
      "     con: array([0., 0.])\n",
      "     fun: -4738879.100000001\n",
      " message: 'Optimization terminated successfully.'\n",
      "     nit: 9\n",
      "   slack: array([], dtype=float64)\n",
      "  status: 0\n",
      " success: True\n",
      "       x: array([1., 0., 1., 1., 0.])\n"
     ]
    }
   ],
   "source": [
    "print(opt_1)"
   ]
  },
  {
   "cell_type": "code",
   "execution_count": 126,
   "metadata": {
    "tags": []
   },
   "outputs": [
    {
     "name": "stdout",
     "output_type": "stream",
     "text": [
      "El valor de la función objetivo es  4738879.100000001\n",
      "Individual decision_variables:\n",
      "daily_no =  0.0\n",
      "daily_yes =  1.0\n",
      "annualy_no =  1.0\n",
      "annualy_yes =  0.0\n"
     ]
    }
   ],
   "source": [
    "print(\"El valor de la función objetivo es \", opt_1.fun * -1)\n",
    "print(\"Individual decision_variables:\")\n",
    "print(\"daily_no = \" , opt_1.x[1])\n",
    "print(\"daily_yes = \", opt_1.x[2])\n",
    "print(\"annualy_no = \", opt_1.x[3])\n",
    "print(\"annualy_yes = \", opt_1.x[4])"
   ]
  },
  {
   "cell_type": "code",
   "execution_count": 139,
   "metadata": {
    "tags": []
   },
   "outputs": [],
   "source": [
    "A = [[1, 1, 0, 0],\n",
    "    [0, 0, 1, 1]]\n",
    "b = [1, 1]\n",
    "c_aux_round = [round(num,0) for num in obj_1]\n",
    "c_aux =[ -x for x in c_aux_round]\n",
    "c = c_aux[1:len(c_aux)]"
   ]
  },
  {
   "cell_type": "code",
   "execution_count": 150,
   "metadata": {
    "tags": []
   },
   "outputs": [
    {
     "ename": "ModuleNotFoundError",
     "evalue": "No module named 'Simplex'",
     "output_type": "error",
     "traceback": [
      "\u001b[0;31m---------------------------------------------------------------------------\u001b[0m",
      "\u001b[0;31mModuleNotFoundError\u001b[0m                       Traceback (most recent call last)",
      "\u001b[0;32m<ipython-input-150-d58cc787992a>\u001b[0m in \u001b[0;36m<module>\u001b[0;34m\u001b[0m\n\u001b[0;32m----> 1\u001b[0;31m \u001b[0;32mimport\u001b[0m \u001b[0mSimplex\u001b[0m\u001b[0;34m\u001b[0m\u001b[0;34m\u001b[0m\u001b[0m\n\u001b[0m",
      "\u001b[0;31mModuleNotFoundError\u001b[0m: No module named 'Simplex'"
     ]
    }
   ],
   "source": [
    "import Simplex"
   ]
  },
  {
   "cell_type": "code",
   "execution_count": null,
   "metadata": {
    "tags": []
   },
   "outputs": [],
   "source": [
    "problema = Simplex.Simplex(c,A,b,problem='Max')\n",
    "method_result,opt,status = problema.solve()"
   ]
  },
  {
   "cell_type": "code",
   "execution_count": null,
   "metadata": {
    "tags": []
   },
   "outputs": [],
   "source": [
    "method_result"
   ]
  },
  {
   "cell_type": "code",
   "execution_count": null,
   "metadata": {
    "tags": []
   },
   "outputs": [],
   "source": [
    "opt-c_aux[0]"
   ]
  },
  {
   "cell_type": "code",
   "execution_count": null,
   "metadata": {
    "tags": [
     "block:exp2",
     "prev:prep"
    ]
   },
   "outputs": [],
   "source": [
    "agg_pass_groups['new_pass_prices'] = [150, 15, 0]\n",
    "agg_pass_groups['average_charged_blocks_per_ride'] = agg_pass_groups['total_30min_blocks_post_free'] / agg_pass_groups['total_trips']\n",
    "agg_pass_groups['percent_total_trips'] = agg_pass_groups['total_trips']/sum(agg_pass_groups['total_trips'])"
   ]
  },
  {
   "cell_type": "code",
   "execution_count": null,
   "metadata": {
    "tags": []
   },
   "outputs": [],
   "source": [
    "current_tot_rev = (4 * agg_pass_groups['total_30min_blocks_post_free']['daily']\n",
    "                   + 2.7 * agg_pass_groups['total_30min_blocks_post_free']['single']\n",
    "                   + 1.8 * agg_pass_groups['total_30min_blocks_post_free']['annualy']\n",
    "                   + sum(agg_pass_groups['passes_sold'] * agg_pass_groups['new_pass_prices']))\n",
    "print('Total revenue: $', current_tot_rev)"
   ]
  },
  {
   "cell_type": "code",
   "execution_count": null,
   "metadata": {
    "tags": []
   },
   "outputs": [],
   "source": [
    "#Se declaran los precios\n",
    "previous_walk_up = 3.5\n",
    "previous_pass_daily = 4\n",
    "previous_pass_annualy = 1.8\n",
    "\n",
    "lhs_eq = [[0, 1, 1, 0, 0],\n",
    "          [0, 0, 0, 1, 1]]\n",
    "rhs_eq = [1, 1]"
   ]
  },
  {
   "cell_type": "code",
   "execution_count": null,
   "metadata": {
    "tags": []
   },
   "outputs": [],
   "source": [
    "# Revenue for walk ups\n",
    "walk_up_rev_block = previous_walk_up * agg_pass_groups.loc['single','total_30min_blocks']\n",
    "\n",
    "# Revenue for pass sales.\n",
    "trip_rev_day_pass = agg_pass_groups.loc['daily', 'total_30min_blocks_post_free'] * previous_pass_daily\n",
    "trip_rev_annual_pass = agg_pass_groups.loc['annualy', 'total_30min_blocks'] * previous_pass_annualy\n",
    "\n",
    "# Revenue for pass sales is pass is cancelled.\n",
    "trip_rev_day_no_pass = agg_pass_groups.loc['daily', 'total_30min_blocks'] * previous_pass_daily * 0.7\n",
    "trip_rev_annual_no_pass = agg_pass_groups.loc['annualy', 'total_30min_blocks'] * previous_pass_annualy * 0.7\n",
    "\n",
    "# Revenue for sales of passes.\n",
    "pass_sales_rev_day = (agg_pass_groups.loc['daily','new_pass_prices'] \n",
    "                      * agg_pass_groups.loc['daily','passes_sold'])\n",
    "\n",
    "pass_sales_rev_annual = (agg_pass_groups.loc['annualy','new_pass_prices'] \n",
    "                         * agg_pass_groups.loc['annualy','passes_sold'])\n",
    "\n",
    "obj_1 = [-walk_up_rev_block, -(trip_rev_day_pass + pass_sales_rev_day), -trip_rev_day_no_pass, -(trip_rev_annual_pass + pass_sales_rev_annual), -trip_rev_annual_no_pass]"
   ]
  },
  {
   "cell_type": "code",
   "execution_count": null,
   "metadata": {
    "tags": []
   },
   "outputs": [],
   "source": [
    "x0_b = [0,1]\n",
    "x1_b = [0,1]\n",
    "x2_b = [0,1]\n",
    "x3_b = [0,1]\n",
    "x4_b = [0,1]"
   ]
  },
  {
   "cell_type": "code",
   "execution_count": null,
   "metadata": {
    "tags": []
   },
   "outputs": [],
   "source": [
    "from scipy.optimize import linprog"
   ]
  },
  {
   "cell_type": "code",
   "execution_count": null,
   "metadata": {
    "tags": []
   },
   "outputs": [],
   "source": [
    "opt_1 = linprog(c = obj_1, A_eq= lhs_eq, b_eq = rhs_eq, method=\"simplex\", bounds = (x0_b, x1_b,x2_b,x3_b,x4_b))"
   ]
  },
  {
   "cell_type": "code",
   "execution_count": null,
   "metadata": {
    "tags": []
   },
   "outputs": [],
   "source": [
    "print(opt_1)"
   ]
  },
  {
   "cell_type": "code",
   "execution_count": null,
   "metadata": {
    "tags": []
   },
   "outputs": [],
   "source": [
    "print(\"El valor de la función objetivo es \", opt_1.fun * -1)\n",
    "print(\"Individual decision_variables:\")\n",
    "print(\"daily_no = \" , opt_1.x[1])\n",
    "print(\"daily_yes = \", opt_1.x[2])\n",
    "print(\"annualy_no = \", opt_1.x[3])\n",
    "print(\"annualy_yes = \", opt_1.x[4])"
   ]
  },
  {
   "cell_type": "code",
   "execution_count": null,
   "metadata": {
    "tags": []
   },
   "outputs": [],
   "source": [
    "A = [[1, 1, 0, 0],\n",
    "    [0, 0, 1, 1]]\n",
    "b = [1, 1]\n",
    "c_aux_round = [round(num,0) for num in obj_1]\n",
    "c_aux =[ -x for x in c_aux_round]\n",
    "c = c_aux[1:len(c_aux)]"
   ]
  },
  {
   "cell_type": "code",
   "execution_count": null,
   "metadata": {
    "tags": []
   },
   "outputs": [],
   "source": [
    "import Simplex"
   ]
  },
  {
   "cell_type": "code",
   "execution_count": null,
   "metadata": {
    "tags": []
   },
   "outputs": [],
   "source": [
    "problema = Simplex.Simplex(c,A,b,problem='Max')\n",
    "method_result,opt,status = problema.solve()"
   ]
  },
  {
   "cell_type": "code",
   "execution_count": null,
   "metadata": {
    "tags": []
   },
   "outputs": [],
   "source": [
    "method_result"
   ]
  },
  {
   "cell_type": "code",
   "execution_count": null,
   "metadata": {
    "tags": []
   },
   "outputs": [],
   "source": [
    "opt-c_aux[0]"
   ]
  },
  {
   "cell_type": "code",
   "execution_count": null,
   "metadata": {
    "tags": [
     "block:exp3",
     "prev:prep"
    ]
   },
   "outputs": [],
   "source": [
    "agg_pass_groups['new_pass_prices'] = [150, 15, 0]\n",
    "agg_pass_groups['average_charged_blocks_per_ride'] = agg_pass_groups['total_30min_blocks_post_free'] / agg_pass_groups['total_trips']\n",
    "agg_pass_groups['percent_total_trips'] = agg_pass_groups['total_trips']/sum(agg_pass_groups['total_trips'])"
   ]
  },
  {
   "cell_type": "code",
   "execution_count": null,
   "metadata": {},
   "outputs": [],
   "source": [
    "current_tot_rev = (4 * agg_pass_groups['total_30min_blocks_post_free']['daily']\n",
    "                   + 2.7 * agg_pass_groups['total_30min_blocks_post_free']['single']\n",
    "                   + 1.8 * agg_pass_groups['total_30min_blocks_post_free']['annualy']\n",
    "                   + sum(agg_pass_groups['passes_sold'] * agg_pass_groups['new_pass_prices']))\n",
    "print('Total revenue: $', current_tot_rev)"
   ]
  },
  {
   "cell_type": "code",
   "execution_count": null,
   "metadata": {},
   "outputs": [],
   "source": [
    "#Se declaran los precios\n",
    "previous_walk_up = 3.5\n",
    "previous_pass_daily = 3\n",
    "previous_pass_annualy = 1.5\n",
    "\n",
    "lhs_eq = [[0, 1, 1, 0, 0],\n",
    "          [0, 0, 0, 1, 1]]\n",
    "rhs_eq = [1, 1]"
   ]
  },
  {
   "cell_type": "code",
   "execution_count": null,
   "metadata": {},
   "outputs": [],
   "source": [
    "# Revenue for walk ups\n",
    "walk_up_rev_block = previous_walk_up * agg_pass_groups.loc['single','total_30min_blocks']\n",
    "\n",
    "# Revenue for pass sales.\n",
    "trip_rev_day_pass = agg_pass_groups.loc['daily', 'total_30min_blocks_post_free'] * previous_pass_daily\n",
    "trip_rev_annual_pass = agg_pass_groups.loc['annualy', 'total_30min_blocks'] * previous_pass_annualy\n",
    "\n",
    "# Revenue for pass sales is pass is cancelled.\n",
    "trip_rev_day_no_pass = agg_pass_groups.loc['daily', 'total_30min_blocks'] * previous_pass_daily * 0.7\n",
    "trip_rev_annual_no_pass = agg_pass_groups.loc['annualy', 'total_30min_blocks'] * previous_pass_annualy * 0.7\n",
    "\n",
    "# Revenue for sales of passes.\n",
    "pass_sales_rev_day = (agg_pass_groups.loc['daily','new_pass_prices'] \n",
    "                      * agg_pass_groups.loc['daily','passes_sold'])\n",
    "\n",
    "pass_sales_rev_annual = (agg_pass_groups.loc['annualy','new_pass_prices'] \n",
    "                         * agg_pass_groups.loc['annualy','passes_sold'])\n",
    "\n",
    "obj_1 = [-walk_up_rev_block, -(trip_rev_day_pass + pass_sales_rev_day), -trip_rev_day_no_pass, -(trip_rev_annual_pass + pass_sales_rev_annual), -trip_rev_annual_no_pass]"
   ]
  },
  {
   "cell_type": "code",
   "execution_count": null,
   "metadata": {},
   "outputs": [],
   "source": [
    "x0_b = [0,1]\n",
    "x1_b = [0,1]\n",
    "x2_b = [0,1]\n",
    "x3_b = [0,1]\n",
    "x4_b = [0,1]"
   ]
  },
  {
   "cell_type": "code",
   "execution_count": null,
   "metadata": {},
   "outputs": [],
   "source": [
    "from scipy.optimize import linprog"
   ]
  },
  {
   "cell_type": "code",
   "execution_count": null,
   "metadata": {},
   "outputs": [],
   "source": [
    "opt_1 = linprog(c = obj_1, A_eq= lhs_eq, b_eq = rhs_eq, method=\"simplex\", bounds = (x0_b, x1_b,x2_b,x3_b,x4_b))"
   ]
  },
  {
   "cell_type": "code",
   "execution_count": null,
   "metadata": {},
   "outputs": [],
   "source": [
    "print(opt_1)"
   ]
  },
  {
   "cell_type": "code",
   "execution_count": null,
   "metadata": {},
   "outputs": [],
   "source": [
    "print(\"El valor de la función objetivo es \", opt_1.fun * -1)\n",
    "print(\"Individual decision_variables:\")\n",
    "print(\"daily_no = \" , opt_1.x[1])\n",
    "print(\"daily_yes = \", opt_1.x[2])\n",
    "print(\"annualy_no = \", opt_1.x[3])\n",
    "print(\"annualy_yes = \", opt_1.x[4])"
   ]
  },
  {
   "cell_type": "code",
   "execution_count": null,
   "metadata": {},
   "outputs": [],
   "source": [
    "A = [[1, 1, 0, 0],\n",
    "    [0, 0, 1, 1]]\n",
    "b = [1, 1]\n",
    "c_aux_round = [round(num,0) for num in obj_1]\n",
    "c_aux =[ -x for x in c_aux_round]\n",
    "c = c_aux[1:len(c_aux)]"
   ]
  },
  {
   "cell_type": "code",
   "execution_count": null,
   "metadata": {},
   "outputs": [],
   "source": [
    "import Simplex"
   ]
  },
  {
   "cell_type": "code",
   "execution_count": null,
   "metadata": {},
   "outputs": [],
   "source": [
    "problema = Simplex.Simplex(c,A,b,problem='Max')\n",
    "method_result,opt,status = problema.solve()"
   ]
  },
  {
   "cell_type": "code",
   "execution_count": null,
   "metadata": {},
   "outputs": [],
   "source": [
    "method_result"
   ]
  },
  {
   "cell_type": "code",
   "execution_count": null,
   "metadata": {},
   "outputs": [],
   "source": [
    "opt-c_aux[0]"
   ]
  }
 ],
 "metadata": {
  "kernelspec": {
   "display_name": "Python 3",
   "language": "python",
   "name": "python3"
  },
  "kubeflow_notebook": {
   "autosnapshot": false,
   "docker_image": "ferubio/pkg_optim_kale:0.1",
   "experiment": {
    "id": "new",
    "name": "cleandata"
   },
   "experiment_name": "cleandata",
   "katib_metadata": {
    "algorithm": {
     "algorithmName": "grid"
    },
    "maxFailedTrialCount": 3,
    "maxTrialCount": 12,
    "objective": {
     "objectiveMetricName": "",
     "type": "minimize"
    },
    "parallelTrialCount": 3,
    "parameters": []
   },
   "katib_run": false,
   "pipeline_description": "city bike optimization ",
   "pipeline_name": "citi-bike",
   "snapshot_volumes": false,
   "steps_defaults": [],
   "volume_access_mode": "rwm",
   "volumes": [
    {
     "annotations": [],
     "mount_point": "/shared_volume",
     "name": "hostpath-pvc",
     "size": 1,
     "size_type": "Gi",
     "snapshot": false,
     "snapshot_name": "",
     "type": "pvc"
    }
   ]
  },
  "language_info": {
   "codemirror_mode": {
    "name": "ipython",
    "version": 3
   },
   "file_extension": ".py",
   "mimetype": "text/x-python",
   "name": "python",
   "nbconvert_exporter": "python",
   "pygments_lexer": "ipython3",
   "version": "3.6.9"
  }
 },
 "nbformat": 4,
 "nbformat_minor": 4
}
